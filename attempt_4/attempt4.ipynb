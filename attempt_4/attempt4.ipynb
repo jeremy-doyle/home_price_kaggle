{
 "cells": [
  {
   "cell_type": "code",
   "execution_count": 1,
   "metadata": {
    "collapsed": false
   },
   "outputs": [],
   "source": [
    "import pandas as pd\n",
    "import numpy as np\n",
    "import scipy.stats \n",
    "from sklearn import preprocessing, decomposition, feature_selection, cross_validation, metrics\n",
    "from sklearn import cluster\n",
    "from sklearn import linear_model, svm, ensemble\n",
    "from sklearn.grid_search import GridSearchCV, RandomizedSearchCV\n",
    "import matplotlib.pyplot as plt\n",
    "import datetime"
   ]
  },
  {
   "cell_type": "markdown",
   "metadata": {},
   "source": [
    "# COLLECTING DATA"
   ]
  },
  {
   "cell_type": "code",
   "execution_count": 2,
   "metadata": {
    "collapsed": true
   },
   "outputs": [],
   "source": [
    "train = pd.read_csv('train.csv')\n",
    "test = pd.read_csv('test.csv')"
   ]
  },
  {
   "cell_type": "code",
   "execution_count": 3,
   "metadata": {
    "collapsed": false
   },
   "outputs": [
    {
     "data": {
      "text/html": [
       "<div>\n",
       "<table border=\"1\" class=\"dataframe\">\n",
       "  <thead>\n",
       "    <tr style=\"text-align: right;\">\n",
       "      <th></th>\n",
       "      <th>Id</th>\n",
       "      <th>MSSubClass</th>\n",
       "      <th>MSZoning</th>\n",
       "      <th>LotFrontage</th>\n",
       "      <th>LotArea</th>\n",
       "      <th>Street</th>\n",
       "      <th>Alley</th>\n",
       "      <th>LotShape</th>\n",
       "      <th>LandContour</th>\n",
       "      <th>Utilities</th>\n",
       "      <th>...</th>\n",
       "      <th>PoolArea</th>\n",
       "      <th>PoolQC</th>\n",
       "      <th>Fence</th>\n",
       "      <th>MiscFeature</th>\n",
       "      <th>MiscVal</th>\n",
       "      <th>MoSold</th>\n",
       "      <th>YrSold</th>\n",
       "      <th>SaleType</th>\n",
       "      <th>SaleCondition</th>\n",
       "      <th>SalePrice</th>\n",
       "    </tr>\n",
       "  </thead>\n",
       "  <tbody>\n",
       "    <tr>\n",
       "      <th>0</th>\n",
       "      <td>1</td>\n",
       "      <td>60</td>\n",
       "      <td>RL</td>\n",
       "      <td>65.0</td>\n",
       "      <td>8450</td>\n",
       "      <td>Pave</td>\n",
       "      <td>NaN</td>\n",
       "      <td>Reg</td>\n",
       "      <td>Lvl</td>\n",
       "      <td>AllPub</td>\n",
       "      <td>...</td>\n",
       "      <td>0</td>\n",
       "      <td>NaN</td>\n",
       "      <td>NaN</td>\n",
       "      <td>NaN</td>\n",
       "      <td>0</td>\n",
       "      <td>2</td>\n",
       "      <td>2008</td>\n",
       "      <td>WD</td>\n",
       "      <td>Normal</td>\n",
       "      <td>208500</td>\n",
       "    </tr>\n",
       "    <tr>\n",
       "      <th>1</th>\n",
       "      <td>2</td>\n",
       "      <td>20</td>\n",
       "      <td>RL</td>\n",
       "      <td>80.0</td>\n",
       "      <td>9600</td>\n",
       "      <td>Pave</td>\n",
       "      <td>NaN</td>\n",
       "      <td>Reg</td>\n",
       "      <td>Lvl</td>\n",
       "      <td>AllPub</td>\n",
       "      <td>...</td>\n",
       "      <td>0</td>\n",
       "      <td>NaN</td>\n",
       "      <td>NaN</td>\n",
       "      <td>NaN</td>\n",
       "      <td>0</td>\n",
       "      <td>5</td>\n",
       "      <td>2007</td>\n",
       "      <td>WD</td>\n",
       "      <td>Normal</td>\n",
       "      <td>181500</td>\n",
       "    </tr>\n",
       "    <tr>\n",
       "      <th>2</th>\n",
       "      <td>3</td>\n",
       "      <td>60</td>\n",
       "      <td>RL</td>\n",
       "      <td>68.0</td>\n",
       "      <td>11250</td>\n",
       "      <td>Pave</td>\n",
       "      <td>NaN</td>\n",
       "      <td>IR1</td>\n",
       "      <td>Lvl</td>\n",
       "      <td>AllPub</td>\n",
       "      <td>...</td>\n",
       "      <td>0</td>\n",
       "      <td>NaN</td>\n",
       "      <td>NaN</td>\n",
       "      <td>NaN</td>\n",
       "      <td>0</td>\n",
       "      <td>9</td>\n",
       "      <td>2008</td>\n",
       "      <td>WD</td>\n",
       "      <td>Normal</td>\n",
       "      <td>223500</td>\n",
       "    </tr>\n",
       "    <tr>\n",
       "      <th>3</th>\n",
       "      <td>4</td>\n",
       "      <td>70</td>\n",
       "      <td>RL</td>\n",
       "      <td>60.0</td>\n",
       "      <td>9550</td>\n",
       "      <td>Pave</td>\n",
       "      <td>NaN</td>\n",
       "      <td>IR1</td>\n",
       "      <td>Lvl</td>\n",
       "      <td>AllPub</td>\n",
       "      <td>...</td>\n",
       "      <td>0</td>\n",
       "      <td>NaN</td>\n",
       "      <td>NaN</td>\n",
       "      <td>NaN</td>\n",
       "      <td>0</td>\n",
       "      <td>2</td>\n",
       "      <td>2006</td>\n",
       "      <td>WD</td>\n",
       "      <td>Abnorml</td>\n",
       "      <td>140000</td>\n",
       "    </tr>\n",
       "    <tr>\n",
       "      <th>4</th>\n",
       "      <td>5</td>\n",
       "      <td>60</td>\n",
       "      <td>RL</td>\n",
       "      <td>84.0</td>\n",
       "      <td>14260</td>\n",
       "      <td>Pave</td>\n",
       "      <td>NaN</td>\n",
       "      <td>IR1</td>\n",
       "      <td>Lvl</td>\n",
       "      <td>AllPub</td>\n",
       "      <td>...</td>\n",
       "      <td>0</td>\n",
       "      <td>NaN</td>\n",
       "      <td>NaN</td>\n",
       "      <td>NaN</td>\n",
       "      <td>0</td>\n",
       "      <td>12</td>\n",
       "      <td>2008</td>\n",
       "      <td>WD</td>\n",
       "      <td>Normal</td>\n",
       "      <td>250000</td>\n",
       "    </tr>\n",
       "  </tbody>\n",
       "</table>\n",
       "<p>5 rows × 81 columns</p>\n",
       "</div>"
      ],
      "text/plain": [
       "   Id  MSSubClass MSZoning  LotFrontage  LotArea Street Alley LotShape  \\\n",
       "0   1          60       RL         65.0     8450   Pave   NaN      Reg   \n",
       "1   2          20       RL         80.0     9600   Pave   NaN      Reg   \n",
       "2   3          60       RL         68.0    11250   Pave   NaN      IR1   \n",
       "3   4          70       RL         60.0     9550   Pave   NaN      IR1   \n",
       "4   5          60       RL         84.0    14260   Pave   NaN      IR1   \n",
       "\n",
       "  LandContour Utilities    ...     PoolArea PoolQC Fence MiscFeature MiscVal  \\\n",
       "0         Lvl    AllPub    ...            0    NaN   NaN         NaN       0   \n",
       "1         Lvl    AllPub    ...            0    NaN   NaN         NaN       0   \n",
       "2         Lvl    AllPub    ...            0    NaN   NaN         NaN       0   \n",
       "3         Lvl    AllPub    ...            0    NaN   NaN         NaN       0   \n",
       "4         Lvl    AllPub    ...            0    NaN   NaN         NaN       0   \n",
       "\n",
       "  MoSold YrSold  SaleType  SaleCondition  SalePrice  \n",
       "0      2   2008        WD         Normal     208500  \n",
       "1      5   2007        WD         Normal     181500  \n",
       "2      9   2008        WD         Normal     223500  \n",
       "3      2   2006        WD        Abnorml     140000  \n",
       "4     12   2008        WD         Normal     250000  \n",
       "\n",
       "[5 rows x 81 columns]"
      ]
     },
     "execution_count": 3,
     "metadata": {},
     "output_type": "execute_result"
    }
   ],
   "source": [
    "train.head()"
   ]
  },
  {
   "cell_type": "code",
   "execution_count": 4,
   "metadata": {
    "collapsed": false
   },
   "outputs": [
    {
     "data": {
      "text/html": [
       "<div>\n",
       "<table border=\"1\" class=\"dataframe\">\n",
       "  <thead>\n",
       "    <tr style=\"text-align: right;\">\n",
       "      <th></th>\n",
       "      <th>Id</th>\n",
       "      <th>MSSubClass</th>\n",
       "      <th>MSZoning</th>\n",
       "      <th>LotFrontage</th>\n",
       "      <th>LotArea</th>\n",
       "      <th>Street</th>\n",
       "      <th>Alley</th>\n",
       "      <th>LotShape</th>\n",
       "      <th>LandContour</th>\n",
       "      <th>Utilities</th>\n",
       "      <th>...</th>\n",
       "      <th>ScreenPorch</th>\n",
       "      <th>PoolArea</th>\n",
       "      <th>PoolQC</th>\n",
       "      <th>Fence</th>\n",
       "      <th>MiscFeature</th>\n",
       "      <th>MiscVal</th>\n",
       "      <th>MoSold</th>\n",
       "      <th>YrSold</th>\n",
       "      <th>SaleType</th>\n",
       "      <th>SaleCondition</th>\n",
       "    </tr>\n",
       "  </thead>\n",
       "  <tbody>\n",
       "    <tr>\n",
       "      <th>0</th>\n",
       "      <td>1461</td>\n",
       "      <td>20</td>\n",
       "      <td>RH</td>\n",
       "      <td>80.0</td>\n",
       "      <td>11622</td>\n",
       "      <td>Pave</td>\n",
       "      <td>NaN</td>\n",
       "      <td>Reg</td>\n",
       "      <td>Lvl</td>\n",
       "      <td>AllPub</td>\n",
       "      <td>...</td>\n",
       "      <td>120</td>\n",
       "      <td>0</td>\n",
       "      <td>NaN</td>\n",
       "      <td>MnPrv</td>\n",
       "      <td>NaN</td>\n",
       "      <td>0</td>\n",
       "      <td>6</td>\n",
       "      <td>2010</td>\n",
       "      <td>WD</td>\n",
       "      <td>Normal</td>\n",
       "    </tr>\n",
       "    <tr>\n",
       "      <th>1</th>\n",
       "      <td>1462</td>\n",
       "      <td>20</td>\n",
       "      <td>RL</td>\n",
       "      <td>81.0</td>\n",
       "      <td>14267</td>\n",
       "      <td>Pave</td>\n",
       "      <td>NaN</td>\n",
       "      <td>IR1</td>\n",
       "      <td>Lvl</td>\n",
       "      <td>AllPub</td>\n",
       "      <td>...</td>\n",
       "      <td>0</td>\n",
       "      <td>0</td>\n",
       "      <td>NaN</td>\n",
       "      <td>NaN</td>\n",
       "      <td>Gar2</td>\n",
       "      <td>12500</td>\n",
       "      <td>6</td>\n",
       "      <td>2010</td>\n",
       "      <td>WD</td>\n",
       "      <td>Normal</td>\n",
       "    </tr>\n",
       "    <tr>\n",
       "      <th>2</th>\n",
       "      <td>1463</td>\n",
       "      <td>60</td>\n",
       "      <td>RL</td>\n",
       "      <td>74.0</td>\n",
       "      <td>13830</td>\n",
       "      <td>Pave</td>\n",
       "      <td>NaN</td>\n",
       "      <td>IR1</td>\n",
       "      <td>Lvl</td>\n",
       "      <td>AllPub</td>\n",
       "      <td>...</td>\n",
       "      <td>0</td>\n",
       "      <td>0</td>\n",
       "      <td>NaN</td>\n",
       "      <td>MnPrv</td>\n",
       "      <td>NaN</td>\n",
       "      <td>0</td>\n",
       "      <td>3</td>\n",
       "      <td>2010</td>\n",
       "      <td>WD</td>\n",
       "      <td>Normal</td>\n",
       "    </tr>\n",
       "    <tr>\n",
       "      <th>3</th>\n",
       "      <td>1464</td>\n",
       "      <td>60</td>\n",
       "      <td>RL</td>\n",
       "      <td>78.0</td>\n",
       "      <td>9978</td>\n",
       "      <td>Pave</td>\n",
       "      <td>NaN</td>\n",
       "      <td>IR1</td>\n",
       "      <td>Lvl</td>\n",
       "      <td>AllPub</td>\n",
       "      <td>...</td>\n",
       "      <td>0</td>\n",
       "      <td>0</td>\n",
       "      <td>NaN</td>\n",
       "      <td>NaN</td>\n",
       "      <td>NaN</td>\n",
       "      <td>0</td>\n",
       "      <td>6</td>\n",
       "      <td>2010</td>\n",
       "      <td>WD</td>\n",
       "      <td>Normal</td>\n",
       "    </tr>\n",
       "    <tr>\n",
       "      <th>4</th>\n",
       "      <td>1465</td>\n",
       "      <td>120</td>\n",
       "      <td>RL</td>\n",
       "      <td>43.0</td>\n",
       "      <td>5005</td>\n",
       "      <td>Pave</td>\n",
       "      <td>NaN</td>\n",
       "      <td>IR1</td>\n",
       "      <td>HLS</td>\n",
       "      <td>AllPub</td>\n",
       "      <td>...</td>\n",
       "      <td>144</td>\n",
       "      <td>0</td>\n",
       "      <td>NaN</td>\n",
       "      <td>NaN</td>\n",
       "      <td>NaN</td>\n",
       "      <td>0</td>\n",
       "      <td>1</td>\n",
       "      <td>2010</td>\n",
       "      <td>WD</td>\n",
       "      <td>Normal</td>\n",
       "    </tr>\n",
       "  </tbody>\n",
       "</table>\n",
       "<p>5 rows × 80 columns</p>\n",
       "</div>"
      ],
      "text/plain": [
       "     Id  MSSubClass MSZoning  LotFrontage  LotArea Street Alley LotShape  \\\n",
       "0  1461          20       RH         80.0    11622   Pave   NaN      Reg   \n",
       "1  1462          20       RL         81.0    14267   Pave   NaN      IR1   \n",
       "2  1463          60       RL         74.0    13830   Pave   NaN      IR1   \n",
       "3  1464          60       RL         78.0     9978   Pave   NaN      IR1   \n",
       "4  1465         120       RL         43.0     5005   Pave   NaN      IR1   \n",
       "\n",
       "  LandContour Utilities      ...       ScreenPorch PoolArea PoolQC  Fence  \\\n",
       "0         Lvl    AllPub      ...               120        0    NaN  MnPrv   \n",
       "1         Lvl    AllPub      ...                 0        0    NaN    NaN   \n",
       "2         Lvl    AllPub      ...                 0        0    NaN  MnPrv   \n",
       "3         Lvl    AllPub      ...                 0        0    NaN    NaN   \n",
       "4         HLS    AllPub      ...               144        0    NaN    NaN   \n",
       "\n",
       "  MiscFeature MiscVal MoSold  YrSold  SaleType  SaleCondition  \n",
       "0         NaN       0      6    2010        WD         Normal  \n",
       "1        Gar2   12500      6    2010        WD         Normal  \n",
       "2         NaN       0      3    2010        WD         Normal  \n",
       "3         NaN       0      6    2010        WD         Normal  \n",
       "4         NaN       0      1    2010        WD         Normal  \n",
       "\n",
       "[5 rows x 80 columns]"
      ]
     },
     "execution_count": 4,
     "metadata": {},
     "output_type": "execute_result"
    }
   ],
   "source": [
    "test.head()"
   ]
  },
  {
   "cell_type": "markdown",
   "metadata": {},
   "source": [
    "# EXPLORING DATA"
   ]
  },
  {
   "cell_type": "markdown",
   "metadata": {},
   "source": [
    "## Defining Variable Types"
   ]
  },
  {
   "cell_type": "code",
   "execution_count": 5,
   "metadata": {
    "collapsed": true
   },
   "outputs": [],
   "source": [
    "nominal = ['MSSubClass','MSZoning','Street','Alley','LotShape','LandContour','Utilities','LotConfig','LandSlope','Neighborhood',\n",
    "           'Condition1','Condition2','BldgType','HouseStyle','RoofStyle','RoofMatl','Exterior1st','Exterior2nd','MasVnrType',\n",
    "           'Foundation','Heating','CentralAir','Electrical','Functional','GarageType','GarageFinish','PavedDrive','Fence',\n",
    "           'MiscFeature','SaleType','SaleCondition']\n",
    "\n",
    "ordinal = ['OverallQual','OverallCond','ExterQual','ExterCond','BsmtQual','BsmtCond','BsmtExposure','BsmtFinType1',\n",
    "           'BsmtFinType2','HeatingQC','KitchenQual','FireplaceQu','GarageQual','GarageCond','PoolQC','MoSold','YrSold']\n",
    "\n",
    "continuous = ['LotFrontage','LotArea','MasVnrArea','BsmtFinSF1','BsmtFinSF2','BsmtUnfSF','TotalBsmtSF','1stFlrSF','2ndFlrSF',\n",
    "              'LowQualFinSF','GrLivArea','GarageArea','WoodDeckSF','OpenPorchSF','EnclosedPorch','3SsnPorch','ScreenPorch',\n",
    "              'PoolArea','MiscVal','SalePrice']\n",
    "\n",
    "discrete = ['YearBuilt','YearRemodAdd','BsmtFullBath','BsmtHalfBath','FullBath','HalfBath','BedroomAbvGr','KitchenAbvGr',\n",
    "            'TotRmsAbvGrd','Fireplaces','GarageYrBlt','GarageCars']\n",
    "\n",
    "categorical = nominal + ordinal\n",
    "numeric = continuous + discrete"
   ]
  },
  {
   "cell_type": "markdown",
   "metadata": {},
   "source": [
    "## Data Types"
   ]
  },
  {
   "cell_type": "code",
   "execution_count": 6,
   "metadata": {
    "collapsed": false
   },
   "outputs": [
    {
     "data": {
      "text/plain": [
       "Id                int64\n",
       "MSSubClass        int64\n",
       "MSZoning         object\n",
       "LotFrontage     float64\n",
       "LotArea           int64\n",
       "Street           object\n",
       "Alley            object\n",
       "LotShape         object\n",
       "LandContour      object\n",
       "Utilities        object\n",
       "LotConfig        object\n",
       "LandSlope        object\n",
       "Neighborhood     object\n",
       "Condition1       object\n",
       "Condition2       object\n",
       "BldgType         object\n",
       "HouseStyle       object\n",
       "OverallQual       int64\n",
       "OverallCond       int64\n",
       "YearBuilt         int64\n",
       "YearRemodAdd      int64\n",
       "RoofStyle        object\n",
       "RoofMatl         object\n",
       "Exterior1st      object\n",
       "Exterior2nd      object\n",
       "MasVnrType       object\n",
       "MasVnrArea      float64\n",
       "ExterQual        object\n",
       "ExterCond        object\n",
       "Foundation       object\n",
       "BsmtQual         object\n",
       "BsmtCond         object\n",
       "BsmtExposure     object\n",
       "BsmtFinType1     object\n",
       "BsmtFinSF1        int64\n",
       "BsmtFinType2     object\n",
       "BsmtFinSF2        int64\n",
       "BsmtUnfSF         int64\n",
       "TotalBsmtSF       int64\n",
       "Heating          object\n",
       "dtype: object"
      ]
     },
     "execution_count": 6,
     "metadata": {},
     "output_type": "execute_result"
    }
   ],
   "source": [
    "train.dtypes[:40]"
   ]
  },
  {
   "cell_type": "code",
   "execution_count": 7,
   "metadata": {
    "collapsed": false
   },
   "outputs": [
    {
     "data": {
      "text/plain": [
       "HeatingQC         object\n",
       "CentralAir        object\n",
       "Electrical        object\n",
       "1stFlrSF           int64\n",
       "2ndFlrSF           int64\n",
       "LowQualFinSF       int64\n",
       "GrLivArea          int64\n",
       "BsmtFullBath       int64\n",
       "BsmtHalfBath       int64\n",
       "FullBath           int64\n",
       "HalfBath           int64\n",
       "BedroomAbvGr       int64\n",
       "KitchenAbvGr       int64\n",
       "KitchenQual       object\n",
       "TotRmsAbvGrd       int64\n",
       "Functional        object\n",
       "Fireplaces         int64\n",
       "FireplaceQu       object\n",
       "GarageType        object\n",
       "GarageYrBlt      float64\n",
       "GarageFinish      object\n",
       "GarageCars         int64\n",
       "GarageArea         int64\n",
       "GarageQual        object\n",
       "GarageCond        object\n",
       "PavedDrive        object\n",
       "WoodDeckSF         int64\n",
       "OpenPorchSF        int64\n",
       "EnclosedPorch      int64\n",
       "3SsnPorch          int64\n",
       "ScreenPorch        int64\n",
       "PoolArea           int64\n",
       "PoolQC            object\n",
       "Fence             object\n",
       "MiscFeature       object\n",
       "MiscVal            int64\n",
       "MoSold             int64\n",
       "YrSold             int64\n",
       "SaleType          object\n",
       "SaleCondition     object\n",
       "SalePrice          int64\n",
       "dtype: object"
      ]
     },
     "execution_count": 7,
     "metadata": {},
     "output_type": "execute_result"
    }
   ],
   "source": [
    "train.dtypes[40:]"
   ]
  },
  {
   "cell_type": "markdown",
   "metadata": {},
   "source": [
    "## Description"
   ]
  },
  {
   "cell_type": "markdown",
   "metadata": {},
   "source": [
    "### numbers"
   ]
  },
  {
   "cell_type": "code",
   "execution_count": 8,
   "metadata": {
    "collapsed": false
   },
   "outputs": [
    {
     "name": "stderr",
     "output_type": "stream",
     "text": [
      "C:\\Users\\jdoyle\\AppData\\Local\\Continuum\\Anaconda2\\lib\\site-packages\\numpy\\lib\\function_base.py:3834: RuntimeWarning: Invalid value encountered in percentile\n",
      "  RuntimeWarning)\n"
     ]
    },
    {
     "data": {
      "text/html": [
       "<div>\n",
       "<table border=\"1\" class=\"dataframe\">\n",
       "  <thead>\n",
       "    <tr style=\"text-align: right;\">\n",
       "      <th></th>\n",
       "      <th>count</th>\n",
       "      <th>mean</th>\n",
       "      <th>std</th>\n",
       "      <th>min</th>\n",
       "      <th>25%</th>\n",
       "      <th>50%</th>\n",
       "      <th>75%</th>\n",
       "      <th>max</th>\n",
       "    </tr>\n",
       "  </thead>\n",
       "  <tbody>\n",
       "    <tr>\n",
       "      <th>Id</th>\n",
       "      <td>1460.0</td>\n",
       "      <td>730.500000</td>\n",
       "      <td>421.610009</td>\n",
       "      <td>1.0</td>\n",
       "      <td>365.75</td>\n",
       "      <td>730.5</td>\n",
       "      <td>1095.25</td>\n",
       "      <td>1460.0</td>\n",
       "    </tr>\n",
       "    <tr>\n",
       "      <th>MSSubClass</th>\n",
       "      <td>1460.0</td>\n",
       "      <td>56.897260</td>\n",
       "      <td>42.300571</td>\n",
       "      <td>20.0</td>\n",
       "      <td>20.00</td>\n",
       "      <td>50.0</td>\n",
       "      <td>70.00</td>\n",
       "      <td>190.0</td>\n",
       "    </tr>\n",
       "    <tr>\n",
       "      <th>LotFrontage</th>\n",
       "      <td>1201.0</td>\n",
       "      <td>70.049958</td>\n",
       "      <td>24.284752</td>\n",
       "      <td>21.0</td>\n",
       "      <td>NaN</td>\n",
       "      <td>NaN</td>\n",
       "      <td>NaN</td>\n",
       "      <td>313.0</td>\n",
       "    </tr>\n",
       "    <tr>\n",
       "      <th>LotArea</th>\n",
       "      <td>1460.0</td>\n",
       "      <td>10516.828082</td>\n",
       "      <td>9981.264932</td>\n",
       "      <td>1300.0</td>\n",
       "      <td>7553.50</td>\n",
       "      <td>9478.5</td>\n",
       "      <td>11601.50</td>\n",
       "      <td>215245.0</td>\n",
       "    </tr>\n",
       "    <tr>\n",
       "      <th>OverallQual</th>\n",
       "      <td>1460.0</td>\n",
       "      <td>6.099315</td>\n",
       "      <td>1.382997</td>\n",
       "      <td>1.0</td>\n",
       "      <td>5.00</td>\n",
       "      <td>6.0</td>\n",
       "      <td>7.00</td>\n",
       "      <td>10.0</td>\n",
       "    </tr>\n",
       "    <tr>\n",
       "      <th>OverallCond</th>\n",
       "      <td>1460.0</td>\n",
       "      <td>5.575342</td>\n",
       "      <td>1.112799</td>\n",
       "      <td>1.0</td>\n",
       "      <td>5.00</td>\n",
       "      <td>5.0</td>\n",
       "      <td>6.00</td>\n",
       "      <td>9.0</td>\n",
       "    </tr>\n",
       "    <tr>\n",
       "      <th>YearBuilt</th>\n",
       "      <td>1460.0</td>\n",
       "      <td>1971.267808</td>\n",
       "      <td>30.202904</td>\n",
       "      <td>1872.0</td>\n",
       "      <td>1954.00</td>\n",
       "      <td>1973.0</td>\n",
       "      <td>2000.00</td>\n",
       "      <td>2010.0</td>\n",
       "    </tr>\n",
       "    <tr>\n",
       "      <th>YearRemodAdd</th>\n",
       "      <td>1460.0</td>\n",
       "      <td>1984.865753</td>\n",
       "      <td>20.645407</td>\n",
       "      <td>1950.0</td>\n",
       "      <td>1967.00</td>\n",
       "      <td>1994.0</td>\n",
       "      <td>2004.00</td>\n",
       "      <td>2010.0</td>\n",
       "    </tr>\n",
       "    <tr>\n",
       "      <th>MasVnrArea</th>\n",
       "      <td>1452.0</td>\n",
       "      <td>103.685262</td>\n",
       "      <td>181.066207</td>\n",
       "      <td>0.0</td>\n",
       "      <td>NaN</td>\n",
       "      <td>NaN</td>\n",
       "      <td>NaN</td>\n",
       "      <td>1600.0</td>\n",
       "    </tr>\n",
       "    <tr>\n",
       "      <th>BsmtFinSF1</th>\n",
       "      <td>1460.0</td>\n",
       "      <td>443.639726</td>\n",
       "      <td>456.098091</td>\n",
       "      <td>0.0</td>\n",
       "      <td>0.00</td>\n",
       "      <td>383.5</td>\n",
       "      <td>712.25</td>\n",
       "      <td>5644.0</td>\n",
       "    </tr>\n",
       "    <tr>\n",
       "      <th>BsmtFinSF2</th>\n",
       "      <td>1460.0</td>\n",
       "      <td>46.549315</td>\n",
       "      <td>161.319273</td>\n",
       "      <td>0.0</td>\n",
       "      <td>0.00</td>\n",
       "      <td>0.0</td>\n",
       "      <td>0.00</td>\n",
       "      <td>1474.0</td>\n",
       "    </tr>\n",
       "    <tr>\n",
       "      <th>BsmtUnfSF</th>\n",
       "      <td>1460.0</td>\n",
       "      <td>567.240411</td>\n",
       "      <td>441.866955</td>\n",
       "      <td>0.0</td>\n",
       "      <td>223.00</td>\n",
       "      <td>477.5</td>\n",
       "      <td>808.00</td>\n",
       "      <td>2336.0</td>\n",
       "    </tr>\n",
       "    <tr>\n",
       "      <th>TotalBsmtSF</th>\n",
       "      <td>1460.0</td>\n",
       "      <td>1057.429452</td>\n",
       "      <td>438.705324</td>\n",
       "      <td>0.0</td>\n",
       "      <td>795.75</td>\n",
       "      <td>991.5</td>\n",
       "      <td>1298.25</td>\n",
       "      <td>6110.0</td>\n",
       "    </tr>\n",
       "    <tr>\n",
       "      <th>1stFlrSF</th>\n",
       "      <td>1460.0</td>\n",
       "      <td>1162.626712</td>\n",
       "      <td>386.587738</td>\n",
       "      <td>334.0</td>\n",
       "      <td>882.00</td>\n",
       "      <td>1087.0</td>\n",
       "      <td>1391.25</td>\n",
       "      <td>4692.0</td>\n",
       "    </tr>\n",
       "    <tr>\n",
       "      <th>2ndFlrSF</th>\n",
       "      <td>1460.0</td>\n",
       "      <td>346.992466</td>\n",
       "      <td>436.528436</td>\n",
       "      <td>0.0</td>\n",
       "      <td>0.00</td>\n",
       "      <td>0.0</td>\n",
       "      <td>728.00</td>\n",
       "      <td>2065.0</td>\n",
       "    </tr>\n",
       "    <tr>\n",
       "      <th>LowQualFinSF</th>\n",
       "      <td>1460.0</td>\n",
       "      <td>5.844521</td>\n",
       "      <td>48.623081</td>\n",
       "      <td>0.0</td>\n",
       "      <td>0.00</td>\n",
       "      <td>0.0</td>\n",
       "      <td>0.00</td>\n",
       "      <td>572.0</td>\n",
       "    </tr>\n",
       "    <tr>\n",
       "      <th>GrLivArea</th>\n",
       "      <td>1460.0</td>\n",
       "      <td>1515.463699</td>\n",
       "      <td>525.480383</td>\n",
       "      <td>334.0</td>\n",
       "      <td>1129.50</td>\n",
       "      <td>1464.0</td>\n",
       "      <td>1776.75</td>\n",
       "      <td>5642.0</td>\n",
       "    </tr>\n",
       "    <tr>\n",
       "      <th>BsmtFullBath</th>\n",
       "      <td>1460.0</td>\n",
       "      <td>0.425342</td>\n",
       "      <td>0.518911</td>\n",
       "      <td>0.0</td>\n",
       "      <td>0.00</td>\n",
       "      <td>0.0</td>\n",
       "      <td>1.00</td>\n",
       "      <td>3.0</td>\n",
       "    </tr>\n",
       "    <tr>\n",
       "      <th>BsmtHalfBath</th>\n",
       "      <td>1460.0</td>\n",
       "      <td>0.057534</td>\n",
       "      <td>0.238753</td>\n",
       "      <td>0.0</td>\n",
       "      <td>0.00</td>\n",
       "      <td>0.0</td>\n",
       "      <td>0.00</td>\n",
       "      <td>2.0</td>\n",
       "    </tr>\n",
       "    <tr>\n",
       "      <th>FullBath</th>\n",
       "      <td>1460.0</td>\n",
       "      <td>1.565068</td>\n",
       "      <td>0.550916</td>\n",
       "      <td>0.0</td>\n",
       "      <td>1.00</td>\n",
       "      <td>2.0</td>\n",
       "      <td>2.00</td>\n",
       "      <td>3.0</td>\n",
       "    </tr>\n",
       "    <tr>\n",
       "      <th>HalfBath</th>\n",
       "      <td>1460.0</td>\n",
       "      <td>0.382877</td>\n",
       "      <td>0.502885</td>\n",
       "      <td>0.0</td>\n",
       "      <td>0.00</td>\n",
       "      <td>0.0</td>\n",
       "      <td>1.00</td>\n",
       "      <td>2.0</td>\n",
       "    </tr>\n",
       "    <tr>\n",
       "      <th>BedroomAbvGr</th>\n",
       "      <td>1460.0</td>\n",
       "      <td>2.866438</td>\n",
       "      <td>0.815778</td>\n",
       "      <td>0.0</td>\n",
       "      <td>2.00</td>\n",
       "      <td>3.0</td>\n",
       "      <td>3.00</td>\n",
       "      <td>8.0</td>\n",
       "    </tr>\n",
       "    <tr>\n",
       "      <th>KitchenAbvGr</th>\n",
       "      <td>1460.0</td>\n",
       "      <td>1.046575</td>\n",
       "      <td>0.220338</td>\n",
       "      <td>0.0</td>\n",
       "      <td>1.00</td>\n",
       "      <td>1.0</td>\n",
       "      <td>1.00</td>\n",
       "      <td>3.0</td>\n",
       "    </tr>\n",
       "    <tr>\n",
       "      <th>TotRmsAbvGrd</th>\n",
       "      <td>1460.0</td>\n",
       "      <td>6.517808</td>\n",
       "      <td>1.625393</td>\n",
       "      <td>2.0</td>\n",
       "      <td>5.00</td>\n",
       "      <td>6.0</td>\n",
       "      <td>7.00</td>\n",
       "      <td>14.0</td>\n",
       "    </tr>\n",
       "    <tr>\n",
       "      <th>Fireplaces</th>\n",
       "      <td>1460.0</td>\n",
       "      <td>0.613014</td>\n",
       "      <td>0.644666</td>\n",
       "      <td>0.0</td>\n",
       "      <td>0.00</td>\n",
       "      <td>1.0</td>\n",
       "      <td>1.00</td>\n",
       "      <td>3.0</td>\n",
       "    </tr>\n",
       "    <tr>\n",
       "      <th>GarageYrBlt</th>\n",
       "      <td>1379.0</td>\n",
       "      <td>1978.506164</td>\n",
       "      <td>24.689725</td>\n",
       "      <td>1900.0</td>\n",
       "      <td>NaN</td>\n",
       "      <td>NaN</td>\n",
       "      <td>NaN</td>\n",
       "      <td>2010.0</td>\n",
       "    </tr>\n",
       "    <tr>\n",
       "      <th>GarageCars</th>\n",
       "      <td>1460.0</td>\n",
       "      <td>1.767123</td>\n",
       "      <td>0.747315</td>\n",
       "      <td>0.0</td>\n",
       "      <td>1.00</td>\n",
       "      <td>2.0</td>\n",
       "      <td>2.00</td>\n",
       "      <td>4.0</td>\n",
       "    </tr>\n",
       "    <tr>\n",
       "      <th>GarageArea</th>\n",
       "      <td>1460.0</td>\n",
       "      <td>472.980137</td>\n",
       "      <td>213.804841</td>\n",
       "      <td>0.0</td>\n",
       "      <td>334.50</td>\n",
       "      <td>480.0</td>\n",
       "      <td>576.00</td>\n",
       "      <td>1418.0</td>\n",
       "    </tr>\n",
       "    <tr>\n",
       "      <th>WoodDeckSF</th>\n",
       "      <td>1460.0</td>\n",
       "      <td>94.244521</td>\n",
       "      <td>125.338794</td>\n",
       "      <td>0.0</td>\n",
       "      <td>0.00</td>\n",
       "      <td>0.0</td>\n",
       "      <td>168.00</td>\n",
       "      <td>857.0</td>\n",
       "    </tr>\n",
       "    <tr>\n",
       "      <th>OpenPorchSF</th>\n",
       "      <td>1460.0</td>\n",
       "      <td>46.660274</td>\n",
       "      <td>66.256028</td>\n",
       "      <td>0.0</td>\n",
       "      <td>0.00</td>\n",
       "      <td>25.0</td>\n",
       "      <td>68.00</td>\n",
       "      <td>547.0</td>\n",
       "    </tr>\n",
       "    <tr>\n",
       "      <th>EnclosedPorch</th>\n",
       "      <td>1460.0</td>\n",
       "      <td>21.954110</td>\n",
       "      <td>61.119149</td>\n",
       "      <td>0.0</td>\n",
       "      <td>0.00</td>\n",
       "      <td>0.0</td>\n",
       "      <td>0.00</td>\n",
       "      <td>552.0</td>\n",
       "    </tr>\n",
       "    <tr>\n",
       "      <th>3SsnPorch</th>\n",
       "      <td>1460.0</td>\n",
       "      <td>3.409589</td>\n",
       "      <td>29.317331</td>\n",
       "      <td>0.0</td>\n",
       "      <td>0.00</td>\n",
       "      <td>0.0</td>\n",
       "      <td>0.00</td>\n",
       "      <td>508.0</td>\n",
       "    </tr>\n",
       "    <tr>\n",
       "      <th>ScreenPorch</th>\n",
       "      <td>1460.0</td>\n",
       "      <td>15.060959</td>\n",
       "      <td>55.757415</td>\n",
       "      <td>0.0</td>\n",
       "      <td>0.00</td>\n",
       "      <td>0.0</td>\n",
       "      <td>0.00</td>\n",
       "      <td>480.0</td>\n",
       "    </tr>\n",
       "    <tr>\n",
       "      <th>PoolArea</th>\n",
       "      <td>1460.0</td>\n",
       "      <td>2.758904</td>\n",
       "      <td>40.177307</td>\n",
       "      <td>0.0</td>\n",
       "      <td>0.00</td>\n",
       "      <td>0.0</td>\n",
       "      <td>0.00</td>\n",
       "      <td>738.0</td>\n",
       "    </tr>\n",
       "    <tr>\n",
       "      <th>MiscVal</th>\n",
       "      <td>1460.0</td>\n",
       "      <td>43.489041</td>\n",
       "      <td>496.123024</td>\n",
       "      <td>0.0</td>\n",
       "      <td>0.00</td>\n",
       "      <td>0.0</td>\n",
       "      <td>0.00</td>\n",
       "      <td>15500.0</td>\n",
       "    </tr>\n",
       "    <tr>\n",
       "      <th>MoSold</th>\n",
       "      <td>1460.0</td>\n",
       "      <td>6.321918</td>\n",
       "      <td>2.703626</td>\n",
       "      <td>1.0</td>\n",
       "      <td>5.00</td>\n",
       "      <td>6.0</td>\n",
       "      <td>8.00</td>\n",
       "      <td>12.0</td>\n",
       "    </tr>\n",
       "    <tr>\n",
       "      <th>YrSold</th>\n",
       "      <td>1460.0</td>\n",
       "      <td>2007.815753</td>\n",
       "      <td>1.328095</td>\n",
       "      <td>2006.0</td>\n",
       "      <td>2007.00</td>\n",
       "      <td>2008.0</td>\n",
       "      <td>2009.00</td>\n",
       "      <td>2010.0</td>\n",
       "    </tr>\n",
       "    <tr>\n",
       "      <th>SalePrice</th>\n",
       "      <td>1460.0</td>\n",
       "      <td>180921.195890</td>\n",
       "      <td>79442.502883</td>\n",
       "      <td>34900.0</td>\n",
       "      <td>129975.00</td>\n",
       "      <td>163000.0</td>\n",
       "      <td>214000.00</td>\n",
       "      <td>755000.0</td>\n",
       "    </tr>\n",
       "  </tbody>\n",
       "</table>\n",
       "</div>"
      ],
      "text/plain": [
       "                count           mean           std      min        25%  \\\n",
       "Id             1460.0     730.500000    421.610009      1.0     365.75   \n",
       "MSSubClass     1460.0      56.897260     42.300571     20.0      20.00   \n",
       "LotFrontage    1201.0      70.049958     24.284752     21.0        NaN   \n",
       "LotArea        1460.0   10516.828082   9981.264932   1300.0    7553.50   \n",
       "OverallQual    1460.0       6.099315      1.382997      1.0       5.00   \n",
       "OverallCond    1460.0       5.575342      1.112799      1.0       5.00   \n",
       "YearBuilt      1460.0    1971.267808     30.202904   1872.0    1954.00   \n",
       "YearRemodAdd   1460.0    1984.865753     20.645407   1950.0    1967.00   \n",
       "MasVnrArea     1452.0     103.685262    181.066207      0.0        NaN   \n",
       "BsmtFinSF1     1460.0     443.639726    456.098091      0.0       0.00   \n",
       "BsmtFinSF2     1460.0      46.549315    161.319273      0.0       0.00   \n",
       "BsmtUnfSF      1460.0     567.240411    441.866955      0.0     223.00   \n",
       "TotalBsmtSF    1460.0    1057.429452    438.705324      0.0     795.75   \n",
       "1stFlrSF       1460.0    1162.626712    386.587738    334.0     882.00   \n",
       "2ndFlrSF       1460.0     346.992466    436.528436      0.0       0.00   \n",
       "LowQualFinSF   1460.0       5.844521     48.623081      0.0       0.00   \n",
       "GrLivArea      1460.0    1515.463699    525.480383    334.0    1129.50   \n",
       "BsmtFullBath   1460.0       0.425342      0.518911      0.0       0.00   \n",
       "BsmtHalfBath   1460.0       0.057534      0.238753      0.0       0.00   \n",
       "FullBath       1460.0       1.565068      0.550916      0.0       1.00   \n",
       "HalfBath       1460.0       0.382877      0.502885      0.0       0.00   \n",
       "BedroomAbvGr   1460.0       2.866438      0.815778      0.0       2.00   \n",
       "KitchenAbvGr   1460.0       1.046575      0.220338      0.0       1.00   \n",
       "TotRmsAbvGrd   1460.0       6.517808      1.625393      2.0       5.00   \n",
       "Fireplaces     1460.0       0.613014      0.644666      0.0       0.00   \n",
       "GarageYrBlt    1379.0    1978.506164     24.689725   1900.0        NaN   \n",
       "GarageCars     1460.0       1.767123      0.747315      0.0       1.00   \n",
       "GarageArea     1460.0     472.980137    213.804841      0.0     334.50   \n",
       "WoodDeckSF     1460.0      94.244521    125.338794      0.0       0.00   \n",
       "OpenPorchSF    1460.0      46.660274     66.256028      0.0       0.00   \n",
       "EnclosedPorch  1460.0      21.954110     61.119149      0.0       0.00   \n",
       "3SsnPorch      1460.0       3.409589     29.317331      0.0       0.00   \n",
       "ScreenPorch    1460.0      15.060959     55.757415      0.0       0.00   \n",
       "PoolArea       1460.0       2.758904     40.177307      0.0       0.00   \n",
       "MiscVal        1460.0      43.489041    496.123024      0.0       0.00   \n",
       "MoSold         1460.0       6.321918      2.703626      1.0       5.00   \n",
       "YrSold         1460.0    2007.815753      1.328095   2006.0    2007.00   \n",
       "SalePrice      1460.0  180921.195890  79442.502883  34900.0  129975.00   \n",
       "\n",
       "                    50%        75%       max  \n",
       "Id                730.5    1095.25    1460.0  \n",
       "MSSubClass         50.0      70.00     190.0  \n",
       "LotFrontage         NaN        NaN     313.0  \n",
       "LotArea          9478.5   11601.50  215245.0  \n",
       "OverallQual         6.0       7.00      10.0  \n",
       "OverallCond         5.0       6.00       9.0  \n",
       "YearBuilt        1973.0    2000.00    2010.0  \n",
       "YearRemodAdd     1994.0    2004.00    2010.0  \n",
       "MasVnrArea          NaN        NaN    1600.0  \n",
       "BsmtFinSF1        383.5     712.25    5644.0  \n",
       "BsmtFinSF2          0.0       0.00    1474.0  \n",
       "BsmtUnfSF         477.5     808.00    2336.0  \n",
       "TotalBsmtSF       991.5    1298.25    6110.0  \n",
       "1stFlrSF         1087.0    1391.25    4692.0  \n",
       "2ndFlrSF            0.0     728.00    2065.0  \n",
       "LowQualFinSF        0.0       0.00     572.0  \n",
       "GrLivArea        1464.0    1776.75    5642.0  \n",
       "BsmtFullBath        0.0       1.00       3.0  \n",
       "BsmtHalfBath        0.0       0.00       2.0  \n",
       "FullBath            2.0       2.00       3.0  \n",
       "HalfBath            0.0       1.00       2.0  \n",
       "BedroomAbvGr        3.0       3.00       8.0  \n",
       "KitchenAbvGr        1.0       1.00       3.0  \n",
       "TotRmsAbvGrd        6.0       7.00      14.0  \n",
       "Fireplaces          1.0       1.00       3.0  \n",
       "GarageYrBlt         NaN        NaN    2010.0  \n",
       "GarageCars          2.0       2.00       4.0  \n",
       "GarageArea        480.0     576.00    1418.0  \n",
       "WoodDeckSF          0.0     168.00     857.0  \n",
       "OpenPorchSF        25.0      68.00     547.0  \n",
       "EnclosedPorch       0.0       0.00     552.0  \n",
       "3SsnPorch           0.0       0.00     508.0  \n",
       "ScreenPorch         0.0       0.00     480.0  \n",
       "PoolArea            0.0       0.00     738.0  \n",
       "MiscVal             0.0       0.00   15500.0  \n",
       "MoSold              6.0       8.00      12.0  \n",
       "YrSold           2008.0    2009.00    2010.0  \n",
       "SalePrice      163000.0  214000.00  755000.0  "
      ]
     },
     "execution_count": 8,
     "metadata": {},
     "output_type": "execute_result"
    }
   ],
   "source": [
    "train.select_dtypes(exclude=['object']).describe().transpose()"
   ]
  },
  {
   "cell_type": "markdown",
   "metadata": {},
   "source": [
    "### objects"
   ]
  },
  {
   "cell_type": "code",
   "execution_count": 9,
   "metadata": {
    "collapsed": false
   },
   "outputs": [
    {
     "data": {
      "text/html": [
       "<div>\n",
       "<table border=\"1\" class=\"dataframe\">\n",
       "  <thead>\n",
       "    <tr style=\"text-align: right;\">\n",
       "      <th></th>\n",
       "      <th>count</th>\n",
       "      <th>unique</th>\n",
       "      <th>top</th>\n",
       "      <th>freq</th>\n",
       "    </tr>\n",
       "  </thead>\n",
       "  <tbody>\n",
       "    <tr>\n",
       "      <th>MSZoning</th>\n",
       "      <td>1460</td>\n",
       "      <td>5</td>\n",
       "      <td>RL</td>\n",
       "      <td>1151</td>\n",
       "    </tr>\n",
       "    <tr>\n",
       "      <th>Street</th>\n",
       "      <td>1460</td>\n",
       "      <td>2</td>\n",
       "      <td>Pave</td>\n",
       "      <td>1454</td>\n",
       "    </tr>\n",
       "    <tr>\n",
       "      <th>Alley</th>\n",
       "      <td>91</td>\n",
       "      <td>2</td>\n",
       "      <td>Grvl</td>\n",
       "      <td>50</td>\n",
       "    </tr>\n",
       "    <tr>\n",
       "      <th>LotShape</th>\n",
       "      <td>1460</td>\n",
       "      <td>4</td>\n",
       "      <td>Reg</td>\n",
       "      <td>925</td>\n",
       "    </tr>\n",
       "    <tr>\n",
       "      <th>LandContour</th>\n",
       "      <td>1460</td>\n",
       "      <td>4</td>\n",
       "      <td>Lvl</td>\n",
       "      <td>1311</td>\n",
       "    </tr>\n",
       "    <tr>\n",
       "      <th>Utilities</th>\n",
       "      <td>1460</td>\n",
       "      <td>2</td>\n",
       "      <td>AllPub</td>\n",
       "      <td>1459</td>\n",
       "    </tr>\n",
       "    <tr>\n",
       "      <th>LotConfig</th>\n",
       "      <td>1460</td>\n",
       "      <td>5</td>\n",
       "      <td>Inside</td>\n",
       "      <td>1052</td>\n",
       "    </tr>\n",
       "    <tr>\n",
       "      <th>LandSlope</th>\n",
       "      <td>1460</td>\n",
       "      <td>3</td>\n",
       "      <td>Gtl</td>\n",
       "      <td>1382</td>\n",
       "    </tr>\n",
       "    <tr>\n",
       "      <th>Neighborhood</th>\n",
       "      <td>1460</td>\n",
       "      <td>25</td>\n",
       "      <td>NAmes</td>\n",
       "      <td>225</td>\n",
       "    </tr>\n",
       "    <tr>\n",
       "      <th>Condition1</th>\n",
       "      <td>1460</td>\n",
       "      <td>9</td>\n",
       "      <td>Norm</td>\n",
       "      <td>1260</td>\n",
       "    </tr>\n",
       "    <tr>\n",
       "      <th>Condition2</th>\n",
       "      <td>1460</td>\n",
       "      <td>8</td>\n",
       "      <td>Norm</td>\n",
       "      <td>1445</td>\n",
       "    </tr>\n",
       "    <tr>\n",
       "      <th>BldgType</th>\n",
       "      <td>1460</td>\n",
       "      <td>5</td>\n",
       "      <td>1Fam</td>\n",
       "      <td>1220</td>\n",
       "    </tr>\n",
       "    <tr>\n",
       "      <th>HouseStyle</th>\n",
       "      <td>1460</td>\n",
       "      <td>8</td>\n",
       "      <td>1Story</td>\n",
       "      <td>726</td>\n",
       "    </tr>\n",
       "    <tr>\n",
       "      <th>RoofStyle</th>\n",
       "      <td>1460</td>\n",
       "      <td>6</td>\n",
       "      <td>Gable</td>\n",
       "      <td>1141</td>\n",
       "    </tr>\n",
       "    <tr>\n",
       "      <th>RoofMatl</th>\n",
       "      <td>1460</td>\n",
       "      <td>8</td>\n",
       "      <td>CompShg</td>\n",
       "      <td>1434</td>\n",
       "    </tr>\n",
       "    <tr>\n",
       "      <th>Exterior1st</th>\n",
       "      <td>1460</td>\n",
       "      <td>15</td>\n",
       "      <td>VinylSd</td>\n",
       "      <td>515</td>\n",
       "    </tr>\n",
       "    <tr>\n",
       "      <th>Exterior2nd</th>\n",
       "      <td>1460</td>\n",
       "      <td>16</td>\n",
       "      <td>VinylSd</td>\n",
       "      <td>504</td>\n",
       "    </tr>\n",
       "    <tr>\n",
       "      <th>MasVnrType</th>\n",
       "      <td>1452</td>\n",
       "      <td>4</td>\n",
       "      <td>None</td>\n",
       "      <td>864</td>\n",
       "    </tr>\n",
       "    <tr>\n",
       "      <th>ExterQual</th>\n",
       "      <td>1460</td>\n",
       "      <td>4</td>\n",
       "      <td>TA</td>\n",
       "      <td>906</td>\n",
       "    </tr>\n",
       "    <tr>\n",
       "      <th>ExterCond</th>\n",
       "      <td>1460</td>\n",
       "      <td>5</td>\n",
       "      <td>TA</td>\n",
       "      <td>1282</td>\n",
       "    </tr>\n",
       "    <tr>\n",
       "      <th>Foundation</th>\n",
       "      <td>1460</td>\n",
       "      <td>6</td>\n",
       "      <td>PConc</td>\n",
       "      <td>647</td>\n",
       "    </tr>\n",
       "    <tr>\n",
       "      <th>BsmtQual</th>\n",
       "      <td>1423</td>\n",
       "      <td>4</td>\n",
       "      <td>TA</td>\n",
       "      <td>649</td>\n",
       "    </tr>\n",
       "    <tr>\n",
       "      <th>BsmtCond</th>\n",
       "      <td>1423</td>\n",
       "      <td>4</td>\n",
       "      <td>TA</td>\n",
       "      <td>1311</td>\n",
       "    </tr>\n",
       "    <tr>\n",
       "      <th>BsmtExposure</th>\n",
       "      <td>1422</td>\n",
       "      <td>4</td>\n",
       "      <td>No</td>\n",
       "      <td>953</td>\n",
       "    </tr>\n",
       "    <tr>\n",
       "      <th>BsmtFinType1</th>\n",
       "      <td>1423</td>\n",
       "      <td>6</td>\n",
       "      <td>Unf</td>\n",
       "      <td>430</td>\n",
       "    </tr>\n",
       "    <tr>\n",
       "      <th>BsmtFinType2</th>\n",
       "      <td>1422</td>\n",
       "      <td>6</td>\n",
       "      <td>Unf</td>\n",
       "      <td>1256</td>\n",
       "    </tr>\n",
       "    <tr>\n",
       "      <th>Heating</th>\n",
       "      <td>1460</td>\n",
       "      <td>6</td>\n",
       "      <td>GasA</td>\n",
       "      <td>1428</td>\n",
       "    </tr>\n",
       "    <tr>\n",
       "      <th>HeatingQC</th>\n",
       "      <td>1460</td>\n",
       "      <td>5</td>\n",
       "      <td>Ex</td>\n",
       "      <td>741</td>\n",
       "    </tr>\n",
       "    <tr>\n",
       "      <th>CentralAir</th>\n",
       "      <td>1460</td>\n",
       "      <td>2</td>\n",
       "      <td>Y</td>\n",
       "      <td>1365</td>\n",
       "    </tr>\n",
       "    <tr>\n",
       "      <th>Electrical</th>\n",
       "      <td>1459</td>\n",
       "      <td>5</td>\n",
       "      <td>SBrkr</td>\n",
       "      <td>1334</td>\n",
       "    </tr>\n",
       "    <tr>\n",
       "      <th>KitchenQual</th>\n",
       "      <td>1460</td>\n",
       "      <td>4</td>\n",
       "      <td>TA</td>\n",
       "      <td>735</td>\n",
       "    </tr>\n",
       "    <tr>\n",
       "      <th>Functional</th>\n",
       "      <td>1460</td>\n",
       "      <td>7</td>\n",
       "      <td>Typ</td>\n",
       "      <td>1360</td>\n",
       "    </tr>\n",
       "    <tr>\n",
       "      <th>FireplaceQu</th>\n",
       "      <td>770</td>\n",
       "      <td>5</td>\n",
       "      <td>Gd</td>\n",
       "      <td>380</td>\n",
       "    </tr>\n",
       "    <tr>\n",
       "      <th>GarageType</th>\n",
       "      <td>1379</td>\n",
       "      <td>6</td>\n",
       "      <td>Attchd</td>\n",
       "      <td>870</td>\n",
       "    </tr>\n",
       "    <tr>\n",
       "      <th>GarageFinish</th>\n",
       "      <td>1379</td>\n",
       "      <td>3</td>\n",
       "      <td>Unf</td>\n",
       "      <td>605</td>\n",
       "    </tr>\n",
       "    <tr>\n",
       "      <th>GarageQual</th>\n",
       "      <td>1379</td>\n",
       "      <td>5</td>\n",
       "      <td>TA</td>\n",
       "      <td>1311</td>\n",
       "    </tr>\n",
       "    <tr>\n",
       "      <th>GarageCond</th>\n",
       "      <td>1379</td>\n",
       "      <td>5</td>\n",
       "      <td>TA</td>\n",
       "      <td>1326</td>\n",
       "    </tr>\n",
       "    <tr>\n",
       "      <th>PavedDrive</th>\n",
       "      <td>1460</td>\n",
       "      <td>3</td>\n",
       "      <td>Y</td>\n",
       "      <td>1340</td>\n",
       "    </tr>\n",
       "    <tr>\n",
       "      <th>PoolQC</th>\n",
       "      <td>7</td>\n",
       "      <td>3</td>\n",
       "      <td>Gd</td>\n",
       "      <td>3</td>\n",
       "    </tr>\n",
       "    <tr>\n",
       "      <th>Fence</th>\n",
       "      <td>281</td>\n",
       "      <td>4</td>\n",
       "      <td>MnPrv</td>\n",
       "      <td>157</td>\n",
       "    </tr>\n",
       "    <tr>\n",
       "      <th>MiscFeature</th>\n",
       "      <td>54</td>\n",
       "      <td>4</td>\n",
       "      <td>Shed</td>\n",
       "      <td>49</td>\n",
       "    </tr>\n",
       "    <tr>\n",
       "      <th>SaleType</th>\n",
       "      <td>1460</td>\n",
       "      <td>9</td>\n",
       "      <td>WD</td>\n",
       "      <td>1267</td>\n",
       "    </tr>\n",
       "    <tr>\n",
       "      <th>SaleCondition</th>\n",
       "      <td>1460</td>\n",
       "      <td>6</td>\n",
       "      <td>Normal</td>\n",
       "      <td>1198</td>\n",
       "    </tr>\n",
       "  </tbody>\n",
       "</table>\n",
       "</div>"
      ],
      "text/plain": [
       "              count unique      top  freq\n",
       "MSZoning       1460      5       RL  1151\n",
       "Street         1460      2     Pave  1454\n",
       "Alley            91      2     Grvl    50\n",
       "LotShape       1460      4      Reg   925\n",
       "LandContour    1460      4      Lvl  1311\n",
       "Utilities      1460      2   AllPub  1459\n",
       "LotConfig      1460      5   Inside  1052\n",
       "LandSlope      1460      3      Gtl  1382\n",
       "Neighborhood   1460     25    NAmes   225\n",
       "Condition1     1460      9     Norm  1260\n",
       "Condition2     1460      8     Norm  1445\n",
       "BldgType       1460      5     1Fam  1220\n",
       "HouseStyle     1460      8   1Story   726\n",
       "RoofStyle      1460      6    Gable  1141\n",
       "RoofMatl       1460      8  CompShg  1434\n",
       "Exterior1st    1460     15  VinylSd   515\n",
       "Exterior2nd    1460     16  VinylSd   504\n",
       "MasVnrType     1452      4     None   864\n",
       "ExterQual      1460      4       TA   906\n",
       "ExterCond      1460      5       TA  1282\n",
       "Foundation     1460      6    PConc   647\n",
       "BsmtQual       1423      4       TA   649\n",
       "BsmtCond       1423      4       TA  1311\n",
       "BsmtExposure   1422      4       No   953\n",
       "BsmtFinType1   1423      6      Unf   430\n",
       "BsmtFinType2   1422      6      Unf  1256\n",
       "Heating        1460      6     GasA  1428\n",
       "HeatingQC      1460      5       Ex   741\n",
       "CentralAir     1460      2        Y  1365\n",
       "Electrical     1459      5    SBrkr  1334\n",
       "KitchenQual    1460      4       TA   735\n",
       "Functional     1460      7      Typ  1360\n",
       "FireplaceQu     770      5       Gd   380\n",
       "GarageType     1379      6   Attchd   870\n",
       "GarageFinish   1379      3      Unf   605\n",
       "GarageQual     1379      5       TA  1311\n",
       "GarageCond     1379      5       TA  1326\n",
       "PavedDrive     1460      3        Y  1340\n",
       "PoolQC            7      3       Gd     3\n",
       "Fence           281      4    MnPrv   157\n",
       "MiscFeature      54      4     Shed    49\n",
       "SaleType       1460      9       WD  1267\n",
       "SaleCondition  1460      6   Normal  1198"
      ]
     },
     "execution_count": 9,
     "metadata": {},
     "output_type": "execute_result"
    }
   ],
   "source": [
    "train.select_dtypes(include=['object']).describe().transpose()"
   ]
  },
  {
   "cell_type": "markdown",
   "metadata": {},
   "source": [
    "## Percent Null"
   ]
  },
  {
   "cell_type": "code",
   "execution_count": 10,
   "metadata": {
    "collapsed": false
   },
   "outputs": [
    {
     "data": {
      "text/plain": [
       "PoolQC          0.995205\n",
       "MiscFeature     0.963014\n",
       "Alley           0.937671\n",
       "Fence           0.807534\n",
       "FireplaceQu     0.472603\n",
       "LotFrontage     0.177397\n",
       "GarageYrBlt     0.055479\n",
       "GarageCond      0.055479\n",
       "GarageType      0.055479\n",
       "GarageFinish    0.055479\n",
       "GarageQual      0.055479\n",
       "BsmtExposure    0.026027\n",
       "BsmtFinType2    0.026027\n",
       "BsmtFinType1    0.025342\n",
       "BsmtCond        0.025342\n",
       "BsmtQual        0.025342\n",
       "MasVnrType      0.005479\n",
       "MasVnrArea      0.005479\n",
       "Electrical      0.000685\n",
       "dtype: float64"
      ]
     },
     "execution_count": 10,
     "metadata": {},
     "output_type": "execute_result"
    }
   ],
   "source": [
    "nulls = train.isnull().sum().sort_values(ascending=False)\n",
    "nulls = nulls[nulls != 0].sort_values(ascending=False)\n",
    "nulls = nulls / len(train)\n",
    "nulls"
   ]
  },
  {
   "cell_type": "markdown",
   "metadata": {},
   "source": [
    "## Percent Zero"
   ]
  },
  {
   "cell_type": "code",
   "execution_count": 11,
   "metadata": {
    "collapsed": false
   },
   "outputs": [
    {
     "data": {
      "text/plain": [
       "PoolArea         0.995205\n",
       "3SsnPorch        0.983562\n",
       "LowQualFinSF     0.982192\n",
       "MiscVal          0.964384\n",
       "BsmtHalfBath     0.943836\n",
       "ScreenPorch      0.920548\n",
       "BsmtFinSF2       0.885616\n",
       "EnclosedPorch    0.857534\n",
       "HalfBath         0.625342\n",
       "MasVnrArea       0.589726\n",
       "BsmtFullBath     0.586301\n",
       "2ndFlrSF         0.567808\n",
       "WoodDeckSF       0.521233\n",
       "Fireplaces       0.472603\n",
       "OpenPorchSF      0.449315\n",
       "BsmtFinSF1       0.319863\n",
       "BsmtUnfSF        0.080822\n",
       "GarageCars       0.055479\n",
       "GarageArea       0.055479\n",
       "TotalBsmtSF      0.025342\n",
       "FullBath         0.006164\n",
       "BedroomAbvGr     0.004110\n",
       "KitchenAbvGr     0.000685\n",
       "dtype: float64"
      ]
     },
     "execution_count": 11,
     "metadata": {},
     "output_type": "execute_result"
    }
   ],
   "source": [
    "nonzeros = train.select_dtypes(exclude=['object']).astype(bool).sum()\n",
    "zeros = len(train) - nonzeros\n",
    "zeros = zeros[zeros != 0].sort_values(ascending=False)\n",
    "zeros = zeros / len(train)\n",
    "zeros"
   ]
  },
  {
   "cell_type": "markdown",
   "metadata": {},
   "source": [
    "## Correlation"
   ]
  },
  {
   "cell_type": "code",
   "execution_count": 12,
   "metadata": {
    "collapsed": false
   },
   "outputs": [
    {
     "name": "stdout",
     "output_type": "stream",
     "text": [
      "\n",
      "\n",
      "SEE CORRELATION FOLDER FOR OUTPUT\n",
      "\n",
      "\n"
     ]
    }
   ],
   "source": [
    "pearson = train[numeric].corr()\n",
    "spearman = train[numeric].corr(method='spearman')\n",
    "\n",
    "pearson.to_csv('correlation\\\\pearson.csv')\n",
    "spearman.to_csv('correlation\\\\spearman.csv')\n",
    "\n",
    "print '\\n\\nSEE CORRELATION FOLDER FOR OUTPUT\\n\\n'"
   ]
  },
  {
   "cell_type": "markdown",
   "metadata": {},
   "source": [
    "## Scatter Plots"
   ]
  },
  {
   "cell_type": "code",
   "execution_count": 13,
   "metadata": {
    "collapsed": true
   },
   "outputs": [],
   "source": [
    "def scatter_img(df, features):\n",
    "    combos = set()\n",
    "    x = 'SalePrice'\n",
    "    for y in features:\n",
    "        combo = [y,x]\n",
    "        combos.add(tuple(combo))\n",
    "    \n",
    "    for combo in combos:\n",
    "        plt.scatter(df[combo[0]], df[combo[1]])\n",
    "        plt.xlabel(combo[0])\n",
    "        plt.ylabel(combo[1])\n",
    "        plt.savefig('scatter plots\\\\' + combo[0] + ' - ' + combo[1] + '.png')\n",
    "        plt.close('all')\n",
    "    print '\\n\\nSEE SCATTER PLOTS FOLDER FOR OUTPUT\\n\\n'"
   ]
  },
  {
   "cell_type": "code",
   "execution_count": 14,
   "metadata": {
    "collapsed": false
   },
   "outputs": [
    {
     "name": "stdout",
     "output_type": "stream",
     "text": [
      "\n",
      "\n",
      "SEE SCATTER PLOTS FOLDER FOR OUTPUT\n",
      "\n",
      "\n"
     ]
    }
   ],
   "source": [
    "scatter_img(train, numeric)"
   ]
  },
  {
   "cell_type": "markdown",
   "metadata": {},
   "source": [
    "## Histograms"
   ]
  },
  {
   "cell_type": "code",
   "execution_count": 15,
   "metadata": {
    "collapsed": true
   },
   "outputs": [],
   "source": [
    "def hist_bins(df, series):\n",
    "    try:    \n",
    "        feature = series\n",
    "        series = df[series].dropna()\n",
    "        full_range = series.max() - series.min()\n",
    "        iqr = series.describe()[6] - series.describe()[4]\n",
    "        n = float(len(series))\n",
    "        bin_size = 2 * iqr * (n ** (-1.0/3.0)) # Freedman Diaconis Estimator\n",
    "        bins = int(full_range / bin_size) + 1\n",
    "    except:\n",
    "        bins = 5     \n",
    "    bins = 5 if bins < 5 else bins\n",
    "    return bins\n",
    "\n",
    "def hist_img(df, features):\n",
    "    for feature in features:\n",
    "            series = df[feature].dropna()\n",
    "            plt.hist(series, bins=hist_bins(df, feature))\n",
    "            plt.title(feature)\n",
    "            plt.savefig('histograms\\\\' + feature + '.png')\n",
    "            plt.close('all')\n",
    "    print '\\n\\nSEE HISTOGRAMS FOLDER FOR OUTPUT\\n\\n'"
   ]
  },
  {
   "cell_type": "code",
   "execution_count": 16,
   "metadata": {
    "collapsed": false
   },
   "outputs": [
    {
     "name": "stdout",
     "output_type": "stream",
     "text": [
      "\n",
      "\n",
      "SEE HISTOGRAMS FOLDER FOR OUTPUT\n",
      "\n",
      "\n"
     ]
    }
   ],
   "source": [
    "hist_img(train, numeric)"
   ]
  },
  {
   "cell_type": "markdown",
   "metadata": {},
   "source": [
    "## Skewness"
   ]
  },
  {
   "cell_type": "code",
   "execution_count": 17,
   "metadata": {
    "collapsed": false
   },
   "outputs": [
    {
     "data": {
      "text/plain": [
       "MiscVal          24.476794\n",
       "PoolArea         14.828374\n",
       "LotArea          12.207688\n",
       "3SsnPorch        10.304342\n",
       "LowQualFinSF      9.011341\n",
       "BsmtFinSF2        4.255261\n",
       "ScreenPorch       4.122214\n",
       "EnclosedPorch     3.089872\n",
       "MasVnrArea        2.669084\n",
       "OpenPorchSF       2.364342\n",
       "LotFrontage       2.163569\n",
       "SalePrice         1.882876\n",
       "BsmtFinSF1        1.685503\n",
       "WoodDeckSF        1.541376\n",
       "TotalBsmtSF       1.524255\n",
       "1stFlrSF          1.376757\n",
       "GrLivArea         1.366560\n",
       "BsmtUnfSF         0.920268\n",
       "2ndFlrSF          0.813030\n",
       "GarageArea        0.179981\n",
       "dtype: float64"
      ]
     },
     "execution_count": 17,
     "metadata": {},
     "output_type": "execute_result"
    }
   ],
   "source": [
    "train[continuous].skew().sort_values(ascending=False)"
   ]
  },
  {
   "cell_type": "markdown",
   "metadata": {},
   "source": [
    "## Bar Plots"
   ]
  },
  {
   "cell_type": "code",
   "execution_count": 18,
   "metadata": {
    "collapsed": true
   },
   "outputs": [],
   "source": [
    "def bar_img(df, features):\n",
    "    for feature in features:\n",
    "            series = df[feature]\n",
    "            series.value_counts().plot.bar()\n",
    "            plt.title(feature)\n",
    "            plt.savefig('bar plots\\\\' + feature + '.png')\n",
    "            plt.close('all')\n",
    "    print '\\n\\nSEE BAR PLOTS FOLDER FOR OUTPUT\\n\\n'"
   ]
  },
  {
   "cell_type": "code",
   "execution_count": 19,
   "metadata": {
    "collapsed": false
   },
   "outputs": [
    {
     "name": "stdout",
     "output_type": "stream",
     "text": [
      "\n",
      "\n",
      "SEE BAR PLOTS FOLDER FOR OUTPUT\n",
      "\n",
      "\n"
     ]
    }
   ],
   "source": [
    "bar_img(train, categorical)"
   ]
  },
  {
   "cell_type": "markdown",
   "metadata": {},
   "source": [
    "# FEATURE ENGINEERING"
   ]
  },
  {
   "cell_type": "markdown",
   "metadata": {},
   "source": [
    "## Make a copy of data"
   ]
  },
  {
   "cell_type": "code",
   "execution_count": 20,
   "metadata": {
    "collapsed": false
   },
   "outputs": [],
   "source": [
    "eng_train = train.copy()\n",
    "eng_test = test.copy()"
   ]
  },
  {
   "cell_type": "markdown",
   "metadata": {},
   "source": [
    "## Removing training records that have outliers"
   ]
  },
  {
   "cell_type": "code",
   "execution_count": 21,
   "metadata": {
    "collapsed": false
   },
   "outputs": [],
   "source": [
    "eng_train = eng_train.loc[train['BedroomAbvGr'] <= 6, :]\n",
    "eng_train = eng_train.loc[train['BsmtFinSF1'] <= 5000, :]\n",
    "eng_train = eng_train.loc[train['GrLivArea'] <= 4500, :]\n",
    "eng_train = eng_train.loc[train['LotArea'] <= 100000, :]"
   ]
  },
  {
   "cell_type": "markdown",
   "metadata": {},
   "source": [
    "## Hand selecting out-of-the-box features Realtors typically use for CMA (will create more below and add them in)"
   ]
  },
  {
   "cell_type": "code",
   "execution_count": 22,
   "metadata": {
    "collapsed": true
   },
   "outputs": [],
   "source": [
    "nominal = ['HouseStyle']\n",
    "\n",
    "ordinal = ['OverallQual','OverallCond']\n",
    "\n",
    "continuous = ['LotArea','BsmtUnfSF','GrLivArea']\n",
    "\n",
    "discrete = ['YearBuilt','YearRemodAdd','BedroomAbvGr','GarageCars']\n",
    "\n",
    "categorical = nominal + ordinal\n",
    "numeric = continuous + discrete"
   ]
  },
  {
   "cell_type": "markdown",
   "metadata": {},
   "source": [
    "## Replacing MoSold and YrSold with FHFA House Price Index"
   ]
  },
  {
   "cell_type": "markdown",
   "metadata": {},
   "source": [
    "#### Converting MoSold and YrSold to date string"
   ]
  },
  {
   "cell_type": "code",
   "execution_count": 23,
   "metadata": {
    "collapsed": false
   },
   "outputs": [],
   "source": [
    "eng_train['SaleMonth'] = eng_train.MoSold.apply(lambda x: str(x)) + '/1/' + eng_train.YrSold.apply(lambda x: str(x))\n",
    "eng_test['SaleMonth'] = eng_test.MoSold.apply(lambda x: str(x)) + '/1/' + eng_test.YrSold.apply(lambda x: str(x))"
   ]
  },
  {
   "cell_type": "markdown",
   "metadata": {},
   "source": [
    "#### Reading in House Price Index (HPI) data"
   ]
  },
  {
   "cell_type": "code",
   "execution_count": 24,
   "metadata": {
    "collapsed": false
   },
   "outputs": [
    {
     "data": {
      "text/html": [
       "<div>\n",
       "<table border=\"1\" class=\"dataframe\">\n",
       "  <thead>\n",
       "    <tr style=\"text-align: right;\">\n",
       "      <th></th>\n",
       "      <th>Month</th>\n",
       "      <th>East North Central\n",
       "(NSA)</th>\n",
       "      <th>East North Central\n",
       "(SA)</th>\n",
       "      <th>East South Central\n",
       "(NSA)</th>\n",
       "      <th>East South Central\n",
       "(SA)</th>\n",
       "      <th>Middle Atlantic\n",
       "(NSA)</th>\n",
       "      <th>Middle Atlantic\n",
       "(SA)</th>\n",
       "      <th>Mountain\n",
       "\n",
       "(NSA)</th>\n",
       "      <th>Mountain\n",
       "\n",
       "(SA)</th>\n",
       "      <th>New England\n",
       "\n",
       "(NSA)</th>\n",
       "      <th>...</th>\n",
       "      <th>Pacific\n",
       "\n",
       "(NSA)</th>\n",
       "      <th>Pacific\n",
       "\n",
       "(SA)</th>\n",
       "      <th>South Atlantic\n",
       "(NSA)</th>\n",
       "      <th>South Atlantic\n",
       "(SA)</th>\n",
       "      <th>West North Central\n",
       "(NSA)</th>\n",
       "      <th>West North Central\n",
       "(SA)</th>\n",
       "      <th>West South Central\n",
       "(NSA)</th>\n",
       "      <th>West South Central\n",
       "(SA)</th>\n",
       "      <th>USA\n",
       "\n",
       "(NSA)</th>\n",
       "      <th>USA\n",
       "\n",
       "(SA)</th>\n",
       "    </tr>\n",
       "  </thead>\n",
       "  <tbody>\n",
       "    <tr>\n",
       "      <th>1</th>\n",
       "      <td>1991-01-01</td>\n",
       "      <td>100.00</td>\n",
       "      <td>100.00</td>\n",
       "      <td>100.00</td>\n",
       "      <td>100.00</td>\n",
       "      <td>100.00</td>\n",
       "      <td>100.00</td>\n",
       "      <td>100.00</td>\n",
       "      <td>100.00</td>\n",
       "      <td>100.00</td>\n",
       "      <td>...</td>\n",
       "      <td>100.00</td>\n",
       "      <td>100.00</td>\n",
       "      <td>100.00</td>\n",
       "      <td>100.00</td>\n",
       "      <td>100.00</td>\n",
       "      <td>100.00</td>\n",
       "      <td>100.00</td>\n",
       "      <td>100.00</td>\n",
       "      <td>100.00</td>\n",
       "      <td>100.00</td>\n",
       "    </tr>\n",
       "    <tr>\n",
       "      <th>2</th>\n",
       "      <td>1991-02-01</td>\n",
       "      <td>101.04</td>\n",
       "      <td>101.12</td>\n",
       "      <td>100.93</td>\n",
       "      <td>100.65</td>\n",
       "      <td>100.08</td>\n",
       "      <td>100.21</td>\n",
       "      <td>98.51</td>\n",
       "      <td>98.70</td>\n",
       "      <td>102.07</td>\n",
       "      <td>...</td>\n",
       "      <td>100.25</td>\n",
       "      <td>100.55</td>\n",
       "      <td>100.49</td>\n",
       "      <td>100.43</td>\n",
       "      <td>100.69</td>\n",
       "      <td>100.78</td>\n",
       "      <td>100.02</td>\n",
       "      <td>99.81</td>\n",
       "      <td>100.47</td>\n",
       "      <td>100.52</td>\n",
       "    </tr>\n",
       "    <tr>\n",
       "      <th>3</th>\n",
       "      <td>1991-03-01</td>\n",
       "      <td>101.41</td>\n",
       "      <td>101.08</td>\n",
       "      <td>101.03</td>\n",
       "      <td>100.65</td>\n",
       "      <td>99.93</td>\n",
       "      <td>99.75</td>\n",
       "      <td>100.22</td>\n",
       "      <td>100.57</td>\n",
       "      <td>101.70</td>\n",
       "      <td>...</td>\n",
       "      <td>100.04</td>\n",
       "      <td>100.18</td>\n",
       "      <td>100.90</td>\n",
       "      <td>100.54</td>\n",
       "      <td>100.35</td>\n",
       "      <td>100.09</td>\n",
       "      <td>100.84</td>\n",
       "      <td>100.54</td>\n",
       "      <td>100.72</td>\n",
       "      <td>100.51</td>\n",
       "    </tr>\n",
       "    <tr>\n",
       "      <th>4</th>\n",
       "      <td>1991-04-01</td>\n",
       "      <td>101.80</td>\n",
       "      <td>101.12</td>\n",
       "      <td>101.02</td>\n",
       "      <td>100.76</td>\n",
       "      <td>99.37</td>\n",
       "      <td>99.06</td>\n",
       "      <td>100.50</td>\n",
       "      <td>100.40</td>\n",
       "      <td>101.09</td>\n",
       "      <td>...</td>\n",
       "      <td>100.20</td>\n",
       "      <td>100.06</td>\n",
       "      <td>100.93</td>\n",
       "      <td>100.49</td>\n",
       "      <td>100.95</td>\n",
       "      <td>100.47</td>\n",
       "      <td>100.51</td>\n",
       "      <td>100.14</td>\n",
       "      <td>100.74</td>\n",
       "      <td>100.37</td>\n",
       "    </tr>\n",
       "    <tr>\n",
       "      <th>5</th>\n",
       "      <td>1991-05-01</td>\n",
       "      <td>102.45</td>\n",
       "      <td>101.50</td>\n",
       "      <td>101.25</td>\n",
       "      <td>100.80</td>\n",
       "      <td>99.58</td>\n",
       "      <td>99.12</td>\n",
       "      <td>100.71</td>\n",
       "      <td>100.38</td>\n",
       "      <td>99.76</td>\n",
       "      <td>...</td>\n",
       "      <td>100.40</td>\n",
       "      <td>100.10</td>\n",
       "      <td>100.81</td>\n",
       "      <td>100.60</td>\n",
       "      <td>100.73</td>\n",
       "      <td>100.28</td>\n",
       "      <td>100.94</td>\n",
       "      <td>100.33</td>\n",
       "      <td>100.89</td>\n",
       "      <td>100.42</td>\n",
       "    </tr>\n",
       "  </tbody>\n",
       "</table>\n",
       "<p>5 rows × 21 columns</p>\n",
       "</div>"
      ],
      "text/plain": [
       "       Month  East North Central\\n(NSA)  East North Central\\n(SA)  \\\n",
       "1 1991-01-01                     100.00                    100.00   \n",
       "2 1991-02-01                     101.04                    101.12   \n",
       "3 1991-03-01                     101.41                    101.08   \n",
       "4 1991-04-01                     101.80                    101.12   \n",
       "5 1991-05-01                     102.45                    101.50   \n",
       "\n",
       "   East South Central\\n(NSA)  East South Central\\n(SA)  \\\n",
       "1                     100.00                    100.00   \n",
       "2                     100.93                    100.65   \n",
       "3                     101.03                    100.65   \n",
       "4                     101.02                    100.76   \n",
       "5                     101.25                    100.80   \n",
       "\n",
       "   Middle Atlantic\\n(NSA)  Middle Atlantic\\n(SA)  Mountain\\n\\n(NSA)  \\\n",
       "1                  100.00                 100.00             100.00   \n",
       "2                  100.08                 100.21              98.51   \n",
       "3                   99.93                  99.75             100.22   \n",
       "4                   99.37                  99.06             100.50   \n",
       "5                   99.58                  99.12             100.71   \n",
       "\n",
       "   Mountain\\n\\n(SA)  New England\\n\\n(NSA)     ...       Pacific\\n\\n(NSA)  \\\n",
       "1            100.00                100.00     ...                 100.00   \n",
       "2             98.70                102.07     ...                 100.25   \n",
       "3            100.57                101.70     ...                 100.04   \n",
       "4            100.40                101.09     ...                 100.20   \n",
       "5            100.38                 99.76     ...                 100.40   \n",
       "\n",
       "   Pacific\\n\\n(SA)  South Atlantic\\n(NSA)  South Atlantic\\n(SA)  \\\n",
       "1           100.00                 100.00                100.00   \n",
       "2           100.55                 100.49                100.43   \n",
       "3           100.18                 100.90                100.54   \n",
       "4           100.06                 100.93                100.49   \n",
       "5           100.10                 100.81                100.60   \n",
       "\n",
       "   West North Central\\n(NSA)  West North Central\\n(SA)  \\\n",
       "1                     100.00                    100.00   \n",
       "2                     100.69                    100.78   \n",
       "3                     100.35                    100.09   \n",
       "4                     100.95                    100.47   \n",
       "5                     100.73                    100.28   \n",
       "\n",
       "   West South Central\\n(NSA)  West South Central\\n(SA)  USA\\n\\n(NSA)  \\\n",
       "1                     100.00                    100.00        100.00   \n",
       "2                     100.02                     99.81        100.47   \n",
       "3                     100.84                    100.54        100.72   \n",
       "4                     100.51                    100.14        100.74   \n",
       "5                     100.94                    100.33        100.89   \n",
       "\n",
       "   USA\\n\\n(SA)  \n",
       "1       100.00  \n",
       "2       100.52  \n",
       "3       100.51  \n",
       "4       100.37  \n",
       "5       100.42  \n",
       "\n",
       "[5 rows x 21 columns]"
      ]
     },
     "execution_count": 24,
     "metadata": {},
     "output_type": "execute_result"
    }
   ],
   "source": [
    "#hpi = pd.read_excel('https://www.fhfa.gov/DataTools/Downloads/Documents/HPI/HPI_PO_monthly_hist.xls', header=0, skiprows=[0,1,2])\n",
    "hpi = pd.read_excel('HPI_PO_monthly_hist.xls', header=0, skiprows=[0,1,2])\n",
    "hpi = hpi.dropna()\n",
    "hpi.head()"
   ]
  },
  {
   "cell_type": "markdown",
   "metadata": {},
   "source": [
    "#### Converting HPI Month to date string"
   ]
  },
  {
   "cell_type": "code",
   "execution_count": 25,
   "metadata": {
    "collapsed": false
   },
   "outputs": [],
   "source": [
    "hpi['SaleMonth'] = hpi.Month.apply(lambda x: str(x.month)) + '/1/' + hpi.Month.apply(lambda x: str(x.year))"
   ]
  },
  {
   "cell_type": "markdown",
   "metadata": {},
   "source": [
    "#### Renaming target column (West North Central NSA) to simply HPI"
   ]
  },
  {
   "cell_type": "code",
   "execution_count": 26,
   "metadata": {
    "collapsed": true
   },
   "outputs": [],
   "source": [
    "hpi.rename(columns={'West North Central\\n(NSA)':'HPI'}, inplace=True)"
   ]
  },
  {
   "cell_type": "markdown",
   "metadata": {},
   "source": [
    "#### Keeping only the columns we need from HPI"
   ]
  },
  {
   "cell_type": "code",
   "execution_count": 27,
   "metadata": {
    "collapsed": false
   },
   "outputs": [],
   "source": [
    "hpi = hpi[['SaleMonth','HPI']]"
   ]
  },
  {
   "cell_type": "markdown",
   "metadata": {},
   "source": [
    "#### Joining sales data with HPI data on SaleMonth"
   ]
  },
  {
   "cell_type": "code",
   "execution_count": 28,
   "metadata": {
    "collapsed": true
   },
   "outputs": [],
   "source": [
    "eng_train = eng_train.merge(hpi, on='SaleMonth')\n",
    "eng_test = eng_test.merge(hpi, on='SaleMonth')"
   ]
  },
  {
   "cell_type": "markdown",
   "metadata": {},
   "source": [
    "#### Removing MoSold, YrSold, and SaleMonth"
   ]
  },
  {
   "cell_type": "code",
   "execution_count": 29,
   "metadata": {
    "collapsed": true
   },
   "outputs": [],
   "source": [
    "eng_train.drop(['MoSold','YrSold','SaleMonth'], axis=1, inplace=True)\n",
    "eng_test.drop(['MoSold','YrSold','SaleMonth'], axis=1, inplace=True)\n",
    "\n",
    "continuous.append('HPI')"
   ]
  },
  {
   "cell_type": "markdown",
   "metadata": {},
   "source": [
    "## Creating binary (one-hot) features from existing features"
   ]
  },
  {
   "cell_type": "markdown",
   "metadata": {},
   "source": [
    "#### Creating IrregularLot from LotShape where Reg = 0 else 1"
   ]
  },
  {
   "cell_type": "code",
   "execution_count": 30,
   "metadata": {
    "collapsed": true
   },
   "outputs": [],
   "source": [
    "eng_train['IrregularLot'] = 1.0\n",
    "eng_test['IrregularLot'] = 1.0\n",
    "eng_train.loc[eng_train.LotShape == 'Reg', 'IrregularLot'] = 0.0\n",
    "eng_test.loc[eng_test.LotShape == 'Reg', 'IrregularLot'] = 0.0\n",
    "\n",
    "binary = ['IrregularLot']"
   ]
  },
  {
   "cell_type": "markdown",
   "metadata": {},
   "source": [
    "#### Creating CornerLot from LotConfig where Corner = 1 else 0"
   ]
  },
  {
   "cell_type": "code",
   "execution_count": 31,
   "metadata": {
    "collapsed": false
   },
   "outputs": [],
   "source": [
    "eng_train['CornerLot'] = 0.0\n",
    "eng_test['CornerLot'] = 0.0\n",
    "eng_train.loc[eng_train.LotConfig == 'Corner', 'CornerLot'] = 1.0\n",
    "eng_test.loc[eng_test.LotConfig == 'Corner', 'CornerLot'] = 1.0\n",
    "\n",
    "binary.append('CornerLot')"
   ]
  },
  {
   "cell_type": "markdown",
   "metadata": {},
   "source": [
    "#### Creating CulDeSac from LotConfig where CulDeSac = 1 else 0"
   ]
  },
  {
   "cell_type": "code",
   "execution_count": 32,
   "metadata": {
    "collapsed": true
   },
   "outputs": [],
   "source": [
    "eng_train['CulDeSac'] = 0.0\n",
    "eng_test['CulDeSac'] = 0.0\n",
    "eng_train.loc[eng_train.LotConfig == 'CulDSac', 'CulDeSac'] = 1.0\n",
    "eng_test.loc[eng_test.LotConfig == 'CulDSac', 'CulDeSac'] = 1.0\n",
    "\n",
    "binary.append('CulDeSac')"
   ]
  },
  {
   "cell_type": "markdown",
   "metadata": {},
   "source": [
    "#### Creating BadLocation from Condition1 where Norm, PosN, or PosA = 0 else 1"
   ]
  },
  {
   "cell_type": "code",
   "execution_count": 33,
   "metadata": {
    "collapsed": false
   },
   "outputs": [],
   "source": [
    "eng_train['BadLocation'] = 1.0\n",
    "eng_test['BadLocation'] = 1.0\n",
    "eng_train.loc[(eng_train.Condition1 == 'Norm') | (eng_train.Condition1 == 'PosN') | (eng_train.Condition1 == 'PosA'),\n",
    "              'BadLocation'] = 0.0\n",
    "eng_test.loc[(eng_test.Condition1 == 'Norm') | (eng_test.Condition1 == 'PosN') | (eng_test.Condition1 == 'PosA'), \n",
    "             'BadLocation'] = 0.0\n",
    "\n",
    "binary.append('BadLocation')"
   ]
  },
  {
   "cell_type": "markdown",
   "metadata": {},
   "source": [
    "#### Creating NeedExterRepair from ExterCond where Fa or Po = 1 else 0"
   ]
  },
  {
   "cell_type": "code",
   "execution_count": 34,
   "metadata": {
    "collapsed": false
   },
   "outputs": [],
   "source": [
    "eng_train['NeedExterRepair'] = 0.0\n",
    "eng_test['NeedExterRepair'] = 0.0\n",
    "eng_train.loc[(eng_train.ExterCond == 'Fa') | (eng_train.ExterCond == 'Po'), 'NeedExterRepair'] = 1.0\n",
    "eng_test.loc[(eng_test.ExterCond == 'Fa') | (eng_test.ExterCond == 'Po'), 'NeedExterRepair'] = 1.0\n",
    "\n",
    "binary.append('NeedExterRepair')"
   ]
  },
  {
   "cell_type": "markdown",
   "metadata": {},
   "source": [
    "#### Creating NeedBsmtRepair from ExterCond where Fa or Po = 1 else 0"
   ]
  },
  {
   "cell_type": "code",
   "execution_count": 35,
   "metadata": {
    "collapsed": true
   },
   "outputs": [],
   "source": [
    "eng_train['NeedBsmtRepair'] = 0.0\n",
    "eng_test['NeedBsmtRepair'] = 0.0\n",
    "eng_train.loc[(eng_train.BsmtCond == 'Fa') | (eng_train.BsmtCond == 'Po'), 'NeedBsmtRepair'] = 1.0\n",
    "eng_test.loc[(eng_test.BsmtCond == 'Fa') | (eng_test.BsmtCond == 'Po'), 'NeedBsmtRepair'] = 1.0\n",
    "\n",
    "binary.append('NeedBsmtRepair')"
   ]
  },
  {
   "cell_type": "markdown",
   "metadata": {},
   "source": [
    "#### Creating HasWalkoutBsmt from BsmtExposure where Gd = 1 else 0"
   ]
  },
  {
   "cell_type": "code",
   "execution_count": 36,
   "metadata": {
    "collapsed": true
   },
   "outputs": [],
   "source": [
    "eng_train['HasWalkoutBsmt'] = 0.0\n",
    "eng_test['HasWalkoutBsmt'] = 0.0\n",
    "eng_train.loc[eng_train.BsmtExposure == 'Gd', 'HasWalkoutBsmt'] = 1.0\n",
    "eng_test.loc[eng_test.BsmtExposure == 'Gd', 'HasWalkoutBsmt'] = 1.0\n",
    "\n",
    "binary.append('HasWalkoutBsmt')"
   ]
  },
  {
   "cell_type": "markdown",
   "metadata": {},
   "source": [
    "#### Creating NeedHeatReplace from HeatingQC where Fa or Po = 1 else 0"
   ]
  },
  {
   "cell_type": "code",
   "execution_count": 37,
   "metadata": {
    "collapsed": true
   },
   "outputs": [],
   "source": [
    "eng_train['NeedHeatReplace'] = 0.0\n",
    "eng_test['NeedHeatReplace'] = 0.0\n",
    "eng_train.loc[(eng_train.HeatingQC == 'Fa') | (eng_train.HeatingQC == 'Po'), 'NeedHeatReplace'] = 1.0\n",
    "eng_test.loc[(eng_test.HeatingQC == 'Fa') | (eng_test.HeatingQC == 'Po'), 'NeedHeatReplace'] = 1.0\n",
    "\n",
    "binary.append('NeedHeatReplace')"
   ]
  },
  {
   "cell_type": "markdown",
   "metadata": {},
   "source": [
    "#### Creating NoAC from CentralAir where N = 1 else 0"
   ]
  },
  {
   "cell_type": "code",
   "execution_count": 38,
   "metadata": {
    "collapsed": true
   },
   "outputs": [],
   "source": [
    "eng_train['NoAC'] = 0.0\n",
    "eng_test['NoAC'] = 0.0\n",
    "eng_train.loc[eng_train.CentralAir == 'N', 'NoAC'] = 1.0\n",
    "eng_test.loc[eng_test.CentralAir == 'N', 'NoAC'] = 1.0\n",
    "\n",
    "binary.append('NoAC')"
   ]
  },
  {
   "cell_type": "markdown",
   "metadata": {},
   "source": [
    "#### Creating NeedElectricUpgrade from Electrical where SBrkr or FuseA = 0 else 1"
   ]
  },
  {
   "cell_type": "code",
   "execution_count": 39,
   "metadata": {
    "collapsed": true
   },
   "outputs": [],
   "source": [
    "eng_train['NeedElectricUpgrade'] = 1.0\n",
    "eng_test['NeedElectricUpgrade'] = 1.0\n",
    "eng_train.loc[(eng_train.Electrical == 'SBrkr') | (eng_train.Electrical == 'FuseA'), 'NeedElectricUpgrade'] = 0.0\n",
    "eng_test.loc[(eng_test.Electrical == 'SBrkr') | (eng_test.Electrical == 'FuseA'), 'NeedElectricUpgrade'] = 0.0\n",
    "\n",
    "binary.append('NeedElectricUpgrade')"
   ]
  },
  {
   "cell_type": "markdown",
   "metadata": {},
   "source": [
    "#### Creating HasMultiKitchens from KitchenAbvGr"
   ]
  },
  {
   "cell_type": "code",
   "execution_count": 40,
   "metadata": {
    "collapsed": true
   },
   "outputs": [],
   "source": [
    "eng_train['HasMultiKitchens'] = 0.0\n",
    "eng_test['HasMultiKitchens'] = 0.0\n",
    "eng_train.loc[eng_train.KitchenAbvGr > 1.0, 'HasMultiKitchens'] = 1.0\n",
    "eng_test.loc[eng_test.KitchenAbvGr > 1.0, 'HasMultiKitchens'] = 1.0\n",
    "\n",
    "binary.append('HasMultiKitchens')"
   ]
  },
  {
   "cell_type": "markdown",
   "metadata": {},
   "source": [
    "#### Creating HasHighEndKitchen from KitchenQual where Ex = 1 else 0"
   ]
  },
  {
   "cell_type": "code",
   "execution_count": 41,
   "metadata": {
    "collapsed": false
   },
   "outputs": [],
   "source": [
    "eng_train['HasHighEndKitchen'] = 0.0\n",
    "eng_test['HasHighEndKitchen'] = 0.0\n",
    "eng_train.loc[eng_train.KitchenQual == 'Ex', 'HasHighEndKitchen'] = 1.0\n",
    "eng_test.loc[eng_test.KitchenQual == 'Ex', 'HasHighEndKitchen'] = 1.0\n",
    "\n",
    "binary.append('HasHighEndKitchen')"
   ]
  },
  {
   "cell_type": "markdown",
   "metadata": {},
   "source": [
    "#### Creating NeedGeneralRepair from Functional where Typ = 0 else 1"
   ]
  },
  {
   "cell_type": "code",
   "execution_count": 42,
   "metadata": {
    "collapsed": true
   },
   "outputs": [],
   "source": [
    "eng_train['NeedGeneralRepair'] = 1.0\n",
    "eng_test['NeedGeneralRepair'] = 1.0\n",
    "eng_train.loc[eng_train.Functional == 'Typ', 'NeedGeneralRepair'] = 0.0\n",
    "eng_test.loc[eng_test.Functional == 'Typ', 'NeedGeneralRepair'] = 0.0\n",
    "\n",
    "binary.append('NeedGeneralRepair')"
   ]
  },
  {
   "cell_type": "markdown",
   "metadata": {},
   "source": [
    "#### Creating HasFireplace from Fireplaces"
   ]
  },
  {
   "cell_type": "code",
   "execution_count": 43,
   "metadata": {
    "collapsed": true
   },
   "outputs": [],
   "source": [
    "eng_train['HasFireplace'] = 0.0\n",
    "eng_test['HasFireplace'] = 0.0\n",
    "eng_train.loc[eng_train.Fireplaces > 0.0, 'HasFireplace'] = 1.0\n",
    "eng_test.loc[eng_test.Fireplaces > 0.0, 'HasFireplace'] = 1.0\n",
    "\n",
    "binary.append('HasFireplace')"
   ]
  },
  {
   "cell_type": "markdown",
   "metadata": {},
   "source": [
    "#### Creating NeedGarageRepair from GarageCond where Fa or Po = 1 else 0"
   ]
  },
  {
   "cell_type": "code",
   "execution_count": 44,
   "metadata": {
    "collapsed": true
   },
   "outputs": [],
   "source": [
    "eng_train['NeedGarageRepair'] = 0.0\n",
    "eng_test['NeedGarageRepair'] = 0.0\n",
    "eng_train.loc[(eng_train.GarageCond == 'Fa') | (eng_train.GarageCond == 'Po'), 'NeedGarageRepair'] = 1.0\n",
    "eng_test.loc[(eng_test.GarageCond == 'Fa') | (eng_test.GarageCond == 'Po'), 'NeedGarageRepair'] = 1.0\n",
    "\n",
    "binary.append('NeedGarageRepair')"
   ]
  },
  {
   "cell_type": "markdown",
   "metadata": {},
   "source": [
    "#### Creating HasDeck from WoodDeckSF"
   ]
  },
  {
   "cell_type": "code",
   "execution_count": 45,
   "metadata": {
    "collapsed": true
   },
   "outputs": [],
   "source": [
    "eng_train['HasDeck'] = 0.0\n",
    "eng_test['HasDeck'] = 0.0\n",
    "eng_train.loc[eng_train.WoodDeckSF > 0.0, 'HasDeck'] = 1.0\n",
    "eng_test.loc[eng_test.WoodDeckSF > 0.0, 'HasDeck'] = 1.0\n",
    "\n",
    "binary.append('HasDeck')"
   ]
  },
  {
   "cell_type": "markdown",
   "metadata": {},
   "source": [
    "#### Creating HasPorch from OpenPorchSF"
   ]
  },
  {
   "cell_type": "code",
   "execution_count": 46,
   "metadata": {
    "collapsed": true
   },
   "outputs": [],
   "source": [
    "eng_train['HasPorch'] = 0.0\n",
    "eng_test['HasPorch'] = 0.0\n",
    "eng_train.loc[eng_train.OpenPorchSF > 0.0, 'HasPorch'] = 1.0\n",
    "eng_test.loc[eng_test.OpenPorchSF > 0.0, 'HasPorch'] = 1.0\n",
    "\n",
    "binary.append('HasPorch')"
   ]
  },
  {
   "cell_type": "markdown",
   "metadata": {},
   "source": [
    "#### Creating HasEnclPorch from EnclosedPorch"
   ]
  },
  {
   "cell_type": "code",
   "execution_count": 47,
   "metadata": {
    "collapsed": true
   },
   "outputs": [],
   "source": [
    "eng_train['HasEnclPorch'] = 0.0\n",
    "eng_test['HasEnclPorch'] = 0.0\n",
    "eng_train.loc[eng_train.EnclosedPorch > 0.0, 'HasEnclPorch'] = 1.0\n",
    "eng_test.loc[eng_test.EnclosedPorch > 0.0, 'HasEnclPorch'] = 1.0\n",
    "\n",
    "binary.append('HasEnclPorch')"
   ]
  },
  {
   "cell_type": "markdown",
   "metadata": {},
   "source": [
    "#### Creating Has3SeasonRoom from 3SsnPorch"
   ]
  },
  {
   "cell_type": "code",
   "execution_count": 48,
   "metadata": {
    "collapsed": true
   },
   "outputs": [],
   "source": [
    "eng_train['Has3SeasonRoom'] = 0.0\n",
    "eng_test['Has3SeasonRoom'] = 0.0\n",
    "eng_train.loc[eng_train['3SsnPorch'] > 0.0, 'Has3SeasonRoom'] = 1.0\n",
    "eng_test.loc[eng_test['3SsnPorch'] > 0.0, 'Has3SeasonRoom'] = 1.0\n",
    "\n",
    "binary.append('Has3SeasonRoom')"
   ]
  },
  {
   "cell_type": "markdown",
   "metadata": {},
   "source": [
    "#### Creating HasScreenPorch from ScreenPorch"
   ]
  },
  {
   "cell_type": "code",
   "execution_count": 49,
   "metadata": {
    "collapsed": true
   },
   "outputs": [],
   "source": [
    "eng_train['HasScreenPorch'] = 0.0\n",
    "eng_test['HasScreenPorch'] = 0.0\n",
    "eng_train.loc[eng_train.ScreenPorch > 0.0, 'HasScreenPorch'] = 1.0\n",
    "eng_test.loc[eng_test.ScreenPorch > 0.0, 'HasScreenPorch'] = 1.0\n",
    "\n",
    "binary.append('HasScreenPorch')"
   ]
  },
  {
   "cell_type": "markdown",
   "metadata": {},
   "source": [
    "#### Creating HasPool from PoolArea"
   ]
  },
  {
   "cell_type": "code",
   "execution_count": 50,
   "metadata": {
    "collapsed": true
   },
   "outputs": [],
   "source": [
    "eng_train['HasPool'] = 0.0\n",
    "eng_test['HasPool'] = 0.0\n",
    "eng_train.loc[eng_train.PoolArea > 0.0, 'HasPool'] = 1.0\n",
    "eng_test.loc[eng_test.PoolArea > 0.0, 'HasPool'] = 1.0\n",
    "\n",
    "binary.append('HasPool')"
   ]
  },
  {
   "cell_type": "markdown",
   "metadata": {},
   "source": [
    "#### Creating HasShed from MiscFeature"
   ]
  },
  {
   "cell_type": "code",
   "execution_count": 51,
   "metadata": {
    "collapsed": true
   },
   "outputs": [],
   "source": [
    "eng_train['HasShed'] = 0.0\n",
    "eng_test['HasShed'] = 0.0\n",
    "eng_train.loc[eng_train.MiscFeature == 'Shed', 'HasShed'] = 1.0\n",
    "eng_test.loc[eng_test.MiscFeature == 'Shed', 'HasShed'] = 1.0\n",
    "\n",
    "binary.append('HasShed')"
   ]
  },
  {
   "cell_type": "markdown",
   "metadata": {},
   "source": [
    "## Creating new numeric features"
   ]
  },
  {
   "cell_type": "markdown",
   "metadata": {},
   "source": [
    "#### Creating feature to measure desirability of neighborhoods"
   ]
  },
  {
   "cell_type": "code",
   "execution_count": 52,
   "metadata": {
    "collapsed": true
   },
   "outputs": [],
   "source": [
    "# values obtained from the multiplier values on the City of Ames Residential Assessment Neighborhoods map\n",
    "# (http://www.cityofames.org/home/showdocument?id=1024)\n",
    "\n",
    "nbrhood_multiplier = {'Blmngtn': 105.,\n",
    "                      'Blueste':  99.,\n",
    "                      'BrDale':  102.,\n",
    "                      'BrkSide': 106.,\n",
    "                      'ClearCr': 103.,\n",
    "                      'CollgCr':  98.,\n",
    "                      'Crawfor': 106.,\n",
    "                      'Edwards':  98.,\n",
    "                      'Gilbert':  97.,\n",
    "                      'IDOTRR':  102.,\n",
    "                      'MeadowV':  90.,\n",
    "                      'Mitchel':  99.,\n",
    "                      'NAmes':   100.,\n",
    "                      'NPkVill': 109.,\n",
    "                      'NWAmes':   99.,\n",
    "                      'NoRidge': 101.,\n",
    "                      'NridgHt': 104.,\n",
    "                      'OldTown': 102.,\n",
    "                      'SWISU':    99.,\n",
    "                      'Sawyer':  101.,\n",
    "                      'SawyerW':  98.,\n",
    "                      'Somerst': 101.,\n",
    "                      'StoneBr': 104.,\n",
    "                      'Timber':  103.,\n",
    "                      'Veenker':  98.}"
   ]
  },
  {
   "cell_type": "code",
   "execution_count": 53,
   "metadata": {
    "collapsed": true
   },
   "outputs": [],
   "source": [
    "eng_train['NbrhoodMultiplier'] = eng_train.Neighborhood.map(nbrhood_multiplier)\n",
    "eng_test['NbrhoodMultiplier'] = eng_test.Neighborhood.map(nbrhood_multiplier)\n",
    "\n",
    "discrete.append('NbrhoodMultiplier')"
   ]
  },
  {
   "cell_type": "markdown",
   "metadata": {},
   "source": [
    "#### Creating BsmtFinSF from BsmtFinSF1 + BsmtFinSF2"
   ]
  },
  {
   "cell_type": "code",
   "execution_count": 54,
   "metadata": {
    "collapsed": true
   },
   "outputs": [],
   "source": [
    "eng_train['BsmtFinSF'] = eng_train.BsmtFinSF1 + eng_train.BsmtFinSF2\n",
    "eng_test['BsmtFinSF'] = eng_test.BsmtFinSF1 + eng_test.BsmtFinSF2\n",
    "\n",
    "continuous.append('BsmtFinSF')"
   ]
  },
  {
   "cell_type": "markdown",
   "metadata": {},
   "source": [
    "#### Combining all Bath features into one"
   ]
  },
  {
   "cell_type": "code",
   "execution_count": 55,
   "metadata": {
    "collapsed": true
   },
   "outputs": [],
   "source": [
    "eng_train['TotalBaths'] = eng_train.BsmtFullBath.fillna(0) + (eng_train.BsmtHalfBath.fillna(0) / 2) + eng_train.FullBath + \\\n",
    "                            (eng_train.HalfBath / 2)\n",
    "eng_test['TotalBaths'] = eng_test.BsmtFullBath.fillna(0) + (eng_test.BsmtHalfBath.fillna(0) / 2) + eng_test.FullBath + \\\n",
    "                            (eng_test.HalfBath / 2)\n",
    "\n",
    "discrete.append('TotalBaths')"
   ]
  },
  {
   "cell_type": "markdown",
   "metadata": {},
   "source": [
    "## Reducing levels in categorical features"
   ]
  },
  {
   "cell_type": "markdown",
   "metadata": {},
   "source": [
    "#### Reducing levels in BldgType"
   ]
  },
  {
   "cell_type": "code",
   "execution_count": 56,
   "metadata": {
    "collapsed": true
   },
   "outputs": [],
   "source": [
    "eng_train['BldgTypeSimple'] = 'multifam'\n",
    "eng_test['BldgTypeSimple'] = 'multifam'\n",
    "eng_train.loc[eng_train.BldgType == '1Fam', 'BldgTypeSimple'] = '1Fam'\n",
    "eng_test.loc[eng_test.BldgType == '1Fam', 'BldgTypeSimple'] = '1Fam'\n",
    "\n",
    "nominal.append('BldgTypeSimple')"
   ]
  },
  {
   "cell_type": "markdown",
   "metadata": {},
   "source": [
    "#### Reducing levels in SaleCondition"
   ]
  },
  {
   "cell_type": "code",
   "execution_count": 57,
   "metadata": {
    "collapsed": false
   },
   "outputs": [],
   "source": [
    "eng_train['SaleCondSimple'] = 'Partial'\n",
    "eng_test['SaleCondSimple'] = 'Partial'\n",
    "\n",
    "eng_train.loc[(eng_train.SaleCondition == 'Normal') | (eng_train.SaleCondition == 'Alloca'), 'SaleCondSimple'] = 'Normal'\n",
    "eng_test.loc[(eng_test.SaleCondition == 'Normal') | (eng_test.SaleCondition == 'Alloca'), 'SaleCondSimple'] = 'Normal'\n",
    "\n",
    "eng_train.loc[(eng_train.SaleCondition == 'Abnormal') | (eng_train.SaleCondition == 'Family') | \\\n",
    "              (eng_train.SaleCondition == 'AdjLand'), 'SaleCondSimple'] = 'Abnormal'\n",
    "eng_test.loc[(eng_test.SaleCondition == 'Abnormal') | (eng_test.SaleCondition == 'Family') | \\\n",
    "              (eng_test.SaleCondition == 'AdjLand'), 'SaleCondSimple'] = 'Abnormal'\n",
    "\n",
    "nominal.append('SaleCondSimple')"
   ]
  },
  {
   "cell_type": "markdown",
   "metadata": {},
   "source": [
    "## Impute Null Values"
   ]
  },
  {
   "cell_type": "markdown",
   "metadata": {},
   "source": [
    "#### Set Null GarageCars to 0 in test data"
   ]
  },
  {
   "cell_type": "code",
   "execution_count": 58,
   "metadata": {
    "collapsed": true
   },
   "outputs": [],
   "source": [
    "eng_test.loc[eng_test['GarageCars'].isnull(), 'GarageCars'] = 0.0"
   ]
  },
  {
   "cell_type": "markdown",
   "metadata": {},
   "source": [
    "#### Same thing for basement in test data"
   ]
  },
  {
   "cell_type": "code",
   "execution_count": 59,
   "metadata": {
    "collapsed": false
   },
   "outputs": [],
   "source": [
    "eng_test.loc[eng_test['BsmtFinSF'].isnull(), 'BsmtFinSF'] = 0.0\n",
    "eng_test.loc[eng_test['BsmtUnfSF'].isnull(), 'BsmtUnfSF'] = 0.0"
   ]
  },
  {
   "cell_type": "markdown",
   "metadata": {},
   "source": [
    "## Use log for skewed continuous variables and SalePrice"
   ]
  },
  {
   "cell_type": "code",
   "execution_count": 60,
   "metadata": {
    "collapsed": false
   },
   "outputs": [],
   "source": [
    "skew = pd.DataFrame({'skew': eng_train[continuous + ['SalePrice']].skew().values, \n",
    "                     'log_skew': eng_train[continuous + ['SalePrice']].apply(lambda x: np.log1p(x)).skew().values}, \n",
    "                      index=eng_train[continuous + ['SalePrice']].skew().index)"
   ]
  },
  {
   "cell_type": "code",
   "execution_count": 61,
   "metadata": {
    "collapsed": false
   },
   "outputs": [],
   "source": [
    "for col in skew.columns.values:\n",
    "    skew['abs_%s' % col] = skew[col].abs()"
   ]
  },
  {
   "cell_type": "code",
   "execution_count": 62,
   "metadata": {
    "collapsed": false
   },
   "outputs": [],
   "source": [
    "improved_skew = skew[skew.abs_log_skew < skew.abs_skew].index.tolist()"
   ]
  },
  {
   "cell_type": "code",
   "execution_count": 63,
   "metadata": {
    "collapsed": false
   },
   "outputs": [],
   "source": [
    "for feature in improved_skew:\n",
    "    eng_train[feature] = eng_train[feature].apply(lambda x: np.log1p(x))\n",
    "\n",
    "improved_skew.remove('SalePrice')\n",
    "for feature in improved_skew:\n",
    "    eng_test[feature] = eng_test[feature].apply(lambda x: np.log1p(x))"
   ]
  },
  {
   "cell_type": "markdown",
   "metadata": {},
   "source": [
    "## Keeping only the columns we want"
   ]
  },
  {
   "cell_type": "code",
   "execution_count": 64,
   "metadata": {
    "collapsed": false
   },
   "outputs": [],
   "source": [
    "features = nominal + ordinal + discrete + continuous + binary\n",
    "target = ['SalePrice']\n",
    "index = ['Id']\n",
    "\n",
    "eng_train = eng_train[features + target + index]\n",
    "eng_test = eng_test[features + index]"
   ]
  },
  {
   "cell_type": "markdown",
   "metadata": {},
   "source": [
    "## One hot encoding categorical features"
   ]
  },
  {
   "cell_type": "code",
   "execution_count": 65,
   "metadata": {
    "collapsed": false
   },
   "outputs": [],
   "source": [
    "one_hot_train = pd.get_dummies(eng_train, columns=nominal, dummy_na=False)\n",
    "one_hot_test  = pd.get_dummies(eng_test,  columns=nominal, dummy_na=False)"
   ]
  },
  {
   "cell_type": "code",
   "execution_count": 66,
   "metadata": {
    "collapsed": false
   },
   "outputs": [],
   "source": [
    "# remove columns from train that aren't also in test after encoding\n",
    "one_hot_train.drop(list(set(one_hot_train.columns) - set(one_hot_test.columns)), axis=1, inplace=True)"
   ]
  },
  {
   "cell_type": "code",
   "execution_count": 67,
   "metadata": {
    "collapsed": true
   },
   "outputs": [],
   "source": [
    "# remove columns from test that aren't also in train after encoding\n",
    "one_hot_test.drop(list(set(one_hot_test.columns) - set(one_hot_train.columns)), axis=1, inplace=True)"
   ]
  },
  {
   "cell_type": "code",
   "execution_count": 68,
   "metadata": {
    "collapsed": false
   },
   "outputs": [
    {
     "data": {
      "text/plain": [
       "True"
      ]
     },
     "execution_count": 68,
     "metadata": {},
     "output_type": "execute_result"
    }
   ],
   "source": [
    "len(one_hot_train.columns) == len(one_hot_test.columns)"
   ]
  },
  {
   "cell_type": "code",
   "execution_count": 69,
   "metadata": {
    "collapsed": true
   },
   "outputs": [],
   "source": [
    "# adding SalePrice back into train\n",
    "one_hot_train['SalePrice'] = eng_train.SalePrice"
   ]
  },
  {
   "cell_type": "code",
   "execution_count": 70,
   "metadata": {
    "collapsed": false
   },
   "outputs": [
    {
     "data": {
      "text/plain": [
       "(1453, 49)"
      ]
     },
     "execution_count": 70,
     "metadata": {},
     "output_type": "execute_result"
    }
   ],
   "source": [
    "one_hot_train.shape"
   ]
  },
  {
   "cell_type": "markdown",
   "metadata": {},
   "source": [
    "## Outputting for a quick check of the transformed data"
   ]
  },
  {
   "cell_type": "code",
   "execution_count": 71,
   "metadata": {
    "collapsed": true
   },
   "outputs": [],
   "source": [
    "one_hot_train.to_csv('one_hot_train.csv')"
   ]
  },
  {
   "cell_type": "markdown",
   "metadata": {},
   "source": [
    "# EXPLORING LINEAR MODELS"
   ]
  },
  {
   "cell_type": "markdown",
   "metadata": {},
   "source": [
    "## Random Selection Helper"
   ]
  },
  {
   "cell_type": "code",
   "execution_count": 72,
   "metadata": {
    "collapsed": true
   },
   "outputs": [],
   "source": [
    "class RandomSelectionHelper:\n",
    "    def __init__(self, models, params):\n",
    "        if not set(models.keys()).issubset(set(params.keys())):\n",
    "            missing_params = list(set(models.keys()) - set(params.keys()))\n",
    "            raise ValueError(\"Some estimators are missing parameters: %s\" % missing_params)\n",
    "        self.models = models\n",
    "        self.params = params\n",
    "        self.keys = models.keys()\n",
    "        self.random_searches = {}\n",
    "    \n",
    "    def fit(self, X, y, n_iter=60, cv=3, n_jobs=1, verbose=1, scoring=None, refit=True, random_state=None):\n",
    "        for key in self.keys:\n",
    "            print(\"Running RandomizedSearchCV for %s.\" % key)\n",
    "            model = self.models[key]\n",
    "            params = self.params[key]\n",
    "            rs = RandomizedSearchCV(model, params, n_iter=n_iter, cv=cv, n_jobs=n_jobs, \n",
    "                              verbose=verbose, scoring=scoring, refit=refit, random_state=random_state)\n",
    "            rs.fit(X,y)\n",
    "            self.random_searches[key] = rs\n",
    "    \n",
    "    def score_summary(self, sort_by='mean_score'):\n",
    "        def row(key, scores, params):\n",
    "            d = {\n",
    "                 'estimator': key,\n",
    "                 'min_score': np.min(scores),\n",
    "                 'max_score': np.max(scores),\n",
    "                 'mean_score': np.mean(scores),\n",
    "                 'std_score': np.std(scores),\n",
    "            }\n",
    "            return pd.Series(dict(params.items() + d.items()))\n",
    "                      \n",
    "        rows = [row(k, rsc.cv_validation_scores, rsc.parameters) \n",
    "                for k in self.keys\n",
    "                for rsc in self.random_searches[k].grid_scores_]\n",
    "        df = pd.concat(rows, axis=1).T.sort([sort_by], ascending=False)\n",
    "        \n",
    "        columns = ['estimator', 'min_score', 'mean_score', 'max_score', 'std_score']\n",
    "        columns = columns + [c for c in df.columns if c not in columns]\n",
    "        \n",
    "        return df[columns]"
   ]
  },
  {
   "cell_type": "markdown",
   "metadata": {},
   "source": [
    "## Features"
   ]
  },
  {
   "cell_type": "code",
   "execution_count": 73,
   "metadata": {
    "collapsed": false
   },
   "outputs": [],
   "source": [
    "features = one_hot_train.columns.tolist()\n",
    "features.remove('SalePrice')\n",
    "features.remove('Id')\n",
    "target = 'SalePrice'"
   ]
  },
  {
   "cell_type": "markdown",
   "metadata": {},
   "source": [
    "## Models to Search"
   ]
  },
  {
   "cell_type": "code",
   "execution_count": 74,
   "metadata": {
    "collapsed": false
   },
   "outputs": [],
   "source": [
    "models = { \n",
    "    'Ridge': linear_model.Ridge(),\n",
    "    'Lasso': linear_model.Lasso(),\n",
    "    'ElasticNet': linear_model.ElasticNet()\n",
    "}"
   ]
  },
  {
   "cell_type": "markdown",
   "metadata": {},
   "source": [
    "## Parameters to Search"
   ]
  },
  {
   "cell_type": "code",
   "execution_count": 75,
   "metadata": {
    "collapsed": false
   },
   "outputs": [],
   "source": [
    "params = { \n",
    "    'Ridge':      {'alpha': scipy.stats.expon(scale=3),\n",
    "                   'normalize': [True,False]},\n",
    "    'Lasso':      {'alpha': scipy.stats.expon(scale=3),\n",
    "                   'normalize': [True,False]},\n",
    "    'ElasticNet': {'alpha': scipy.stats.expon(scale=3),\n",
    "                   'l1_ratio': scipy.stats.uniform(0,1),\n",
    "                   'normalize': [True,False]}\n",
    "}"
   ]
  },
  {
   "cell_type": "markdown",
   "metadata": {},
   "source": [
    "## Fitting models for each of two BldgType classes"
   ]
  },
  {
   "cell_type": "markdown",
   "metadata": {},
   "source": [
    "### Features"
   ]
  },
  {
   "cell_type": "code",
   "execution_count": 76,
   "metadata": {
    "collapsed": false
   },
   "outputs": [],
   "source": [
    "bldgType_features = list(features)\n",
    "bldgType_features.remove('BldgTypeSimple_1Fam')\n",
    "bldgType_features.remove('BldgTypeSimple_multifam')"
   ]
  },
  {
   "cell_type": "markdown",
   "metadata": {},
   "source": [
    "### Single Family"
   ]
  },
  {
   "cell_type": "code",
   "execution_count": 77,
   "metadata": {
    "collapsed": true
   },
   "outputs": [],
   "source": [
    "single_family_X = one_hot_train.loc[one_hot_train.BldgTypeSimple_1Fam == 1, bldgType_features]\n",
    "single_family_y = one_hot_train.loc[one_hot_train.BldgTypeSimple_1Fam == 1, target]"
   ]
  },
  {
   "cell_type": "markdown",
   "metadata": {},
   "source": [
    "#### Fit Models"
   ]
  },
  {
   "cell_type": "code",
   "execution_count": 78,
   "metadata": {
    "collapsed": false
   },
   "outputs": [
    {
     "name": "stdout",
     "output_type": "stream",
     "text": [
      "Running RandomizedSearchCV for ElasticNet.\n",
      "Fitting 10 folds for each of 200 candidates, totalling 2000 fits\n"
     ]
    },
    {
     "name": "stderr",
     "output_type": "stream",
     "text": [
      "[Parallel(n_jobs=4)]: Done  45 tasks      | elapsed:    9.5s\n",
      "[Parallel(n_jobs=4)]: Done 932 tasks      | elapsed:   21.3s\n",
      "[Parallel(n_jobs=4)]: Done 2000 out of 2000 | elapsed:   35.8s finished\n"
     ]
    },
    {
     "name": "stdout",
     "output_type": "stream",
     "text": [
      "Running RandomizedSearchCV for Ridge.\n",
      "Fitting 10 folds for each of 200 candidates, totalling 2000 fits\n"
     ]
    },
    {
     "name": "stderr",
     "output_type": "stream",
     "text": [
      "[Parallel(n_jobs=4)]: Done  42 tasks      | elapsed:   10.5s\n",
      "[Parallel(n_jobs=4)]: Done 910 tasks      | elapsed:   20.9s\n",
      "[Parallel(n_jobs=4)]: Done 2000 out of 2000 | elapsed:   32.4s finished\n"
     ]
    },
    {
     "name": "stdout",
     "output_type": "stream",
     "text": [
      "Running RandomizedSearchCV for Lasso.\n",
      "Fitting 10 folds for each of 200 candidates, totalling 2000 fits\n"
     ]
    },
    {
     "name": "stderr",
     "output_type": "stream",
     "text": [
      "[Parallel(n_jobs=4)]: Done  46 tasks      | elapsed:    9.3s\n",
      "[Parallel(n_jobs=4)]: Done 1222 tasks      | elapsed:   23.5s\n",
      "[Parallel(n_jobs=4)]: Done 2000 out of 2000 | elapsed:   32.4s finished\n"
     ]
    }
   ],
   "source": [
    "single_family = RandomSelectionHelper(models,params)\n",
    "single_family.fit(single_family_X, single_family_y, scoring='mean_squared_error', cv=10, n_iter=200, n_jobs=4)"
   ]
  },
  {
   "cell_type": "markdown",
   "metadata": {},
   "source": [
    "#### Compare Models"
   ]
  },
  {
   "cell_type": "code",
   "execution_count": 79,
   "metadata": {
    "collapsed": false
   },
   "outputs": [
    {
     "name": "stderr",
     "output_type": "stream",
     "text": [
      "C:\\Users\\jdoyle\\AppData\\Local\\Continuum\\Anaconda2\\lib\\site-packages\\ipykernel\\__main__.py:35: FutureWarning: sort(columns=....) is deprecated, use sort_values(by=.....)\n"
     ]
    },
    {
     "data": {
      "text/html": [
       "<div>\n",
       "<table border=\"1\" class=\"dataframe\">\n",
       "  <thead>\n",
       "    <tr style=\"text-align: right;\">\n",
       "      <th></th>\n",
       "      <th>estimator</th>\n",
       "      <th>min_score</th>\n",
       "      <th>mean_score</th>\n",
       "      <th>max_score</th>\n",
       "      <th>std_score</th>\n",
       "      <th>alpha</th>\n",
       "      <th>l1_ratio</th>\n",
       "      <th>normalize</th>\n",
       "    </tr>\n",
       "  </thead>\n",
       "  <tbody>\n",
       "    <tr>\n",
       "      <th>284</th>\n",
       "      <td>Ridge</td>\n",
       "      <td>-0.0210519</td>\n",
       "      <td>-0.0144752</td>\n",
       "      <td>-0.00853154</td>\n",
       "      <td>0.0037046</td>\n",
       "      <td>1.86301</td>\n",
       "      <td>NaN</td>\n",
       "      <td>False</td>\n",
       "    </tr>\n",
       "    <tr>\n",
       "      <th>385</th>\n",
       "      <td>Ridge</td>\n",
       "      <td>-0.021052</td>\n",
       "      <td>-0.0144752</td>\n",
       "      <td>-0.00853147</td>\n",
       "      <td>0.00370465</td>\n",
       "      <td>1.86854</td>\n",
       "      <td>NaN</td>\n",
       "      <td>False</td>\n",
       "    </tr>\n",
       "    <tr>\n",
       "      <th>362</th>\n",
       "      <td>Ridge</td>\n",
       "      <td>-0.0210489</td>\n",
       "      <td>-0.0144753</td>\n",
       "      <td>-0.00853269</td>\n",
       "      <td>0.00370377</td>\n",
       "      <td>1.76843</td>\n",
       "      <td>NaN</td>\n",
       "      <td>False</td>\n",
       "    </tr>\n",
       "    <tr>\n",
       "      <th>287</th>\n",
       "      <td>Ridge</td>\n",
       "      <td>-0.0210483</td>\n",
       "      <td>-0.0144753</td>\n",
       "      <td>-0.00853293</td>\n",
       "      <td>0.00370362</td>\n",
       "      <td>1.75071</td>\n",
       "      <td>NaN</td>\n",
       "      <td>False</td>\n",
       "    </tr>\n",
       "    <tr>\n",
       "      <th>343</th>\n",
       "      <td>Ridge</td>\n",
       "      <td>-0.0210483</td>\n",
       "      <td>-0.0144753</td>\n",
       "      <td>-0.00853293</td>\n",
       "      <td>0.00370362</td>\n",
       "      <td>1.75053</td>\n",
       "      <td>NaN</td>\n",
       "      <td>False</td>\n",
       "    </tr>\n",
       "    <tr>\n",
       "      <th>376</th>\n",
       "      <td>Ridge</td>\n",
       "      <td>-0.0210481</td>\n",
       "      <td>-0.0144753</td>\n",
       "      <td>-0.00853302</td>\n",
       "      <td>0.00370356</td>\n",
       "      <td>1.7439</td>\n",
       "      <td>NaN</td>\n",
       "      <td>False</td>\n",
       "    </tr>\n",
       "    <tr>\n",
       "      <th>367</th>\n",
       "      <td>Ridge</td>\n",
       "      <td>-0.0210552</td>\n",
       "      <td>-0.0144754</td>\n",
       "      <td>-0.00853047</td>\n",
       "      <td>0.00370549</td>\n",
       "      <td>1.96674</td>\n",
       "      <td>NaN</td>\n",
       "      <td>False</td>\n",
       "    </tr>\n",
       "    <tr>\n",
       "      <th>267</th>\n",
       "      <td>Ridge</td>\n",
       "      <td>-0.0210559</td>\n",
       "      <td>-0.0144754</td>\n",
       "      <td>-0.0085303</td>\n",
       "      <td>0.00370565</td>\n",
       "      <td>1.98546</td>\n",
       "      <td>NaN</td>\n",
       "      <td>False</td>\n",
       "    </tr>\n",
       "    <tr>\n",
       "      <th>277</th>\n",
       "      <td>Ridge</td>\n",
       "      <td>-0.0210595</td>\n",
       "      <td>-0.0144758</td>\n",
       "      <td>-0.00852945</td>\n",
       "      <td>0.00370655</td>\n",
       "      <td>2.09279</td>\n",
       "      <td>NaN</td>\n",
       "      <td>False</td>\n",
       "    </tr>\n",
       "    <tr>\n",
       "      <th>237</th>\n",
       "      <td>Ridge</td>\n",
       "      <td>-0.0210426</td>\n",
       "      <td>-0.0144761</td>\n",
       "      <td>-0.00853581</td>\n",
       "      <td>0.00370193</td>\n",
       "      <td>1.56386</td>\n",
       "      <td>NaN</td>\n",
       "      <td>False</td>\n",
       "    </tr>\n",
       "    <tr>\n",
       "      <th>314</th>\n",
       "      <td>Ridge</td>\n",
       "      <td>-0.0210426</td>\n",
       "      <td>-0.0144761</td>\n",
       "      <td>-0.00853583</td>\n",
       "      <td>0.00370193</td>\n",
       "      <td>1.56319</td>\n",
       "      <td>NaN</td>\n",
       "      <td>False</td>\n",
       "    </tr>\n",
       "    <tr>\n",
       "      <th>347</th>\n",
       "      <td>Ridge</td>\n",
       "      <td>-0.0210618</td>\n",
       "      <td>-0.0144762</td>\n",
       "      <td>-0.00852902</td>\n",
       "      <td>0.00370711</td>\n",
       "      <td>2.16105</td>\n",
       "      <td>NaN</td>\n",
       "      <td>False</td>\n",
       "    </tr>\n",
       "    <tr>\n",
       "      <th>279</th>\n",
       "      <td>Ridge</td>\n",
       "      <td>-0.0210629</td>\n",
       "      <td>-0.0144764</td>\n",
       "      <td>-0.00852886</td>\n",
       "      <td>0.00370736</td>\n",
       "      <td>2.19117</td>\n",
       "      <td>NaN</td>\n",
       "      <td>False</td>\n",
       "    </tr>\n",
       "    <tr>\n",
       "      <th>365</th>\n",
       "      <td>Ridge</td>\n",
       "      <td>-0.0210408</td>\n",
       "      <td>-0.0144766</td>\n",
       "      <td>-0.00853693</td>\n",
       "      <td>0.00370136</td>\n",
       "      <td>1.50221</td>\n",
       "      <td>NaN</td>\n",
       "      <td>False</td>\n",
       "    </tr>\n",
       "    <tr>\n",
       "      <th>338</th>\n",
       "      <td>Ridge</td>\n",
       "      <td>-0.0210406</td>\n",
       "      <td>-0.0144767</td>\n",
       "      <td>-0.0085371</td>\n",
       "      <td>0.00370128</td>\n",
       "      <td>1.49311</td>\n",
       "      <td>NaN</td>\n",
       "      <td>False</td>\n",
       "    </tr>\n",
       "    <tr>\n",
       "      <th>330</th>\n",
       "      <td>Ridge</td>\n",
       "      <td>-0.0210645</td>\n",
       "      <td>-0.0144767</td>\n",
       "      <td>-0.00852864</td>\n",
       "      <td>0.00370774</td>\n",
       "      <td>2.23774</td>\n",
       "      <td>NaN</td>\n",
       "      <td>False</td>\n",
       "    </tr>\n",
       "    <tr>\n",
       "      <th>243</th>\n",
       "      <td>Ridge</td>\n",
       "      <td>-0.0210653</td>\n",
       "      <td>-0.0144769</td>\n",
       "      <td>-0.00852854</td>\n",
       "      <td>0.00370793</td>\n",
       "      <td>2.26133</td>\n",
       "      <td>NaN</td>\n",
       "      <td>False</td>\n",
       "    </tr>\n",
       "    <tr>\n",
       "      <th>250</th>\n",
       "      <td>Ridge</td>\n",
       "      <td>-0.0210384</td>\n",
       "      <td>-0.0144774</td>\n",
       "      <td>-0.00853863</td>\n",
       "      <td>0.00370055</td>\n",
       "      <td>1.41617</td>\n",
       "      <td>NaN</td>\n",
       "      <td>False</td>\n",
       "    </tr>\n",
       "    <tr>\n",
       "      <th>245</th>\n",
       "      <td>Ridge</td>\n",
       "      <td>-0.0210688</td>\n",
       "      <td>-0.0144778</td>\n",
       "      <td>-0.00852824</td>\n",
       "      <td>0.0037087</td>\n",
       "      <td>2.35762</td>\n",
       "      <td>NaN</td>\n",
       "      <td>False</td>\n",
       "    </tr>\n",
       "    <tr>\n",
       "      <th>311</th>\n",
       "      <td>Ridge</td>\n",
       "      <td>-0.0210366</td>\n",
       "      <td>-0.0144782</td>\n",
       "      <td>-0.00854004</td>\n",
       "      <td>0.00369993</td>\n",
       "      <td>1.35086</td>\n",
       "      <td>NaN</td>\n",
       "      <td>False</td>\n",
       "    </tr>\n",
       "  </tbody>\n",
       "</table>\n",
       "</div>"
      ],
      "text/plain": [
       "    estimator  min_score mean_score   max_score   std_score    alpha l1_ratio  \\\n",
       "284     Ridge -0.0210519 -0.0144752 -0.00853154   0.0037046  1.86301      NaN   \n",
       "385     Ridge  -0.021052 -0.0144752 -0.00853147  0.00370465  1.86854      NaN   \n",
       "362     Ridge -0.0210489 -0.0144753 -0.00853269  0.00370377  1.76843      NaN   \n",
       "287     Ridge -0.0210483 -0.0144753 -0.00853293  0.00370362  1.75071      NaN   \n",
       "343     Ridge -0.0210483 -0.0144753 -0.00853293  0.00370362  1.75053      NaN   \n",
       "376     Ridge -0.0210481 -0.0144753 -0.00853302  0.00370356   1.7439      NaN   \n",
       "367     Ridge -0.0210552 -0.0144754 -0.00853047  0.00370549  1.96674      NaN   \n",
       "267     Ridge -0.0210559 -0.0144754  -0.0085303  0.00370565  1.98546      NaN   \n",
       "277     Ridge -0.0210595 -0.0144758 -0.00852945  0.00370655  2.09279      NaN   \n",
       "237     Ridge -0.0210426 -0.0144761 -0.00853581  0.00370193  1.56386      NaN   \n",
       "314     Ridge -0.0210426 -0.0144761 -0.00853583  0.00370193  1.56319      NaN   \n",
       "347     Ridge -0.0210618 -0.0144762 -0.00852902  0.00370711  2.16105      NaN   \n",
       "279     Ridge -0.0210629 -0.0144764 -0.00852886  0.00370736  2.19117      NaN   \n",
       "365     Ridge -0.0210408 -0.0144766 -0.00853693  0.00370136  1.50221      NaN   \n",
       "338     Ridge -0.0210406 -0.0144767  -0.0085371  0.00370128  1.49311      NaN   \n",
       "330     Ridge -0.0210645 -0.0144767 -0.00852864  0.00370774  2.23774      NaN   \n",
       "243     Ridge -0.0210653 -0.0144769 -0.00852854  0.00370793  2.26133      NaN   \n",
       "250     Ridge -0.0210384 -0.0144774 -0.00853863  0.00370055  1.41617      NaN   \n",
       "245     Ridge -0.0210688 -0.0144778 -0.00852824   0.0037087  2.35762      NaN   \n",
       "311     Ridge -0.0210366 -0.0144782 -0.00854004  0.00369993  1.35086      NaN   \n",
       "\n",
       "    normalize  \n",
       "284     False  \n",
       "385     False  \n",
       "362     False  \n",
       "287     False  \n",
       "343     False  \n",
       "376     False  \n",
       "367     False  \n",
       "267     False  \n",
       "277     False  \n",
       "237     False  \n",
       "314     False  \n",
       "347     False  \n",
       "279     False  \n",
       "365     False  \n",
       "338     False  \n",
       "330     False  \n",
       "243     False  \n",
       "250     False  \n",
       "245     False  \n",
       "311     False  "
      ]
     },
     "execution_count": 79,
     "metadata": {},
     "output_type": "execute_result"
    }
   ],
   "source": [
    "single_family.score_summary(sort_by='mean_score').head(20)"
   ]
  },
  {
   "cell_type": "markdown",
   "metadata": {},
   "source": [
    "### Multi Family"
   ]
  },
  {
   "cell_type": "code",
   "execution_count": 80,
   "metadata": {
    "collapsed": true
   },
   "outputs": [],
   "source": [
    "multi_family_X = one_hot_train.loc[one_hot_train.BldgTypeSimple_multifam == 1, bldgType_features]\n",
    "multi_family_y = one_hot_train.loc[one_hot_train.BldgTypeSimple_multifam == 1, target]"
   ]
  },
  {
   "cell_type": "markdown",
   "metadata": {},
   "source": [
    "#### Fit Models"
   ]
  },
  {
   "cell_type": "code",
   "execution_count": 81,
   "metadata": {
    "collapsed": false
   },
   "outputs": [
    {
     "name": "stdout",
     "output_type": "stream",
     "text": [
      "Running RandomizedSearchCV for ElasticNet.\n",
      "Fitting 10 folds for each of 200 candidates, totalling 2000 fits\n"
     ]
    },
    {
     "name": "stderr",
     "output_type": "stream",
     "text": [
      "[Parallel(n_jobs=4)]: Done  48 tasks      | elapsed:    9.8s\n",
      "[Parallel(n_jobs=4)]: Done 1484 tasks      | elapsed:   16.1s\n",
      "[Parallel(n_jobs=4)]: Done 2000 out of 2000 | elapsed:   18.1s finished\n"
     ]
    },
    {
     "name": "stdout",
     "output_type": "stream",
     "text": [
      "Running RandomizedSearchCV for Ridge.\n",
      "Fitting 10 folds for each of 200 candidates, totalling 2000 fits\n"
     ]
    },
    {
     "name": "stderr",
     "output_type": "stream",
     "text": [
      "[Parallel(n_jobs=4)]: Done  49 tasks      | elapsed:    9.0s\n",
      "[Parallel(n_jobs=4)]: Done 2000 out of 2000 | elapsed:   23.3s finished\n"
     ]
    },
    {
     "name": "stdout",
     "output_type": "stream",
     "text": [
      "Running RandomizedSearchCV for Lasso.\n",
      "Fitting 10 folds for each of 200 candidates, totalling 2000 fits\n"
     ]
    },
    {
     "name": "stderr",
     "output_type": "stream",
     "text": [
      "[Parallel(n_jobs=4)]: Done  50 tasks      | elapsed:    8.5s\n",
      "[Parallel(n_jobs=4)]: Done 1802 tasks      | elapsed:   15.4s\n",
      "[Parallel(n_jobs=4)]: Done 2000 out of 2000 | elapsed:   15.9s finished\n"
     ]
    }
   ],
   "source": [
    "multi_family = RandomSelectionHelper(models,params)\n",
    "multi_family.fit(multi_family_X, multi_family_y, scoring='mean_squared_error', cv=10, n_iter=200, n_jobs=4)"
   ]
  },
  {
   "cell_type": "markdown",
   "metadata": {},
   "source": [
    "#### Compare Models"
   ]
  },
  {
   "cell_type": "code",
   "execution_count": 82,
   "metadata": {
    "collapsed": false
   },
   "outputs": [
    {
     "name": "stderr",
     "output_type": "stream",
     "text": [
      "C:\\Users\\jdoyle\\AppData\\Local\\Continuum\\Anaconda2\\lib\\site-packages\\ipykernel\\__main__.py:35: FutureWarning: sort(columns=....) is deprecated, use sort_values(by=.....)\n"
     ]
    },
    {
     "data": {
      "text/html": [
       "<div>\n",
       "<table border=\"1\" class=\"dataframe\">\n",
       "  <thead>\n",
       "    <tr style=\"text-align: right;\">\n",
       "      <th></th>\n",
       "      <th>estimator</th>\n",
       "      <th>min_score</th>\n",
       "      <th>mean_score</th>\n",
       "      <th>max_score</th>\n",
       "      <th>std_score</th>\n",
       "      <th>alpha</th>\n",
       "      <th>l1_ratio</th>\n",
       "      <th>normalize</th>\n",
       "    </tr>\n",
       "  </thead>\n",
       "  <tbody>\n",
       "    <tr>\n",
       "      <th>335</th>\n",
       "      <td>Ridge</td>\n",
       "      <td>-0.0197526</td>\n",
       "      <td>-0.0128436</td>\n",
       "      <td>-0.00433618</td>\n",
       "      <td>0.00393988</td>\n",
       "      <td>2.97599</td>\n",
       "      <td>NaN</td>\n",
       "      <td>False</td>\n",
       "    </tr>\n",
       "    <tr>\n",
       "      <th>328</th>\n",
       "      <td>Ridge</td>\n",
       "      <td>-0.0197824</td>\n",
       "      <td>-0.0128448</td>\n",
       "      <td>-0.0043308</td>\n",
       "      <td>0.0039431</td>\n",
       "      <td>3.12865</td>\n",
       "      <td>NaN</td>\n",
       "      <td>False</td>\n",
       "    </tr>\n",
       "    <tr>\n",
       "      <th>355</th>\n",
       "      <td>Ridge</td>\n",
       "      <td>-0.0197234</td>\n",
       "      <td>-0.012845</td>\n",
       "      <td>-0.00434477</td>\n",
       "      <td>0.00393757</td>\n",
       "      <td>2.80745</td>\n",
       "      <td>NaN</td>\n",
       "      <td>False</td>\n",
       "    </tr>\n",
       "    <tr>\n",
       "      <th>259</th>\n",
       "      <td>Ridge</td>\n",
       "      <td>-0.0197868</td>\n",
       "      <td>-0.0128451</td>\n",
       "      <td>-0.00433021</td>\n",
       "      <td>0.00394362</td>\n",
       "      <td>3.15006</td>\n",
       "      <td>NaN</td>\n",
       "      <td>False</td>\n",
       "    </tr>\n",
       "    <tr>\n",
       "      <th>216</th>\n",
       "      <td>Ridge</td>\n",
       "      <td>-0.0197106</td>\n",
       "      <td>-0.0128469</td>\n",
       "      <td>-0.00435017</td>\n",
       "      <td>0.003937</td>\n",
       "      <td>2.72351</td>\n",
       "      <td>NaN</td>\n",
       "      <td>False</td>\n",
       "    </tr>\n",
       "    <tr>\n",
       "      <th>279</th>\n",
       "      <td>Ridge</td>\n",
       "      <td>-0.0197097</td>\n",
       "      <td>-0.0128471</td>\n",
       "      <td>-0.00435059</td>\n",
       "      <td>0.00393697</td>\n",
       "      <td>2.71755</td>\n",
       "      <td>NaN</td>\n",
       "      <td>False</td>\n",
       "    </tr>\n",
       "    <tr>\n",
       "      <th>374</th>\n",
       "      <td>Ridge</td>\n",
       "      <td>-0.0197004</td>\n",
       "      <td>-0.0128493</td>\n",
       "      <td>-0.0043556</td>\n",
       "      <td>0.00393687</td>\n",
       "      <td>2.64961</td>\n",
       "      <td>NaN</td>\n",
       "      <td>False</td>\n",
       "    </tr>\n",
       "    <tr>\n",
       "      <th>379</th>\n",
       "      <td>Ridge</td>\n",
       "      <td>-0.0196961</td>\n",
       "      <td>-0.0128506</td>\n",
       "      <td>-0.00435831</td>\n",
       "      <td>0.00393695</td>\n",
       "      <td>2.6156</td>\n",
       "      <td>NaN</td>\n",
       "      <td>False</td>\n",
       "    </tr>\n",
       "    <tr>\n",
       "      <th>258</th>\n",
       "      <td>Ridge</td>\n",
       "      <td>-0.0198633</td>\n",
       "      <td>-0.0128548</td>\n",
       "      <td>-0.00432588</td>\n",
       "      <td>0.00395386</td>\n",
       "      <td>3.49207</td>\n",
       "      <td>NaN</td>\n",
       "      <td>False</td>\n",
       "    </tr>\n",
       "    <tr>\n",
       "      <th>221</th>\n",
       "      <td>Ridge</td>\n",
       "      <td>-0.0196787</td>\n",
       "      <td>-0.0128596</td>\n",
       "      <td>-0.00437369</td>\n",
       "      <td>0.00393866</td>\n",
       "      <td>2.44953</td>\n",
       "      <td>NaN</td>\n",
       "      <td>False</td>\n",
       "    </tr>\n",
       "    <tr>\n",
       "      <th>332</th>\n",
       "      <td>Ridge</td>\n",
       "      <td>-0.0199019</td>\n",
       "      <td>-0.0128618</td>\n",
       "      <td>-0.00432675</td>\n",
       "      <td>0.00395954</td>\n",
       "      <td>3.65043</td>\n",
       "      <td>NaN</td>\n",
       "      <td>False</td>\n",
       "    </tr>\n",
       "    <tr>\n",
       "      <th>305</th>\n",
       "      <td>Ridge</td>\n",
       "      <td>-0.019925</td>\n",
       "      <td>-0.0128665</td>\n",
       "      <td>-0.00432799</td>\n",
       "      <td>0.00396304</td>\n",
       "      <td>3.74221</td>\n",
       "      <td>NaN</td>\n",
       "      <td>False</td>\n",
       "    </tr>\n",
       "    <tr>\n",
       "      <th>315</th>\n",
       "      <td>Ridge</td>\n",
       "      <td>-0.019672</td>\n",
       "      <td>-0.0128668</td>\n",
       "      <td>-0.00438404</td>\n",
       "      <td>0.00394077</td>\n",
       "      <td>2.35566</td>\n",
       "      <td>NaN</td>\n",
       "      <td>False</td>\n",
       "    </tr>\n",
       "    <tr>\n",
       "      <th>320</th>\n",
       "      <td>Ridge</td>\n",
       "      <td>-0.0196716</td>\n",
       "      <td>-0.0128674</td>\n",
       "      <td>-0.00438486</td>\n",
       "      <td>0.00394097</td>\n",
       "      <td>2.34866</td>\n",
       "      <td>NaN</td>\n",
       "      <td>False</td>\n",
       "    </tr>\n",
       "    <tr>\n",
       "      <th>285</th>\n",
       "      <td>Ridge</td>\n",
       "      <td>-0.0196715</td>\n",
       "      <td>-0.0128675</td>\n",
       "      <td>-0.00438504</td>\n",
       "      <td>0.00394101</td>\n",
       "      <td>2.34721</td>\n",
       "      <td>NaN</td>\n",
       "      <td>False</td>\n",
       "    </tr>\n",
       "    <tr>\n",
       "      <th>275</th>\n",
       "      <td>Ridge</td>\n",
       "      <td>-0.0199406</td>\n",
       "      <td>-0.0128698</td>\n",
       "      <td>-0.00432909</td>\n",
       "      <td>0.00396543</td>\n",
       "      <td>3.80317</td>\n",
       "      <td>NaN</td>\n",
       "      <td>False</td>\n",
       "    </tr>\n",
       "    <tr>\n",
       "      <th>336</th>\n",
       "      <td>Ridge</td>\n",
       "      <td>-0.0196699</td>\n",
       "      <td>-0.0128705</td>\n",
       "      <td>-0.00438908</td>\n",
       "      <td>0.00394203</td>\n",
       "      <td>2.31371</td>\n",
       "      <td>NaN</td>\n",
       "      <td>False</td>\n",
       "    </tr>\n",
       "    <tr>\n",
       "      <th>353</th>\n",
       "      <td>Ridge</td>\n",
       "      <td>-0.0200088</td>\n",
       "      <td>-0.0128856</td>\n",
       "      <td>-0.00433606</td>\n",
       "      <td>0.00397611</td>\n",
       "      <td>4.06236</td>\n",
       "      <td>NaN</td>\n",
       "      <td>False</td>\n",
       "    </tr>\n",
       "    <tr>\n",
       "      <th>265</th>\n",
       "      <td>Ridge</td>\n",
       "      <td>-0.02001</td>\n",
       "      <td>-0.0128858</td>\n",
       "      <td>-0.0043362</td>\n",
       "      <td>0.00397629</td>\n",
       "      <td>4.06649</td>\n",
       "      <td>NaN</td>\n",
       "      <td>False</td>\n",
       "    </tr>\n",
       "    <tr>\n",
       "      <th>334</th>\n",
       "      <td>Ridge</td>\n",
       "      <td>-0.0200719</td>\n",
       "      <td>-0.0129017</td>\n",
       "      <td>-0.00434508</td>\n",
       "      <td>0.00398619</td>\n",
       "      <td>4.29396</td>\n",
       "      <td>NaN</td>\n",
       "      <td>False</td>\n",
       "    </tr>\n",
       "  </tbody>\n",
       "</table>\n",
       "</div>"
      ],
      "text/plain": [
       "    estimator  min_score mean_score   max_score   std_score    alpha l1_ratio  \\\n",
       "335     Ridge -0.0197526 -0.0128436 -0.00433618  0.00393988  2.97599      NaN   \n",
       "328     Ridge -0.0197824 -0.0128448  -0.0043308   0.0039431  3.12865      NaN   \n",
       "355     Ridge -0.0197234  -0.012845 -0.00434477  0.00393757  2.80745      NaN   \n",
       "259     Ridge -0.0197868 -0.0128451 -0.00433021  0.00394362  3.15006      NaN   \n",
       "216     Ridge -0.0197106 -0.0128469 -0.00435017    0.003937  2.72351      NaN   \n",
       "279     Ridge -0.0197097 -0.0128471 -0.00435059  0.00393697  2.71755      NaN   \n",
       "374     Ridge -0.0197004 -0.0128493  -0.0043556  0.00393687  2.64961      NaN   \n",
       "379     Ridge -0.0196961 -0.0128506 -0.00435831  0.00393695   2.6156      NaN   \n",
       "258     Ridge -0.0198633 -0.0128548 -0.00432588  0.00395386  3.49207      NaN   \n",
       "221     Ridge -0.0196787 -0.0128596 -0.00437369  0.00393866  2.44953      NaN   \n",
       "332     Ridge -0.0199019 -0.0128618 -0.00432675  0.00395954  3.65043      NaN   \n",
       "305     Ridge  -0.019925 -0.0128665 -0.00432799  0.00396304  3.74221      NaN   \n",
       "315     Ridge  -0.019672 -0.0128668 -0.00438404  0.00394077  2.35566      NaN   \n",
       "320     Ridge -0.0196716 -0.0128674 -0.00438486  0.00394097  2.34866      NaN   \n",
       "285     Ridge -0.0196715 -0.0128675 -0.00438504  0.00394101  2.34721      NaN   \n",
       "275     Ridge -0.0199406 -0.0128698 -0.00432909  0.00396543  3.80317      NaN   \n",
       "336     Ridge -0.0196699 -0.0128705 -0.00438908  0.00394203  2.31371      NaN   \n",
       "353     Ridge -0.0200088 -0.0128856 -0.00433606  0.00397611  4.06236      NaN   \n",
       "265     Ridge   -0.02001 -0.0128858  -0.0043362  0.00397629  4.06649      NaN   \n",
       "334     Ridge -0.0200719 -0.0129017 -0.00434508  0.00398619  4.29396      NaN   \n",
       "\n",
       "    normalize  \n",
       "335     False  \n",
       "328     False  \n",
       "355     False  \n",
       "259     False  \n",
       "216     False  \n",
       "279     False  \n",
       "374     False  \n",
       "379     False  \n",
       "258     False  \n",
       "221     False  \n",
       "332     False  \n",
       "305     False  \n",
       "315     False  \n",
       "320     False  \n",
       "285     False  \n",
       "275     False  \n",
       "336     False  \n",
       "353     False  \n",
       "265     False  \n",
       "334     False  "
      ]
     },
     "execution_count": 82,
     "metadata": {},
     "output_type": "execute_result"
    }
   ],
   "source": [
    "multi_family.score_summary(sort_by='mean_score').head(20)"
   ]
  },
  {
   "cell_type": "markdown",
   "metadata": {},
   "source": [
    "## Fitting models for each of three SaleCondition classes"
   ]
  },
  {
   "cell_type": "markdown",
   "metadata": {},
   "source": [
    "### Features"
   ]
  },
  {
   "cell_type": "code",
   "execution_count": 83,
   "metadata": {
    "collapsed": true
   },
   "outputs": [],
   "source": [
    "saleCond_features = list(features)\n",
    "saleCond_features.remove('SaleCondSimple_Normal')\n",
    "saleCond_features.remove('SaleCondSimple_Abnormal')\n",
    "saleCond_features.remove('SaleCondSimple_Partial')"
   ]
  },
  {
   "cell_type": "markdown",
   "metadata": {},
   "source": [
    "### Normal Sale"
   ]
  },
  {
   "cell_type": "code",
   "execution_count": 84,
   "metadata": {
    "collapsed": true
   },
   "outputs": [],
   "source": [
    "normal_X = one_hot_train.loc[one_hot_train.SaleCondSimple_Normal == 1, saleCond_features]\n",
    "normal_y = one_hot_train.loc[one_hot_train.SaleCondSimple_Normal == 1, target]"
   ]
  },
  {
   "cell_type": "markdown",
   "metadata": {},
   "source": [
    "#### Fit Models"
   ]
  },
  {
   "cell_type": "code",
   "execution_count": 85,
   "metadata": {
    "collapsed": false
   },
   "outputs": [
    {
     "name": "stdout",
     "output_type": "stream",
     "text": [
      "Running RandomizedSearchCV for ElasticNet.\n",
      "Fitting 10 folds for each of 200 candidates, totalling 2000 fits\n"
     ]
    },
    {
     "name": "stderr",
     "output_type": "stream",
     "text": [
      "[Parallel(n_jobs=4)]: Done  43 tasks      | elapsed:   10.8s\n",
      "[Parallel(n_jobs=4)]: Done 917 tasks      | elapsed:   22.6s\n",
      "[Parallel(n_jobs=4)]: Done 2000 out of 2000 | elapsed:   36.2s finished\n"
     ]
    },
    {
     "name": "stdout",
     "output_type": "stream",
     "text": [
      "Running RandomizedSearchCV for Ridge.\n",
      "Fitting 10 folds for each of 200 candidates, totalling 2000 fits\n"
     ]
    },
    {
     "name": "stderr",
     "output_type": "stream",
     "text": [
      "[Parallel(n_jobs=4)]: Done  48 tasks      | elapsed:    9.1s\n",
      "[Parallel(n_jobs=4)]: Done 1796 tasks      | elapsed:   30.3s\n",
      "[Parallel(n_jobs=4)]: Done 2000 out of 2000 | elapsed:   32.7s finished\n"
     ]
    },
    {
     "name": "stdout",
     "output_type": "stream",
     "text": [
      "Running RandomizedSearchCV for Lasso.\n",
      "Fitting 10 folds for each of 200 candidates, totalling 2000 fits\n"
     ]
    },
    {
     "name": "stderr",
     "output_type": "stream",
     "text": [
      "[Parallel(n_jobs=4)]: Done  42 tasks      | elapsed:   10.7s\n",
      "[Parallel(n_jobs=4)]: Done 626 tasks      | elapsed:   17.1s\n",
      "[Parallel(n_jobs=4)]: Done 1626 tasks      | elapsed:   28.7s\n",
      "[Parallel(n_jobs=4)]: Done 2000 out of 2000 | elapsed:   32.9s finished\n"
     ]
    }
   ],
   "source": [
    "normal = RandomSelectionHelper(models,params)\n",
    "normal.fit(normal_X, normal_y, scoring='mean_squared_error', cv=10, n_iter=200, n_jobs=4)"
   ]
  },
  {
   "cell_type": "markdown",
   "metadata": {},
   "source": [
    "#### Compare Models"
   ]
  },
  {
   "cell_type": "code",
   "execution_count": 86,
   "metadata": {
    "collapsed": false
   },
   "outputs": [
    {
     "name": "stderr",
     "output_type": "stream",
     "text": [
      "C:\\Users\\jdoyle\\AppData\\Local\\Continuum\\Anaconda2\\lib\\site-packages\\ipykernel\\__main__.py:35: FutureWarning: sort(columns=....) is deprecated, use sort_values(by=.....)\n"
     ]
    },
    {
     "data": {
      "text/html": [
       "<div>\n",
       "<table border=\"1\" class=\"dataframe\">\n",
       "  <thead>\n",
       "    <tr style=\"text-align: right;\">\n",
       "      <th></th>\n",
       "      <th>estimator</th>\n",
       "      <th>min_score</th>\n",
       "      <th>mean_score</th>\n",
       "      <th>max_score</th>\n",
       "      <th>std_score</th>\n",
       "      <th>alpha</th>\n",
       "      <th>l1_ratio</th>\n",
       "      <th>normalize</th>\n",
       "    </tr>\n",
       "  </thead>\n",
       "  <tbody>\n",
       "    <tr>\n",
       "      <th>294</th>\n",
       "      <td>Ridge</td>\n",
       "      <td>-0.0193582</td>\n",
       "      <td>-0.0101168</td>\n",
       "      <td>-0.0058024</td>\n",
       "      <td>0.00392384</td>\n",
       "      <td>1.56587</td>\n",
       "      <td>NaN</td>\n",
       "      <td>False</td>\n",
       "    </tr>\n",
       "    <tr>\n",
       "      <th>315</th>\n",
       "      <td>Ridge</td>\n",
       "      <td>-0.0193578</td>\n",
       "      <td>-0.0101168</td>\n",
       "      <td>-0.00580202</td>\n",
       "      <td>0.00392366</td>\n",
       "      <td>1.57589</td>\n",
       "      <td>NaN</td>\n",
       "      <td>False</td>\n",
       "    </tr>\n",
       "    <tr>\n",
       "      <th>358</th>\n",
       "      <td>Ridge</td>\n",
       "      <td>-0.0193629</td>\n",
       "      <td>-0.0101168</td>\n",
       "      <td>-0.00580688</td>\n",
       "      <td>0.00392589</td>\n",
       "      <td>1.4517</td>\n",
       "      <td>NaN</td>\n",
       "      <td>False</td>\n",
       "    </tr>\n",
       "    <tr>\n",
       "      <th>314</th>\n",
       "      <td>Ridge</td>\n",
       "      <td>-0.0193553</td>\n",
       "      <td>-0.0101169</td>\n",
       "      <td>-0.00579967</td>\n",
       "      <td>0.00392259</td>\n",
       "      <td>1.63904</td>\n",
       "      <td>NaN</td>\n",
       "      <td>False</td>\n",
       "    </tr>\n",
       "    <tr>\n",
       "      <th>291</th>\n",
       "      <td>Ridge</td>\n",
       "      <td>-0.0193547</td>\n",
       "      <td>-0.010117</td>\n",
       "      <td>-0.00579908</td>\n",
       "      <td>0.00392232</td>\n",
       "      <td>1.65522</td>\n",
       "      <td>NaN</td>\n",
       "      <td>False</td>\n",
       "    </tr>\n",
       "    <tr>\n",
       "      <th>267</th>\n",
       "      <td>Ridge</td>\n",
       "      <td>-0.0193546</td>\n",
       "      <td>-0.010117</td>\n",
       "      <td>-0.00579896</td>\n",
       "      <td>0.00392226</td>\n",
       "      <td>1.65859</td>\n",
       "      <td>NaN</td>\n",
       "      <td>False</td>\n",
       "    </tr>\n",
       "    <tr>\n",
       "      <th>348</th>\n",
       "      <td>Ridge</td>\n",
       "      <td>-0.0193518</td>\n",
       "      <td>-0.0101173</td>\n",
       "      <td>-0.00579612</td>\n",
       "      <td>0.00392095</td>\n",
       "      <td>1.73866</td>\n",
       "      <td>NaN</td>\n",
       "      <td>False</td>\n",
       "    </tr>\n",
       "    <tr>\n",
       "      <th>253</th>\n",
       "      <td>Ridge</td>\n",
       "      <td>-0.0193514</td>\n",
       "      <td>-0.0101173</td>\n",
       "      <td>-0.00579579</td>\n",
       "      <td>0.0039208</td>\n",
       "      <td>1.74829</td>\n",
       "      <td>NaN</td>\n",
       "      <td>False</td>\n",
       "    </tr>\n",
       "    <tr>\n",
       "      <th>347</th>\n",
       "      <td>Ridge</td>\n",
       "      <td>-0.01937</td>\n",
       "      <td>-0.0101174</td>\n",
       "      <td>-0.00581335</td>\n",
       "      <td>0.00392883</td>\n",
       "      <td>1.29837</td>\n",
       "      <td>NaN</td>\n",
       "      <td>False</td>\n",
       "    </tr>\n",
       "    <tr>\n",
       "      <th>303</th>\n",
       "      <td>Ridge</td>\n",
       "      <td>-0.0193707</td>\n",
       "      <td>-0.0101175</td>\n",
       "      <td>-0.00581396</td>\n",
       "      <td>0.00392911</td>\n",
       "      <td>1.28442</td>\n",
       "      <td>NaN</td>\n",
       "      <td>False</td>\n",
       "    </tr>\n",
       "    <tr>\n",
       "      <th>330</th>\n",
       "      <td>Ridge</td>\n",
       "      <td>-0.01935</td>\n",
       "      <td>-0.0101176</td>\n",
       "      <td>-0.00579435</td>\n",
       "      <td>0.00392013</td>\n",
       "      <td>1.79081</td>\n",
       "      <td>NaN</td>\n",
       "      <td>False</td>\n",
       "    </tr>\n",
       "    <tr>\n",
       "      <th>264</th>\n",
       "      <td>Ridge</td>\n",
       "      <td>-0.0193736</td>\n",
       "      <td>-0.0101179</td>\n",
       "      <td>-0.00581657</td>\n",
       "      <td>0.00393029</td>\n",
       "      <td>1.22635</td>\n",
       "      <td>NaN</td>\n",
       "      <td>False</td>\n",
       "    </tr>\n",
       "    <tr>\n",
       "      <th>382</th>\n",
       "      <td>Ridge</td>\n",
       "      <td>-0.0193747</td>\n",
       "      <td>-0.010118</td>\n",
       "      <td>-0.00581757</td>\n",
       "      <td>0.00393074</td>\n",
       "      <td>1.20465</td>\n",
       "      <td>NaN</td>\n",
       "      <td>False</td>\n",
       "    </tr>\n",
       "    <tr>\n",
       "      <th>292</th>\n",
       "      <td>Ridge</td>\n",
       "      <td>-0.0193466</td>\n",
       "      <td>-0.0101183</td>\n",
       "      <td>-0.00579072</td>\n",
       "      <td>0.00391844</td>\n",
       "      <td>1.90249</td>\n",
       "      <td>NaN</td>\n",
       "      <td>False</td>\n",
       "    </tr>\n",
       "    <tr>\n",
       "      <th>375</th>\n",
       "      <td>Ridge</td>\n",
       "      <td>-0.019346</td>\n",
       "      <td>-0.0101185</td>\n",
       "      <td>-0.00579011</td>\n",
       "      <td>0.00391815</td>\n",
       "      <td>1.92231</td>\n",
       "      <td>NaN</td>\n",
       "      <td>False</td>\n",
       "    </tr>\n",
       "    <tr>\n",
       "      <th>230</th>\n",
       "      <td>Ridge</td>\n",
       "      <td>-0.0193451</td>\n",
       "      <td>-0.0101187</td>\n",
       "      <td>-0.00578916</td>\n",
       "      <td>0.00391771</td>\n",
       "      <td>1.9532</td>\n",
       "      <td>NaN</td>\n",
       "      <td>False</td>\n",
       "    </tr>\n",
       "    <tr>\n",
       "      <th>297</th>\n",
       "      <td>Ridge</td>\n",
       "      <td>-0.019379</td>\n",
       "      <td>-0.0101188</td>\n",
       "      <td>-0.00582131</td>\n",
       "      <td>0.00393244</td>\n",
       "      <td>1.12507</td>\n",
       "      <td>NaN</td>\n",
       "      <td>False</td>\n",
       "    </tr>\n",
       "    <tr>\n",
       "      <th>321</th>\n",
       "      <td>Ridge</td>\n",
       "      <td>-0.0193807</td>\n",
       "      <td>-0.0101191</td>\n",
       "      <td>-0.00582281</td>\n",
       "      <td>0.00393312</td>\n",
       "      <td>1.09408</td>\n",
       "      <td>NaN</td>\n",
       "      <td>False</td>\n",
       "    </tr>\n",
       "    <tr>\n",
       "      <th>383</th>\n",
       "      <td>Ridge</td>\n",
       "      <td>-0.0193435</td>\n",
       "      <td>-0.0101193</td>\n",
       "      <td>-0.00578735</td>\n",
       "      <td>0.00391686</td>\n",
       "      <td>2.01354</td>\n",
       "      <td>NaN</td>\n",
       "      <td>False</td>\n",
       "    </tr>\n",
       "    <tr>\n",
       "      <th>231</th>\n",
       "      <td>Ridge</td>\n",
       "      <td>-0.0193827</td>\n",
       "      <td>-0.0101195</td>\n",
       "      <td>-0.00582448</td>\n",
       "      <td>0.00393388</td>\n",
       "      <td>1.06002</td>\n",
       "      <td>NaN</td>\n",
       "      <td>False</td>\n",
       "    </tr>\n",
       "  </tbody>\n",
       "</table>\n",
       "</div>"
      ],
      "text/plain": [
       "    estimator  min_score mean_score   max_score   std_score    alpha l1_ratio  \\\n",
       "294     Ridge -0.0193582 -0.0101168  -0.0058024  0.00392384  1.56587      NaN   \n",
       "315     Ridge -0.0193578 -0.0101168 -0.00580202  0.00392366  1.57589      NaN   \n",
       "358     Ridge -0.0193629 -0.0101168 -0.00580688  0.00392589   1.4517      NaN   \n",
       "314     Ridge -0.0193553 -0.0101169 -0.00579967  0.00392259  1.63904      NaN   \n",
       "291     Ridge -0.0193547  -0.010117 -0.00579908  0.00392232  1.65522      NaN   \n",
       "267     Ridge -0.0193546  -0.010117 -0.00579896  0.00392226  1.65859      NaN   \n",
       "348     Ridge -0.0193518 -0.0101173 -0.00579612  0.00392095  1.73866      NaN   \n",
       "253     Ridge -0.0193514 -0.0101173 -0.00579579   0.0039208  1.74829      NaN   \n",
       "347     Ridge   -0.01937 -0.0101174 -0.00581335  0.00392883  1.29837      NaN   \n",
       "303     Ridge -0.0193707 -0.0101175 -0.00581396  0.00392911  1.28442      NaN   \n",
       "330     Ridge   -0.01935 -0.0101176 -0.00579435  0.00392013  1.79081      NaN   \n",
       "264     Ridge -0.0193736 -0.0101179 -0.00581657  0.00393029  1.22635      NaN   \n",
       "382     Ridge -0.0193747  -0.010118 -0.00581757  0.00393074  1.20465      NaN   \n",
       "292     Ridge -0.0193466 -0.0101183 -0.00579072  0.00391844  1.90249      NaN   \n",
       "375     Ridge  -0.019346 -0.0101185 -0.00579011  0.00391815  1.92231      NaN   \n",
       "230     Ridge -0.0193451 -0.0101187 -0.00578916  0.00391771   1.9532      NaN   \n",
       "297     Ridge  -0.019379 -0.0101188 -0.00582131  0.00393244  1.12507      NaN   \n",
       "321     Ridge -0.0193807 -0.0101191 -0.00582281  0.00393312  1.09408      NaN   \n",
       "383     Ridge -0.0193435 -0.0101193 -0.00578735  0.00391686  2.01354      NaN   \n",
       "231     Ridge -0.0193827 -0.0101195 -0.00582448  0.00393388  1.06002      NaN   \n",
       "\n",
       "    normalize  \n",
       "294     False  \n",
       "315     False  \n",
       "358     False  \n",
       "314     False  \n",
       "291     False  \n",
       "267     False  \n",
       "348     False  \n",
       "253     False  \n",
       "347     False  \n",
       "303     False  \n",
       "330     False  \n",
       "264     False  \n",
       "382     False  \n",
       "292     False  \n",
       "375     False  \n",
       "230     False  \n",
       "297     False  \n",
       "321     False  \n",
       "383     False  \n",
       "231     False  "
      ]
     },
     "execution_count": 86,
     "metadata": {},
     "output_type": "execute_result"
    }
   ],
   "source": [
    "normal.score_summary(sort_by='mean_score').head(20)"
   ]
  },
  {
   "cell_type": "markdown",
   "metadata": {},
   "source": [
    "### Abnormal Sales"
   ]
  },
  {
   "cell_type": "code",
   "execution_count": 87,
   "metadata": {
    "collapsed": true
   },
   "outputs": [],
   "source": [
    "abnormal_X = one_hot_train.loc[one_hot_train.SaleCondSimple_Abnormal == 1, saleCond_features]\n",
    "abnormal_y = one_hot_train.loc[one_hot_train.SaleCondSimple_Abnormal == 1, target]"
   ]
  },
  {
   "cell_type": "markdown",
   "metadata": {},
   "source": [
    "#### Fit Models"
   ]
  },
  {
   "cell_type": "code",
   "execution_count": 88,
   "metadata": {
    "collapsed": false
   },
   "outputs": [
    {
     "name": "stdout",
     "output_type": "stream",
     "text": [
      "Running RandomizedSearchCV for ElasticNet.\n",
      "Fitting 3 folds for each of 200 candidates, totalling 600 fits\n"
     ]
    },
    {
     "name": "stderr",
     "output_type": "stream",
     "text": [
      "[Parallel(n_jobs=4)]: Done  48 tasks      | elapsed:   10.3s\n",
      "[Parallel(n_jobs=4)]: Done 600 out of 600 | elapsed:   12.5s finished\n"
     ]
    },
    {
     "name": "stdout",
     "output_type": "stream",
     "text": [
      "Running RandomizedSearchCV for Ridge.\n",
      "Fitting 3 folds for each of 200 candidates, totalling 600 fits\n"
     ]
    },
    {
     "name": "stderr",
     "output_type": "stream",
     "text": [
      "[Parallel(n_jobs=4)]: Done  42 tasks      | elapsed:    9.5s\n",
      "[Parallel(n_jobs=4)]: Done 600 out of 600 | elapsed:   14.8s finished\n"
     ]
    },
    {
     "name": "stdout",
     "output_type": "stream",
     "text": [
      "Running RandomizedSearchCV for Lasso.\n",
      "Fitting 3 folds for each of 200 candidates, totalling 600 fits\n"
     ]
    },
    {
     "name": "stderr",
     "output_type": "stream",
     "text": [
      "[Parallel(n_jobs=4)]: Done  49 tasks      | elapsed:    8.7s\n",
      "[Parallel(n_jobs=4)]: Done 600 out of 600 | elapsed:   10.8s finished\n"
     ]
    }
   ],
   "source": [
    "abnormal = RandomSelectionHelper(models,params)\n",
    "abnormal.fit(abnormal_X, abnormal_y, scoring='mean_squared_error', cv=3, n_iter=200, n_jobs=4)"
   ]
  },
  {
   "cell_type": "markdown",
   "metadata": {},
   "source": [
    "#### Compare Models"
   ]
  },
  {
   "cell_type": "code",
   "execution_count": 89,
   "metadata": {
    "collapsed": false
   },
   "outputs": [
    {
     "name": "stderr",
     "output_type": "stream",
     "text": [
      "C:\\Users\\jdoyle\\AppData\\Local\\Continuum\\Anaconda2\\lib\\site-packages\\ipykernel\\__main__.py:35: FutureWarning: sort(columns=....) is deprecated, use sort_values(by=.....)\n"
     ]
    },
    {
     "data": {
      "text/html": [
       "<div>\n",
       "<table border=\"1\" class=\"dataframe\">\n",
       "  <thead>\n",
       "    <tr style=\"text-align: right;\">\n",
       "      <th></th>\n",
       "      <th>estimator</th>\n",
       "      <th>min_score</th>\n",
       "      <th>mean_score</th>\n",
       "      <th>max_score</th>\n",
       "      <th>std_score</th>\n",
       "      <th>alpha</th>\n",
       "      <th>l1_ratio</th>\n",
       "      <th>normalize</th>\n",
       "    </tr>\n",
       "  </thead>\n",
       "  <tbody>\n",
       "    <tr>\n",
       "      <th>558</th>\n",
       "      <td>Lasso</td>\n",
       "      <td>-0.117409</td>\n",
       "      <td>-0.0775544</td>\n",
       "      <td>-0.0276022</td>\n",
       "      <td>0.0373521</td>\n",
       "      <td>4.28993</td>\n",
       "      <td>NaN</td>\n",
       "      <td>False</td>\n",
       "    </tr>\n",
       "    <tr>\n",
       "      <th>566</th>\n",
       "      <td>Lasso</td>\n",
       "      <td>-0.117431</td>\n",
       "      <td>-0.0776397</td>\n",
       "      <td>-0.0278691</td>\n",
       "      <td>0.0372381</td>\n",
       "      <td>4.35466</td>\n",
       "      <td>NaN</td>\n",
       "      <td>False</td>\n",
       "    </tr>\n",
       "    <tr>\n",
       "      <th>555</th>\n",
       "      <td>Lasso</td>\n",
       "      <td>-0.117443</td>\n",
       "      <td>-0.0776872</td>\n",
       "      <td>-0.0280176</td>\n",
       "      <td>0.0371748</td>\n",
       "      <td>4.39064</td>\n",
       "      <td>NaN</td>\n",
       "      <td>False</td>\n",
       "    </tr>\n",
       "    <tr>\n",
       "      <th>516</th>\n",
       "      <td>Lasso</td>\n",
       "      <td>-0.117477</td>\n",
       "      <td>-0.0778162</td>\n",
       "      <td>-0.0284207</td>\n",
       "      <td>0.0370029</td>\n",
       "      <td>4.48658</td>\n",
       "      <td>NaN</td>\n",
       "      <td>False</td>\n",
       "    </tr>\n",
       "    <tr>\n",
       "      <th>539</th>\n",
       "      <td>Lasso</td>\n",
       "      <td>-0.117486</td>\n",
       "      <td>-0.0778532</td>\n",
       "      <td>-0.028536</td>\n",
       "      <td>0.0369537</td>\n",
       "      <td>4.51398</td>\n",
       "      <td>NaN</td>\n",
       "      <td>False</td>\n",
       "    </tr>\n",
       "    <tr>\n",
       "      <th>533</th>\n",
       "      <td>Lasso</td>\n",
       "      <td>-0.117326</td>\n",
       "      <td>-0.077961</td>\n",
       "      <td>-0.0287799</td>\n",
       "      <td>0.0368091</td>\n",
       "      <td>4.04937</td>\n",
       "      <td>NaN</td>\n",
       "      <td>False</td>\n",
       "    </tr>\n",
       "    <tr>\n",
       "      <th>449</th>\n",
       "      <td>Lasso</td>\n",
       "      <td>-0.117515</td>\n",
       "      <td>-0.0779647</td>\n",
       "      <td>-0.0288841</td>\n",
       "      <td>0.0368055</td>\n",
       "      <td>4.59597</td>\n",
       "      <td>NaN</td>\n",
       "      <td>False</td>\n",
       "    </tr>\n",
       "    <tr>\n",
       "      <th>564</th>\n",
       "      <td>Lasso</td>\n",
       "      <td>-0.117536</td>\n",
       "      <td>-0.0780476</td>\n",
       "      <td>-0.0291424</td>\n",
       "      <td>0.0366956</td>\n",
       "      <td>4.6562</td>\n",
       "      <td>NaN</td>\n",
       "      <td>False</td>\n",
       "    </tr>\n",
       "    <tr>\n",
       "      <th>584</th>\n",
       "      <td>Lasso</td>\n",
       "      <td>-0.11731</td>\n",
       "      <td>-0.0780866</td>\n",
       "      <td>-0.0291486</td>\n",
       "      <td>0.0366415</td>\n",
       "      <td>4.00473</td>\n",
       "      <td>NaN</td>\n",
       "      <td>False</td>\n",
       "    </tr>\n",
       "    <tr>\n",
       "      <th>522</th>\n",
       "      <td>Lasso</td>\n",
       "      <td>-0.117299</td>\n",
       "      <td>-0.0781834</td>\n",
       "      <td>-0.0294331</td>\n",
       "      <td>0.0365123</td>\n",
       "      <td>3.97122</td>\n",
       "      <td>NaN</td>\n",
       "      <td>False</td>\n",
       "    </tr>\n",
       "    <tr>\n",
       "      <th>476</th>\n",
       "      <td>Lasso</td>\n",
       "      <td>-0.117574</td>\n",
       "      <td>-0.0782042</td>\n",
       "      <td>-0.0296299</td>\n",
       "      <td>0.0364883</td>\n",
       "      <td>4.7677</td>\n",
       "      <td>NaN</td>\n",
       "      <td>False</td>\n",
       "    </tr>\n",
       "    <tr>\n",
       "      <th>144</th>\n",
       "      <td>ElasticNet</td>\n",
       "      <td>-0.117583</td>\n",
       "      <td>-0.0782387</td>\n",
       "      <td>-0.0297374</td>\n",
       "      <td>0.0364427</td>\n",
       "      <td>7.34126</td>\n",
       "      <td>0.652691</td>\n",
       "      <td>False</td>\n",
       "    </tr>\n",
       "    <tr>\n",
       "      <th>527</th>\n",
       "      <td>Lasso</td>\n",
       "      <td>-0.117285</td>\n",
       "      <td>-0.0783017</td>\n",
       "      <td>-0.0297799</td>\n",
       "      <td>0.0363551</td>\n",
       "      <td>3.93164</td>\n",
       "      <td>NaN</td>\n",
       "      <td>False</td>\n",
       "    </tr>\n",
       "    <tr>\n",
       "      <th>507</th>\n",
       "      <td>Lasso</td>\n",
       "      <td>-0.11762</td>\n",
       "      <td>-0.0783868</td>\n",
       "      <td>-0.0301974</td>\n",
       "      <td>0.0362475</td>\n",
       "      <td>4.89629</td>\n",
       "      <td>NaN</td>\n",
       "      <td>False</td>\n",
       "    </tr>\n",
       "    <tr>\n",
       "      <th>567</th>\n",
       "      <td>Lasso</td>\n",
       "      <td>-0.117258</td>\n",
       "      <td>-0.0785503</td>\n",
       "      <td>-0.0305108</td>\n",
       "      <td>0.0360239</td>\n",
       "      <td>3.85165</td>\n",
       "      <td>NaN</td>\n",
       "      <td>False</td>\n",
       "    </tr>\n",
       "    <tr>\n",
       "      <th>467</th>\n",
       "      <td>Lasso</td>\n",
       "      <td>-0.1177</td>\n",
       "      <td>-0.0787213</td>\n",
       "      <td>-0.031235</td>\n",
       "      <td>0.0358082</td>\n",
       "      <td>5.12574</td>\n",
       "      <td>NaN</td>\n",
       "      <td>False</td>\n",
       "    </tr>\n",
       "    <tr>\n",
       "      <th>37</th>\n",
       "      <td>ElasticNet</td>\n",
       "      <td>-0.117205</td>\n",
       "      <td>-0.0790642</td>\n",
       "      <td>-0.0320237</td>\n",
       "      <td>0.0353399</td>\n",
       "      <td>5.97905</td>\n",
       "      <td>0.618043</td>\n",
       "      <td>False</td>\n",
       "    </tr>\n",
       "    <tr>\n",
       "      <th>547</th>\n",
       "      <td>Lasso</td>\n",
       "      <td>-0.117794</td>\n",
       "      <td>-0.0791213</td>\n",
       "      <td>-0.0324723</td>\n",
       "      <td>0.0352861</td>\n",
       "      <td>5.39068</td>\n",
       "      <td>NaN</td>\n",
       "      <td>False</td>\n",
       "    </tr>\n",
       "    <tr>\n",
       "      <th>505</th>\n",
       "      <td>Lasso</td>\n",
       "      <td>-0.11719</td>\n",
       "      <td>-0.0792283</td>\n",
       "      <td>-0.0325075</td>\n",
       "      <td>0.035122</td>\n",
       "      <td>3.65271</td>\n",
       "      <td>NaN</td>\n",
       "      <td>False</td>\n",
       "    </tr>\n",
       "    <tr>\n",
       "      <th>462</th>\n",
       "      <td>Lasso</td>\n",
       "      <td>-0.117889</td>\n",
       "      <td>-0.0795404</td>\n",
       "      <td>-0.0337649</td>\n",
       "      <td>0.0347428</td>\n",
       "      <td>5.65819</td>\n",
       "      <td>NaN</td>\n",
       "      <td>False</td>\n",
       "    </tr>\n",
       "  </tbody>\n",
       "</table>\n",
       "</div>"
      ],
      "text/plain": [
       "      estimator min_score mean_score  max_score  std_score    alpha  l1_ratio  \\\n",
       "558       Lasso -0.117409 -0.0775544 -0.0276022  0.0373521  4.28993       NaN   \n",
       "566       Lasso -0.117431 -0.0776397 -0.0278691  0.0372381  4.35466       NaN   \n",
       "555       Lasso -0.117443 -0.0776872 -0.0280176  0.0371748  4.39064       NaN   \n",
       "516       Lasso -0.117477 -0.0778162 -0.0284207  0.0370029  4.48658       NaN   \n",
       "539       Lasso -0.117486 -0.0778532  -0.028536  0.0369537  4.51398       NaN   \n",
       "533       Lasso -0.117326  -0.077961 -0.0287799  0.0368091  4.04937       NaN   \n",
       "449       Lasso -0.117515 -0.0779647 -0.0288841  0.0368055  4.59597       NaN   \n",
       "564       Lasso -0.117536 -0.0780476 -0.0291424  0.0366956   4.6562       NaN   \n",
       "584       Lasso  -0.11731 -0.0780866 -0.0291486  0.0366415  4.00473       NaN   \n",
       "522       Lasso -0.117299 -0.0781834 -0.0294331  0.0365123  3.97122       NaN   \n",
       "476       Lasso -0.117574 -0.0782042 -0.0296299  0.0364883   4.7677       NaN   \n",
       "144  ElasticNet -0.117583 -0.0782387 -0.0297374  0.0364427  7.34126  0.652691   \n",
       "527       Lasso -0.117285 -0.0783017 -0.0297799  0.0363551  3.93164       NaN   \n",
       "507       Lasso  -0.11762 -0.0783868 -0.0301974  0.0362475  4.89629       NaN   \n",
       "567       Lasso -0.117258 -0.0785503 -0.0305108  0.0360239  3.85165       NaN   \n",
       "467       Lasso   -0.1177 -0.0787213  -0.031235  0.0358082  5.12574       NaN   \n",
       "37   ElasticNet -0.117205 -0.0790642 -0.0320237  0.0353399  5.97905  0.618043   \n",
       "547       Lasso -0.117794 -0.0791213 -0.0324723  0.0352861  5.39068       NaN   \n",
       "505       Lasso  -0.11719 -0.0792283 -0.0325075   0.035122  3.65271       NaN   \n",
       "462       Lasso -0.117889 -0.0795404 -0.0337649  0.0347428  5.65819       NaN   \n",
       "\n",
       "    normalize  \n",
       "558     False  \n",
       "566     False  \n",
       "555     False  \n",
       "516     False  \n",
       "539     False  \n",
       "533     False  \n",
       "449     False  \n",
       "564     False  \n",
       "584     False  \n",
       "522     False  \n",
       "476     False  \n",
       "144     False  \n",
       "527     False  \n",
       "507     False  \n",
       "567     False  \n",
       "467     False  \n",
       "37      False  \n",
       "547     False  \n",
       "505     False  \n",
       "462     False  "
      ]
     },
     "execution_count": 89,
     "metadata": {},
     "output_type": "execute_result"
    }
   ],
   "source": [
    "abnormal.score_summary(sort_by='mean_score').head(20)"
   ]
  },
  {
   "cell_type": "markdown",
   "metadata": {},
   "source": [
    "### Partial Sales"
   ]
  },
  {
   "cell_type": "code",
   "execution_count": 90,
   "metadata": {
    "collapsed": true
   },
   "outputs": [],
   "source": [
    "partial_X = one_hot_train.loc[one_hot_train.SaleCondSimple_Partial == 1, saleCond_features]\n",
    "partial_y = one_hot_train.loc[one_hot_train.SaleCondSimple_Partial == 1, target]"
   ]
  },
  {
   "cell_type": "markdown",
   "metadata": {},
   "source": [
    "#### Fit Models"
   ]
  },
  {
   "cell_type": "code",
   "execution_count": 91,
   "metadata": {
    "collapsed": false
   },
   "outputs": [
    {
     "name": "stdout",
     "output_type": "stream",
     "text": [
      "Running RandomizedSearchCV for ElasticNet.\n",
      "Fitting 10 folds for each of 200 candidates, totalling 2000 fits\n"
     ]
    },
    {
     "name": "stderr",
     "output_type": "stream",
     "text": [
      "[Parallel(n_jobs=4)]: Done  48 tasks      | elapsed:   10.3s\n",
      "[Parallel(n_jobs=4)]: Done 1532 tasks      | elapsed:   16.7s\n",
      "[Parallel(n_jobs=4)]: Done 2000 out of 2000 | elapsed:   18.4s finished\n"
     ]
    },
    {
     "name": "stdout",
     "output_type": "stream",
     "text": [
      "Running RandomizedSearchCV for Ridge.\n",
      "Fitting 10 folds for each of 200 candidates, totalling 2000 fits\n"
     ]
    },
    {
     "name": "stderr",
     "output_type": "stream",
     "text": [
      "[Parallel(n_jobs=4)]: Done  45 tasks      | elapsed:    9.2s\n",
      "[Parallel(n_jobs=4)]: Done 1233 tasks      | elapsed:   19.6s\n",
      "[Parallel(n_jobs=4)]: Done 2000 out of 2000 | elapsed:   26.5s finished\n"
     ]
    },
    {
     "name": "stdout",
     "output_type": "stream",
     "text": [
      "Running RandomizedSearchCV for Lasso.\n",
      "Fitting 10 folds for each of 200 candidates, totalling 2000 fits\n"
     ]
    },
    {
     "name": "stderr",
     "output_type": "stream",
     "text": [
      "[Parallel(n_jobs=4)]: Done  50 tasks      | elapsed:    8.7s\n",
      "[Parallel(n_jobs=4)]: Done 1550 tasks      | elapsed:   14.3s\n",
      "[Parallel(n_jobs=4)]: Done 2000 out of 2000 | elapsed:   15.9s finished\n"
     ]
    }
   ],
   "source": [
    "partial = RandomSelectionHelper(models,params)\n",
    "partial.fit(partial_X, partial_y, scoring='mean_squared_error', cv=10, n_iter=200, n_jobs=4)"
   ]
  },
  {
   "cell_type": "markdown",
   "metadata": {},
   "source": [
    "#### Compare Models"
   ]
  },
  {
   "cell_type": "code",
   "execution_count": 92,
   "metadata": {
    "collapsed": false
   },
   "outputs": [
    {
     "name": "stderr",
     "output_type": "stream",
     "text": [
      "C:\\Users\\jdoyle\\AppData\\Local\\Continuum\\Anaconda2\\lib\\site-packages\\ipykernel\\__main__.py:35: FutureWarning: sort(columns=....) is deprecated, use sort_values(by=.....)\n"
     ]
    },
    {
     "data": {
      "text/html": [
       "<div>\n",
       "<table border=\"1\" class=\"dataframe\">\n",
       "  <thead>\n",
       "    <tr style=\"text-align: right;\">\n",
       "      <th></th>\n",
       "      <th>estimator</th>\n",
       "      <th>min_score</th>\n",
       "      <th>mean_score</th>\n",
       "      <th>max_score</th>\n",
       "      <th>std_score</th>\n",
       "      <th>alpha</th>\n",
       "      <th>l1_ratio</th>\n",
       "      <th>normalize</th>\n",
       "    </tr>\n",
       "  </thead>\n",
       "  <tbody>\n",
       "    <tr>\n",
       "      <th>345</th>\n",
       "      <td>Ridge</td>\n",
       "      <td>-0.0592889</td>\n",
       "      <td>-0.0340482</td>\n",
       "      <td>-0.0174724</td>\n",
       "      <td>0.0127527</td>\n",
       "      <td>19.0099</td>\n",
       "      <td>NaN</td>\n",
       "      <td>False</td>\n",
       "    </tr>\n",
       "    <tr>\n",
       "      <th>311</th>\n",
       "      <td>Ridge</td>\n",
       "      <td>-0.0588327</td>\n",
       "      <td>-0.0342985</td>\n",
       "      <td>-0.0166323</td>\n",
       "      <td>0.0126973</td>\n",
       "      <td>10.4024</td>\n",
       "      <td>NaN</td>\n",
       "      <td>False</td>\n",
       "    </tr>\n",
       "    <tr>\n",
       "      <th>245</th>\n",
       "      <td>Ridge</td>\n",
       "      <td>-0.0587345</td>\n",
       "      <td>-0.0343509</td>\n",
       "      <td>-0.01655</td>\n",
       "      <td>0.0126891</td>\n",
       "      <td>9.59152</td>\n",
       "      <td>NaN</td>\n",
       "      <td>False</td>\n",
       "    </tr>\n",
       "    <tr>\n",
       "      <th>211</th>\n",
       "      <td>Ridge</td>\n",
       "      <td>-0.0587329</td>\n",
       "      <td>-0.0343518</td>\n",
       "      <td>-0.0165487</td>\n",
       "      <td>0.0126889</td>\n",
       "      <td>9.5791</td>\n",
       "      <td>NaN</td>\n",
       "      <td>False</td>\n",
       "    </tr>\n",
       "    <tr>\n",
       "      <th>372</th>\n",
       "      <td>Ridge</td>\n",
       "      <td>-0.0585862</td>\n",
       "      <td>-0.0344282</td>\n",
       "      <td>-0.0164473</td>\n",
       "      <td>0.0126774</td>\n",
       "      <td>8.57377</td>\n",
       "      <td>NaN</td>\n",
       "      <td>False</td>\n",
       "    </tr>\n",
       "    <tr>\n",
       "      <th>352</th>\n",
       "      <td>Ridge</td>\n",
       "      <td>-0.0585844</td>\n",
       "      <td>-0.0344292</td>\n",
       "      <td>-0.0164461</td>\n",
       "      <td>0.0126773</td>\n",
       "      <td>8.56223</td>\n",
       "      <td>NaN</td>\n",
       "      <td>False</td>\n",
       "    </tr>\n",
       "    <tr>\n",
       "      <th>263</th>\n",
       "      <td>Ridge</td>\n",
       "      <td>-0.0585592</td>\n",
       "      <td>-0.0344421</td>\n",
       "      <td>-0.0164308</td>\n",
       "      <td>0.0126754</td>\n",
       "      <td>8.40895</td>\n",
       "      <td>NaN</td>\n",
       "      <td>False</td>\n",
       "    </tr>\n",
       "    <tr>\n",
       "      <th>282</th>\n",
       "      <td>Ridge</td>\n",
       "      <td>-0.0585113</td>\n",
       "      <td>-0.0344666</td>\n",
       "      <td>-0.0164031</td>\n",
       "      <td>0.0126718</td>\n",
       "      <td>8.13059</td>\n",
       "      <td>NaN</td>\n",
       "      <td>False</td>\n",
       "    </tr>\n",
       "    <tr>\n",
       "      <th>314</th>\n",
       "      <td>Ridge</td>\n",
       "      <td>-0.0584475</td>\n",
       "      <td>-0.0344989</td>\n",
       "      <td>-0.0163687</td>\n",
       "      <td>0.0126672</td>\n",
       "      <td>7.78302</td>\n",
       "      <td>NaN</td>\n",
       "      <td>False</td>\n",
       "    </tr>\n",
       "    <tr>\n",
       "      <th>257</th>\n",
       "      <td>Ridge</td>\n",
       "      <td>-0.0584258</td>\n",
       "      <td>-0.0345097</td>\n",
       "      <td>-0.0163577</td>\n",
       "      <td>0.0126657</td>\n",
       "      <td>7.67053</td>\n",
       "      <td>NaN</td>\n",
       "      <td>False</td>\n",
       "    </tr>\n",
       "    <tr>\n",
       "      <th>280</th>\n",
       "      <td>Ridge</td>\n",
       "      <td>-0.0583997</td>\n",
       "      <td>-0.0345228</td>\n",
       "      <td>-0.0163448</td>\n",
       "      <td>0.0126638</td>\n",
       "      <td>7.53839</td>\n",
       "      <td>NaN</td>\n",
       "      <td>False</td>\n",
       "    </tr>\n",
       "    <tr>\n",
       "      <th>221</th>\n",
       "      <td>Ridge</td>\n",
       "      <td>-0.0583596</td>\n",
       "      <td>-0.0345428</td>\n",
       "      <td>-0.0163258</td>\n",
       "      <td>0.0126611</td>\n",
       "      <td>7.34263</td>\n",
       "      <td>NaN</td>\n",
       "      <td>False</td>\n",
       "    </tr>\n",
       "    <tr>\n",
       "      <th>283</th>\n",
       "      <td>Ridge</td>\n",
       "      <td>-0.0583404</td>\n",
       "      <td>-0.0345523</td>\n",
       "      <td>-0.0163171</td>\n",
       "      <td>0.0126597</td>\n",
       "      <td>7.25197</td>\n",
       "      <td>NaN</td>\n",
       "      <td>False</td>\n",
       "    </tr>\n",
       "    <tr>\n",
       "      <th>379</th>\n",
       "      <td>Ridge</td>\n",
       "      <td>-0.0583077</td>\n",
       "      <td>-0.0345685</td>\n",
       "      <td>-0.0163026</td>\n",
       "      <td>0.0126575</td>\n",
       "      <td>7.10108</td>\n",
       "      <td>NaN</td>\n",
       "      <td>False</td>\n",
       "    </tr>\n",
       "    <tr>\n",
       "      <th>208</th>\n",
       "      <td>Ridge</td>\n",
       "      <td>-0.0582956</td>\n",
       "      <td>-0.0345745</td>\n",
       "      <td>-0.0162974</td>\n",
       "      <td>0.0126567</td>\n",
       "      <td>7.04634</td>\n",
       "      <td>NaN</td>\n",
       "      <td>False</td>\n",
       "    </tr>\n",
       "    <tr>\n",
       "      <th>335</th>\n",
       "      <td>Ridge</td>\n",
       "      <td>-0.0582742</td>\n",
       "      <td>-0.034585</td>\n",
       "      <td>-0.0162884</td>\n",
       "      <td>0.0126553</td>\n",
       "      <td>6.95158</td>\n",
       "      <td>NaN</td>\n",
       "      <td>False</td>\n",
       "    </tr>\n",
       "    <tr>\n",
       "      <th>389</th>\n",
       "      <td>Ridge</td>\n",
       "      <td>-0.0581444</td>\n",
       "      <td>-0.0346482</td>\n",
       "      <td>-0.0162387</td>\n",
       "      <td>0.0126468</td>\n",
       "      <td>6.41491</td>\n",
       "      <td>NaN</td>\n",
       "      <td>False</td>\n",
       "    </tr>\n",
       "    <tr>\n",
       "      <th>265</th>\n",
       "      <td>Ridge</td>\n",
       "      <td>-0.0580852</td>\n",
       "      <td>-0.0346768</td>\n",
       "      <td>-0.0162185</td>\n",
       "      <td>0.012643</td>\n",
       "      <td>6.18978</td>\n",
       "      <td>NaN</td>\n",
       "      <td>False</td>\n",
       "    </tr>\n",
       "    <tr>\n",
       "      <th>363</th>\n",
       "      <td>Ridge</td>\n",
       "      <td>-0.0580794</td>\n",
       "      <td>-0.0346796</td>\n",
       "      <td>-0.0162166</td>\n",
       "      <td>0.0126427</td>\n",
       "      <td>6.16839</td>\n",
       "      <td>NaN</td>\n",
       "      <td>False</td>\n",
       "    </tr>\n",
       "    <tr>\n",
       "      <th>323</th>\n",
       "      <td>Ridge</td>\n",
       "      <td>-0.0580286</td>\n",
       "      <td>-0.0347039</td>\n",
       "      <td>-0.0162006</td>\n",
       "      <td>0.0126395</td>\n",
       "      <td>5.98529</td>\n",
       "      <td>NaN</td>\n",
       "      <td>False</td>\n",
       "    </tr>\n",
       "  </tbody>\n",
       "</table>\n",
       "</div>"
      ],
      "text/plain": [
       "    estimator  min_score mean_score  max_score  std_score    alpha l1_ratio  \\\n",
       "345     Ridge -0.0592889 -0.0340482 -0.0174724  0.0127527  19.0099      NaN   \n",
       "311     Ridge -0.0588327 -0.0342985 -0.0166323  0.0126973  10.4024      NaN   \n",
       "245     Ridge -0.0587345 -0.0343509   -0.01655  0.0126891  9.59152      NaN   \n",
       "211     Ridge -0.0587329 -0.0343518 -0.0165487  0.0126889   9.5791      NaN   \n",
       "372     Ridge -0.0585862 -0.0344282 -0.0164473  0.0126774  8.57377      NaN   \n",
       "352     Ridge -0.0585844 -0.0344292 -0.0164461  0.0126773  8.56223      NaN   \n",
       "263     Ridge -0.0585592 -0.0344421 -0.0164308  0.0126754  8.40895      NaN   \n",
       "282     Ridge -0.0585113 -0.0344666 -0.0164031  0.0126718  8.13059      NaN   \n",
       "314     Ridge -0.0584475 -0.0344989 -0.0163687  0.0126672  7.78302      NaN   \n",
       "257     Ridge -0.0584258 -0.0345097 -0.0163577  0.0126657  7.67053      NaN   \n",
       "280     Ridge -0.0583997 -0.0345228 -0.0163448  0.0126638  7.53839      NaN   \n",
       "221     Ridge -0.0583596 -0.0345428 -0.0163258  0.0126611  7.34263      NaN   \n",
       "283     Ridge -0.0583404 -0.0345523 -0.0163171  0.0126597  7.25197      NaN   \n",
       "379     Ridge -0.0583077 -0.0345685 -0.0163026  0.0126575  7.10108      NaN   \n",
       "208     Ridge -0.0582956 -0.0345745 -0.0162974  0.0126567  7.04634      NaN   \n",
       "335     Ridge -0.0582742  -0.034585 -0.0162884  0.0126553  6.95158      NaN   \n",
       "389     Ridge -0.0581444 -0.0346482 -0.0162387  0.0126468  6.41491      NaN   \n",
       "265     Ridge -0.0580852 -0.0346768 -0.0162185   0.012643  6.18978      NaN   \n",
       "363     Ridge -0.0580794 -0.0346796 -0.0162166  0.0126427  6.16839      NaN   \n",
       "323     Ridge -0.0580286 -0.0347039 -0.0162006  0.0126395  5.98529      NaN   \n",
       "\n",
       "    normalize  \n",
       "345     False  \n",
       "311     False  \n",
       "245     False  \n",
       "211     False  \n",
       "372     False  \n",
       "352     False  \n",
       "263     False  \n",
       "282     False  \n",
       "314     False  \n",
       "257     False  \n",
       "280     False  \n",
       "221     False  \n",
       "283     False  \n",
       "379     False  \n",
       "208     False  \n",
       "335     False  \n",
       "389     False  \n",
       "265     False  \n",
       "363     False  \n",
       "323     False  "
      ]
     },
     "execution_count": 92,
     "metadata": {},
     "output_type": "execute_result"
    }
   ],
   "source": [
    "partial.score_summary(sort_by='mean_score').head(20)"
   ]
  },
  {
   "cell_type": "markdown",
   "metadata": {},
   "source": [
    "# FIT BLENDED MODELS TO TEST DATA"
   ]
  },
  {
   "cell_type": "markdown",
   "metadata": {},
   "source": [
    "## Using Normal Sales fit for normal sales and Single/Multi Family fits for other sales"
   ]
  },
  {
   "cell_type": "code",
   "execution_count": 93,
   "metadata": {
    "collapsed": false
   },
   "outputs": [],
   "source": [
    "best_normal = normal.random_searches['Ridge'].best_estimator_\n",
    "best_single = single_family.random_searches['Ridge'].best_estimator_\n",
    "best_multi  = multi_family.random_searches['Ridge'].best_estimator_\n",
    "\n",
    "predict_normal = best_normal.predict(one_hot_test[saleCond_features])\n",
    "predict_single = best_single.predict(one_hot_test[bldgType_features])\n",
    "predict_multi  = best_multi.predict(one_hot_test[bldgType_features])"
   ]
  },
  {
   "cell_type": "code",
   "execution_count": 94,
   "metadata": {
    "collapsed": false
   },
   "outputs": [],
   "source": [
    "submission = one_hot_test.loc[:,['Id','SaleCondSimple_Normal','BldgTypeSimple_1Fam']]\n",
    "submission['predict_normal'] = predict_normal\n",
    "submission['predict_single'] = predict_single\n",
    "submission['predict_multi'] = predict_multi"
   ]
  },
  {
   "cell_type": "code",
   "execution_count": 95,
   "metadata": {
    "collapsed": true
   },
   "outputs": [],
   "source": [
    "submission['SalePrice'] = 0.0\n",
    "submission.loc[submission.SaleCondSimple_Normal == 1, 'SalePrice'] = submission.predict_normal\n",
    "submission.loc[(submission.SaleCondSimple_Normal == 0) & (submission.BldgTypeSimple_1Fam == 1), 'SalePrice'] = submission.predict_single\n",
    "submission.loc[(submission.SaleCondSimple_Normal == 0) & (submission.BldgTypeSimple_1Fam == 0), 'SalePrice'] = submission.predict_multi"
   ]
  },
  {
   "cell_type": "code",
   "execution_count": 96,
   "metadata": {
    "collapsed": true
   },
   "outputs": [],
   "source": [
    "submission['SalePrice'] = submission.SalePrice.apply(lambda x: np.exp(x))"
   ]
  },
  {
   "cell_type": "code",
   "execution_count": 97,
   "metadata": {
    "collapsed": true
   },
   "outputs": [],
   "source": [
    "submission = submission.loc[:,['Id','SalePrice']]\n",
    "submission.to_csv('Ridge_Blend_JD_2016_12_27.csv', index=False)"
   ]
  },
  {
   "cell_type": "code",
   "execution_count": null,
   "metadata": {
    "collapsed": true
   },
   "outputs": [],
   "source": []
  }
 ],
 "metadata": {
  "anaconda-cloud": {},
  "kernelspec": {
   "display_name": "Python [conda root]",
   "language": "python",
   "name": "conda-root-py"
  },
  "language_info": {
   "codemirror_mode": {
    "name": "ipython",
    "version": 2
   },
   "file_extension": ".py",
   "mimetype": "text/x-python",
   "name": "python",
   "nbconvert_exporter": "python",
   "pygments_lexer": "ipython2",
   "version": "2.7.12"
  }
 },
 "nbformat": 4,
 "nbformat_minor": 1
}
