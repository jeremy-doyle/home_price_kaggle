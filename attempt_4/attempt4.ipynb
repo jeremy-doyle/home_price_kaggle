{
 "cells": [
  {
   "cell_type": "code",
   "execution_count": 445,
   "metadata": {
    "collapsed": false
   },
   "outputs": [],
   "source": [
    "import pandas as pd\n",
    "import numpy as np\n",
    "import scipy.stats \n",
    "from sklearn import preprocessing, decomposition, feature_selection, cross_validation, metrics\n",
    "from sklearn import cluster\n",
    "from sklearn import linear_model, svm, ensemble\n",
    "from sklearn.grid_search import GridSearchCV, RandomizedSearchCV\n",
    "import matplotlib.pyplot as plt\n",
    "import datetime"
   ]
  },
  {
   "cell_type": "markdown",
   "metadata": {},
   "source": [
    "# COLLECTING DATA"
   ]
  },
  {
   "cell_type": "code",
   "execution_count": 446,
   "metadata": {
    "collapsed": true
   },
   "outputs": [],
   "source": [
    "train = pd.read_csv('train.csv')\n",
    "test = pd.read_csv('test.csv')"
   ]
  },
  {
   "cell_type": "code",
   "execution_count": 447,
   "metadata": {
    "collapsed": false
   },
   "outputs": [
    {
     "data": {
      "text/html": [
       "<div>\n",
       "<table border=\"1\" class=\"dataframe\">\n",
       "  <thead>\n",
       "    <tr style=\"text-align: right;\">\n",
       "      <th></th>\n",
       "      <th>Id</th>\n",
       "      <th>MSSubClass</th>\n",
       "      <th>MSZoning</th>\n",
       "      <th>LotFrontage</th>\n",
       "      <th>LotArea</th>\n",
       "      <th>Street</th>\n",
       "      <th>Alley</th>\n",
       "      <th>LotShape</th>\n",
       "      <th>LandContour</th>\n",
       "      <th>Utilities</th>\n",
       "      <th>...</th>\n",
       "      <th>PoolArea</th>\n",
       "      <th>PoolQC</th>\n",
       "      <th>Fence</th>\n",
       "      <th>MiscFeature</th>\n",
       "      <th>MiscVal</th>\n",
       "      <th>MoSold</th>\n",
       "      <th>YrSold</th>\n",
       "      <th>SaleType</th>\n",
       "      <th>SaleCondition</th>\n",
       "      <th>SalePrice</th>\n",
       "    </tr>\n",
       "  </thead>\n",
       "  <tbody>\n",
       "    <tr>\n",
       "      <th>0</th>\n",
       "      <td>1</td>\n",
       "      <td>60</td>\n",
       "      <td>RL</td>\n",
       "      <td>65.0</td>\n",
       "      <td>8450</td>\n",
       "      <td>Pave</td>\n",
       "      <td>NaN</td>\n",
       "      <td>Reg</td>\n",
       "      <td>Lvl</td>\n",
       "      <td>AllPub</td>\n",
       "      <td>...</td>\n",
       "      <td>0</td>\n",
       "      <td>NaN</td>\n",
       "      <td>NaN</td>\n",
       "      <td>NaN</td>\n",
       "      <td>0</td>\n",
       "      <td>2</td>\n",
       "      <td>2008</td>\n",
       "      <td>WD</td>\n",
       "      <td>Normal</td>\n",
       "      <td>208500</td>\n",
       "    </tr>\n",
       "    <tr>\n",
       "      <th>1</th>\n",
       "      <td>2</td>\n",
       "      <td>20</td>\n",
       "      <td>RL</td>\n",
       "      <td>80.0</td>\n",
       "      <td>9600</td>\n",
       "      <td>Pave</td>\n",
       "      <td>NaN</td>\n",
       "      <td>Reg</td>\n",
       "      <td>Lvl</td>\n",
       "      <td>AllPub</td>\n",
       "      <td>...</td>\n",
       "      <td>0</td>\n",
       "      <td>NaN</td>\n",
       "      <td>NaN</td>\n",
       "      <td>NaN</td>\n",
       "      <td>0</td>\n",
       "      <td>5</td>\n",
       "      <td>2007</td>\n",
       "      <td>WD</td>\n",
       "      <td>Normal</td>\n",
       "      <td>181500</td>\n",
       "    </tr>\n",
       "    <tr>\n",
       "      <th>2</th>\n",
       "      <td>3</td>\n",
       "      <td>60</td>\n",
       "      <td>RL</td>\n",
       "      <td>68.0</td>\n",
       "      <td>11250</td>\n",
       "      <td>Pave</td>\n",
       "      <td>NaN</td>\n",
       "      <td>IR1</td>\n",
       "      <td>Lvl</td>\n",
       "      <td>AllPub</td>\n",
       "      <td>...</td>\n",
       "      <td>0</td>\n",
       "      <td>NaN</td>\n",
       "      <td>NaN</td>\n",
       "      <td>NaN</td>\n",
       "      <td>0</td>\n",
       "      <td>9</td>\n",
       "      <td>2008</td>\n",
       "      <td>WD</td>\n",
       "      <td>Normal</td>\n",
       "      <td>223500</td>\n",
       "    </tr>\n",
       "    <tr>\n",
       "      <th>3</th>\n",
       "      <td>4</td>\n",
       "      <td>70</td>\n",
       "      <td>RL</td>\n",
       "      <td>60.0</td>\n",
       "      <td>9550</td>\n",
       "      <td>Pave</td>\n",
       "      <td>NaN</td>\n",
       "      <td>IR1</td>\n",
       "      <td>Lvl</td>\n",
       "      <td>AllPub</td>\n",
       "      <td>...</td>\n",
       "      <td>0</td>\n",
       "      <td>NaN</td>\n",
       "      <td>NaN</td>\n",
       "      <td>NaN</td>\n",
       "      <td>0</td>\n",
       "      <td>2</td>\n",
       "      <td>2006</td>\n",
       "      <td>WD</td>\n",
       "      <td>Abnorml</td>\n",
       "      <td>140000</td>\n",
       "    </tr>\n",
       "    <tr>\n",
       "      <th>4</th>\n",
       "      <td>5</td>\n",
       "      <td>60</td>\n",
       "      <td>RL</td>\n",
       "      <td>84.0</td>\n",
       "      <td>14260</td>\n",
       "      <td>Pave</td>\n",
       "      <td>NaN</td>\n",
       "      <td>IR1</td>\n",
       "      <td>Lvl</td>\n",
       "      <td>AllPub</td>\n",
       "      <td>...</td>\n",
       "      <td>0</td>\n",
       "      <td>NaN</td>\n",
       "      <td>NaN</td>\n",
       "      <td>NaN</td>\n",
       "      <td>0</td>\n",
       "      <td>12</td>\n",
       "      <td>2008</td>\n",
       "      <td>WD</td>\n",
       "      <td>Normal</td>\n",
       "      <td>250000</td>\n",
       "    </tr>\n",
       "  </tbody>\n",
       "</table>\n",
       "<p>5 rows × 81 columns</p>\n",
       "</div>"
      ],
      "text/plain": [
       "   Id  MSSubClass MSZoning  LotFrontage  LotArea Street Alley LotShape  \\\n",
       "0   1          60       RL         65.0     8450   Pave   NaN      Reg   \n",
       "1   2          20       RL         80.0     9600   Pave   NaN      Reg   \n",
       "2   3          60       RL         68.0    11250   Pave   NaN      IR1   \n",
       "3   4          70       RL         60.0     9550   Pave   NaN      IR1   \n",
       "4   5          60       RL         84.0    14260   Pave   NaN      IR1   \n",
       "\n",
       "  LandContour Utilities    ...     PoolArea PoolQC Fence MiscFeature MiscVal  \\\n",
       "0         Lvl    AllPub    ...            0    NaN   NaN         NaN       0   \n",
       "1         Lvl    AllPub    ...            0    NaN   NaN         NaN       0   \n",
       "2         Lvl    AllPub    ...            0    NaN   NaN         NaN       0   \n",
       "3         Lvl    AllPub    ...            0    NaN   NaN         NaN       0   \n",
       "4         Lvl    AllPub    ...            0    NaN   NaN         NaN       0   \n",
       "\n",
       "  MoSold YrSold  SaleType  SaleCondition  SalePrice  \n",
       "0      2   2008        WD         Normal     208500  \n",
       "1      5   2007        WD         Normal     181500  \n",
       "2      9   2008        WD         Normal     223500  \n",
       "3      2   2006        WD        Abnorml     140000  \n",
       "4     12   2008        WD         Normal     250000  \n",
       "\n",
       "[5 rows x 81 columns]"
      ]
     },
     "execution_count": 447,
     "metadata": {},
     "output_type": "execute_result"
    }
   ],
   "source": [
    "train.head()"
   ]
  },
  {
   "cell_type": "code",
   "execution_count": 448,
   "metadata": {
    "collapsed": false
   },
   "outputs": [
    {
     "data": {
      "text/html": [
       "<div>\n",
       "<table border=\"1\" class=\"dataframe\">\n",
       "  <thead>\n",
       "    <tr style=\"text-align: right;\">\n",
       "      <th></th>\n",
       "      <th>Id</th>\n",
       "      <th>MSSubClass</th>\n",
       "      <th>MSZoning</th>\n",
       "      <th>LotFrontage</th>\n",
       "      <th>LotArea</th>\n",
       "      <th>Street</th>\n",
       "      <th>Alley</th>\n",
       "      <th>LotShape</th>\n",
       "      <th>LandContour</th>\n",
       "      <th>Utilities</th>\n",
       "      <th>...</th>\n",
       "      <th>ScreenPorch</th>\n",
       "      <th>PoolArea</th>\n",
       "      <th>PoolQC</th>\n",
       "      <th>Fence</th>\n",
       "      <th>MiscFeature</th>\n",
       "      <th>MiscVal</th>\n",
       "      <th>MoSold</th>\n",
       "      <th>YrSold</th>\n",
       "      <th>SaleType</th>\n",
       "      <th>SaleCondition</th>\n",
       "    </tr>\n",
       "  </thead>\n",
       "  <tbody>\n",
       "    <tr>\n",
       "      <th>0</th>\n",
       "      <td>1461</td>\n",
       "      <td>20</td>\n",
       "      <td>RH</td>\n",
       "      <td>80.0</td>\n",
       "      <td>11622</td>\n",
       "      <td>Pave</td>\n",
       "      <td>NaN</td>\n",
       "      <td>Reg</td>\n",
       "      <td>Lvl</td>\n",
       "      <td>AllPub</td>\n",
       "      <td>...</td>\n",
       "      <td>120</td>\n",
       "      <td>0</td>\n",
       "      <td>NaN</td>\n",
       "      <td>MnPrv</td>\n",
       "      <td>NaN</td>\n",
       "      <td>0</td>\n",
       "      <td>6</td>\n",
       "      <td>2010</td>\n",
       "      <td>WD</td>\n",
       "      <td>Normal</td>\n",
       "    </tr>\n",
       "    <tr>\n",
       "      <th>1</th>\n",
       "      <td>1462</td>\n",
       "      <td>20</td>\n",
       "      <td>RL</td>\n",
       "      <td>81.0</td>\n",
       "      <td>14267</td>\n",
       "      <td>Pave</td>\n",
       "      <td>NaN</td>\n",
       "      <td>IR1</td>\n",
       "      <td>Lvl</td>\n",
       "      <td>AllPub</td>\n",
       "      <td>...</td>\n",
       "      <td>0</td>\n",
       "      <td>0</td>\n",
       "      <td>NaN</td>\n",
       "      <td>NaN</td>\n",
       "      <td>Gar2</td>\n",
       "      <td>12500</td>\n",
       "      <td>6</td>\n",
       "      <td>2010</td>\n",
       "      <td>WD</td>\n",
       "      <td>Normal</td>\n",
       "    </tr>\n",
       "    <tr>\n",
       "      <th>2</th>\n",
       "      <td>1463</td>\n",
       "      <td>60</td>\n",
       "      <td>RL</td>\n",
       "      <td>74.0</td>\n",
       "      <td>13830</td>\n",
       "      <td>Pave</td>\n",
       "      <td>NaN</td>\n",
       "      <td>IR1</td>\n",
       "      <td>Lvl</td>\n",
       "      <td>AllPub</td>\n",
       "      <td>...</td>\n",
       "      <td>0</td>\n",
       "      <td>0</td>\n",
       "      <td>NaN</td>\n",
       "      <td>MnPrv</td>\n",
       "      <td>NaN</td>\n",
       "      <td>0</td>\n",
       "      <td>3</td>\n",
       "      <td>2010</td>\n",
       "      <td>WD</td>\n",
       "      <td>Normal</td>\n",
       "    </tr>\n",
       "    <tr>\n",
       "      <th>3</th>\n",
       "      <td>1464</td>\n",
       "      <td>60</td>\n",
       "      <td>RL</td>\n",
       "      <td>78.0</td>\n",
       "      <td>9978</td>\n",
       "      <td>Pave</td>\n",
       "      <td>NaN</td>\n",
       "      <td>IR1</td>\n",
       "      <td>Lvl</td>\n",
       "      <td>AllPub</td>\n",
       "      <td>...</td>\n",
       "      <td>0</td>\n",
       "      <td>0</td>\n",
       "      <td>NaN</td>\n",
       "      <td>NaN</td>\n",
       "      <td>NaN</td>\n",
       "      <td>0</td>\n",
       "      <td>6</td>\n",
       "      <td>2010</td>\n",
       "      <td>WD</td>\n",
       "      <td>Normal</td>\n",
       "    </tr>\n",
       "    <tr>\n",
       "      <th>4</th>\n",
       "      <td>1465</td>\n",
       "      <td>120</td>\n",
       "      <td>RL</td>\n",
       "      <td>43.0</td>\n",
       "      <td>5005</td>\n",
       "      <td>Pave</td>\n",
       "      <td>NaN</td>\n",
       "      <td>IR1</td>\n",
       "      <td>HLS</td>\n",
       "      <td>AllPub</td>\n",
       "      <td>...</td>\n",
       "      <td>144</td>\n",
       "      <td>0</td>\n",
       "      <td>NaN</td>\n",
       "      <td>NaN</td>\n",
       "      <td>NaN</td>\n",
       "      <td>0</td>\n",
       "      <td>1</td>\n",
       "      <td>2010</td>\n",
       "      <td>WD</td>\n",
       "      <td>Normal</td>\n",
       "    </tr>\n",
       "  </tbody>\n",
       "</table>\n",
       "<p>5 rows × 80 columns</p>\n",
       "</div>"
      ],
      "text/plain": [
       "     Id  MSSubClass MSZoning  LotFrontage  LotArea Street Alley LotShape  \\\n",
       "0  1461          20       RH         80.0    11622   Pave   NaN      Reg   \n",
       "1  1462          20       RL         81.0    14267   Pave   NaN      IR1   \n",
       "2  1463          60       RL         74.0    13830   Pave   NaN      IR1   \n",
       "3  1464          60       RL         78.0     9978   Pave   NaN      IR1   \n",
       "4  1465         120       RL         43.0     5005   Pave   NaN      IR1   \n",
       "\n",
       "  LandContour Utilities      ...       ScreenPorch PoolArea PoolQC  Fence  \\\n",
       "0         Lvl    AllPub      ...               120        0    NaN  MnPrv   \n",
       "1         Lvl    AllPub      ...                 0        0    NaN    NaN   \n",
       "2         Lvl    AllPub      ...                 0        0    NaN  MnPrv   \n",
       "3         Lvl    AllPub      ...                 0        0    NaN    NaN   \n",
       "4         HLS    AllPub      ...               144        0    NaN    NaN   \n",
       "\n",
       "  MiscFeature MiscVal MoSold  YrSold  SaleType  SaleCondition  \n",
       "0         NaN       0      6    2010        WD         Normal  \n",
       "1        Gar2   12500      6    2010        WD         Normal  \n",
       "2         NaN       0      3    2010        WD         Normal  \n",
       "3         NaN       0      6    2010        WD         Normal  \n",
       "4         NaN       0      1    2010        WD         Normal  \n",
       "\n",
       "[5 rows x 80 columns]"
      ]
     },
     "execution_count": 448,
     "metadata": {},
     "output_type": "execute_result"
    }
   ],
   "source": [
    "test.head()"
   ]
  },
  {
   "cell_type": "markdown",
   "metadata": {},
   "source": [
    "# EXPLORING DATA"
   ]
  },
  {
   "cell_type": "markdown",
   "metadata": {},
   "source": [
    "## Defining Variable Types"
   ]
  },
  {
   "cell_type": "code",
   "execution_count": 449,
   "metadata": {
    "collapsed": true
   },
   "outputs": [],
   "source": [
    "nominal = ['MSSubClass','MSZoning','Street','Alley','LotShape','LandContour','Utilities','LotConfig','LandSlope','Neighborhood',\n",
    "           'Condition1','Condition2','BldgType','HouseStyle','RoofStyle','RoofMatl','Exterior1st','Exterior2nd','MasVnrType',\n",
    "           'Foundation','Heating','CentralAir','Electrical','Functional','GarageType','GarageFinish','PavedDrive','Fence',\n",
    "           'MiscFeature','SaleType','SaleCondition']\n",
    "\n",
    "ordinal = ['OverallQual','OverallCond','ExterQual','ExterCond','BsmtQual','BsmtCond','BsmtExposure','BsmtFinType1',\n",
    "           'BsmtFinType2','HeatingQC','KitchenQual','FireplaceQu','GarageQual','GarageCond','PoolQC','MoSold','YrSold']\n",
    "\n",
    "continuous = ['LotFrontage','LotArea','MasVnrArea','BsmtFinSF1','BsmtFinSF2','BsmtUnfSF','TotalBsmtSF','1stFlrSF','2ndFlrSF',\n",
    "              'LowQualFinSF','GrLivArea','GarageArea','WoodDeckSF','OpenPorchSF','EnclosedPorch','3SsnPorch','ScreenPorch',\n",
    "              'PoolArea','MiscVal','SalePrice']\n",
    "\n",
    "discrete = ['YearBuilt','YearRemodAdd','BsmtFullBath','BsmtHalfBath','FullBath','HalfBath','BedroomAbvGr','KitchenAbvGr',\n",
    "            'TotRmsAbvGrd','Fireplaces','GarageYrBlt','GarageCars']\n",
    "\n",
    "categorical = nominal + ordinal\n",
    "numeric = continuous + discrete"
   ]
  },
  {
   "cell_type": "markdown",
   "metadata": {},
   "source": [
    "## Data Types"
   ]
  },
  {
   "cell_type": "code",
   "execution_count": 450,
   "metadata": {
    "collapsed": false
   },
   "outputs": [
    {
     "data": {
      "text/plain": [
       "Id                int64\n",
       "MSSubClass        int64\n",
       "MSZoning         object\n",
       "LotFrontage     float64\n",
       "LotArea           int64\n",
       "Street           object\n",
       "Alley            object\n",
       "LotShape         object\n",
       "LandContour      object\n",
       "Utilities        object\n",
       "LotConfig        object\n",
       "LandSlope        object\n",
       "Neighborhood     object\n",
       "Condition1       object\n",
       "Condition2       object\n",
       "BldgType         object\n",
       "HouseStyle       object\n",
       "OverallQual       int64\n",
       "OverallCond       int64\n",
       "YearBuilt         int64\n",
       "YearRemodAdd      int64\n",
       "RoofStyle        object\n",
       "RoofMatl         object\n",
       "Exterior1st      object\n",
       "Exterior2nd      object\n",
       "MasVnrType       object\n",
       "MasVnrArea      float64\n",
       "ExterQual        object\n",
       "ExterCond        object\n",
       "Foundation       object\n",
       "BsmtQual         object\n",
       "BsmtCond         object\n",
       "BsmtExposure     object\n",
       "BsmtFinType1     object\n",
       "BsmtFinSF1        int64\n",
       "BsmtFinType2     object\n",
       "BsmtFinSF2        int64\n",
       "BsmtUnfSF         int64\n",
       "TotalBsmtSF       int64\n",
       "Heating          object\n",
       "dtype: object"
      ]
     },
     "execution_count": 450,
     "metadata": {},
     "output_type": "execute_result"
    }
   ],
   "source": [
    "train.dtypes[:40]"
   ]
  },
  {
   "cell_type": "code",
   "execution_count": 451,
   "metadata": {
    "collapsed": false
   },
   "outputs": [
    {
     "data": {
      "text/plain": [
       "HeatingQC         object\n",
       "CentralAir        object\n",
       "Electrical        object\n",
       "1stFlrSF           int64\n",
       "2ndFlrSF           int64\n",
       "LowQualFinSF       int64\n",
       "GrLivArea          int64\n",
       "BsmtFullBath       int64\n",
       "BsmtHalfBath       int64\n",
       "FullBath           int64\n",
       "HalfBath           int64\n",
       "BedroomAbvGr       int64\n",
       "KitchenAbvGr       int64\n",
       "KitchenQual       object\n",
       "TotRmsAbvGrd       int64\n",
       "Functional        object\n",
       "Fireplaces         int64\n",
       "FireplaceQu       object\n",
       "GarageType        object\n",
       "GarageYrBlt      float64\n",
       "GarageFinish      object\n",
       "GarageCars         int64\n",
       "GarageArea         int64\n",
       "GarageQual        object\n",
       "GarageCond        object\n",
       "PavedDrive        object\n",
       "WoodDeckSF         int64\n",
       "OpenPorchSF        int64\n",
       "EnclosedPorch      int64\n",
       "3SsnPorch          int64\n",
       "ScreenPorch        int64\n",
       "PoolArea           int64\n",
       "PoolQC            object\n",
       "Fence             object\n",
       "MiscFeature       object\n",
       "MiscVal            int64\n",
       "MoSold             int64\n",
       "YrSold             int64\n",
       "SaleType          object\n",
       "SaleCondition     object\n",
       "SalePrice          int64\n",
       "dtype: object"
      ]
     },
     "execution_count": 451,
     "metadata": {},
     "output_type": "execute_result"
    }
   ],
   "source": [
    "train.dtypes[40:]"
   ]
  },
  {
   "cell_type": "markdown",
   "metadata": {},
   "source": [
    "## Description"
   ]
  },
  {
   "cell_type": "markdown",
   "metadata": {},
   "source": [
    "### numbers"
   ]
  },
  {
   "cell_type": "code",
   "execution_count": 452,
   "metadata": {
    "collapsed": false
   },
   "outputs": [
    {
     "data": {
      "text/html": [
       "<div>\n",
       "<table border=\"1\" class=\"dataframe\">\n",
       "  <thead>\n",
       "    <tr style=\"text-align: right;\">\n",
       "      <th></th>\n",
       "      <th>count</th>\n",
       "      <th>mean</th>\n",
       "      <th>std</th>\n",
       "      <th>min</th>\n",
       "      <th>25%</th>\n",
       "      <th>50%</th>\n",
       "      <th>75%</th>\n",
       "      <th>max</th>\n",
       "    </tr>\n",
       "  </thead>\n",
       "  <tbody>\n",
       "    <tr>\n",
       "      <th>Id</th>\n",
       "      <td>1460.0</td>\n",
       "      <td>730.500000</td>\n",
       "      <td>421.610009</td>\n",
       "      <td>1.0</td>\n",
       "      <td>365.75</td>\n",
       "      <td>730.5</td>\n",
       "      <td>1095.25</td>\n",
       "      <td>1460.0</td>\n",
       "    </tr>\n",
       "    <tr>\n",
       "      <th>MSSubClass</th>\n",
       "      <td>1460.0</td>\n",
       "      <td>56.897260</td>\n",
       "      <td>42.300571</td>\n",
       "      <td>20.0</td>\n",
       "      <td>20.00</td>\n",
       "      <td>50.0</td>\n",
       "      <td>70.00</td>\n",
       "      <td>190.0</td>\n",
       "    </tr>\n",
       "    <tr>\n",
       "      <th>LotFrontage</th>\n",
       "      <td>1201.0</td>\n",
       "      <td>70.049958</td>\n",
       "      <td>24.284752</td>\n",
       "      <td>21.0</td>\n",
       "      <td>NaN</td>\n",
       "      <td>NaN</td>\n",
       "      <td>NaN</td>\n",
       "      <td>313.0</td>\n",
       "    </tr>\n",
       "    <tr>\n",
       "      <th>LotArea</th>\n",
       "      <td>1460.0</td>\n",
       "      <td>10516.828082</td>\n",
       "      <td>9981.264932</td>\n",
       "      <td>1300.0</td>\n",
       "      <td>7553.50</td>\n",
       "      <td>9478.5</td>\n",
       "      <td>11601.50</td>\n",
       "      <td>215245.0</td>\n",
       "    </tr>\n",
       "    <tr>\n",
       "      <th>OverallQual</th>\n",
       "      <td>1460.0</td>\n",
       "      <td>6.099315</td>\n",
       "      <td>1.382997</td>\n",
       "      <td>1.0</td>\n",
       "      <td>5.00</td>\n",
       "      <td>6.0</td>\n",
       "      <td>7.00</td>\n",
       "      <td>10.0</td>\n",
       "    </tr>\n",
       "    <tr>\n",
       "      <th>OverallCond</th>\n",
       "      <td>1460.0</td>\n",
       "      <td>5.575342</td>\n",
       "      <td>1.112799</td>\n",
       "      <td>1.0</td>\n",
       "      <td>5.00</td>\n",
       "      <td>5.0</td>\n",
       "      <td>6.00</td>\n",
       "      <td>9.0</td>\n",
       "    </tr>\n",
       "    <tr>\n",
       "      <th>YearBuilt</th>\n",
       "      <td>1460.0</td>\n",
       "      <td>1971.267808</td>\n",
       "      <td>30.202904</td>\n",
       "      <td>1872.0</td>\n",
       "      <td>1954.00</td>\n",
       "      <td>1973.0</td>\n",
       "      <td>2000.00</td>\n",
       "      <td>2010.0</td>\n",
       "    </tr>\n",
       "    <tr>\n",
       "      <th>YearRemodAdd</th>\n",
       "      <td>1460.0</td>\n",
       "      <td>1984.865753</td>\n",
       "      <td>20.645407</td>\n",
       "      <td>1950.0</td>\n",
       "      <td>1967.00</td>\n",
       "      <td>1994.0</td>\n",
       "      <td>2004.00</td>\n",
       "      <td>2010.0</td>\n",
       "    </tr>\n",
       "    <tr>\n",
       "      <th>MasVnrArea</th>\n",
       "      <td>1452.0</td>\n",
       "      <td>103.685262</td>\n",
       "      <td>181.066207</td>\n",
       "      <td>0.0</td>\n",
       "      <td>NaN</td>\n",
       "      <td>NaN</td>\n",
       "      <td>NaN</td>\n",
       "      <td>1600.0</td>\n",
       "    </tr>\n",
       "    <tr>\n",
       "      <th>BsmtFinSF1</th>\n",
       "      <td>1460.0</td>\n",
       "      <td>443.639726</td>\n",
       "      <td>456.098091</td>\n",
       "      <td>0.0</td>\n",
       "      <td>0.00</td>\n",
       "      <td>383.5</td>\n",
       "      <td>712.25</td>\n",
       "      <td>5644.0</td>\n",
       "    </tr>\n",
       "    <tr>\n",
       "      <th>BsmtFinSF2</th>\n",
       "      <td>1460.0</td>\n",
       "      <td>46.549315</td>\n",
       "      <td>161.319273</td>\n",
       "      <td>0.0</td>\n",
       "      <td>0.00</td>\n",
       "      <td>0.0</td>\n",
       "      <td>0.00</td>\n",
       "      <td>1474.0</td>\n",
       "    </tr>\n",
       "    <tr>\n",
       "      <th>BsmtUnfSF</th>\n",
       "      <td>1460.0</td>\n",
       "      <td>567.240411</td>\n",
       "      <td>441.866955</td>\n",
       "      <td>0.0</td>\n",
       "      <td>223.00</td>\n",
       "      <td>477.5</td>\n",
       "      <td>808.00</td>\n",
       "      <td>2336.0</td>\n",
       "    </tr>\n",
       "    <tr>\n",
       "      <th>TotalBsmtSF</th>\n",
       "      <td>1460.0</td>\n",
       "      <td>1057.429452</td>\n",
       "      <td>438.705324</td>\n",
       "      <td>0.0</td>\n",
       "      <td>795.75</td>\n",
       "      <td>991.5</td>\n",
       "      <td>1298.25</td>\n",
       "      <td>6110.0</td>\n",
       "    </tr>\n",
       "    <tr>\n",
       "      <th>1stFlrSF</th>\n",
       "      <td>1460.0</td>\n",
       "      <td>1162.626712</td>\n",
       "      <td>386.587738</td>\n",
       "      <td>334.0</td>\n",
       "      <td>882.00</td>\n",
       "      <td>1087.0</td>\n",
       "      <td>1391.25</td>\n",
       "      <td>4692.0</td>\n",
       "    </tr>\n",
       "    <tr>\n",
       "      <th>2ndFlrSF</th>\n",
       "      <td>1460.0</td>\n",
       "      <td>346.992466</td>\n",
       "      <td>436.528436</td>\n",
       "      <td>0.0</td>\n",
       "      <td>0.00</td>\n",
       "      <td>0.0</td>\n",
       "      <td>728.00</td>\n",
       "      <td>2065.0</td>\n",
       "    </tr>\n",
       "    <tr>\n",
       "      <th>LowQualFinSF</th>\n",
       "      <td>1460.0</td>\n",
       "      <td>5.844521</td>\n",
       "      <td>48.623081</td>\n",
       "      <td>0.0</td>\n",
       "      <td>0.00</td>\n",
       "      <td>0.0</td>\n",
       "      <td>0.00</td>\n",
       "      <td>572.0</td>\n",
       "    </tr>\n",
       "    <tr>\n",
       "      <th>GrLivArea</th>\n",
       "      <td>1460.0</td>\n",
       "      <td>1515.463699</td>\n",
       "      <td>525.480383</td>\n",
       "      <td>334.0</td>\n",
       "      <td>1129.50</td>\n",
       "      <td>1464.0</td>\n",
       "      <td>1776.75</td>\n",
       "      <td>5642.0</td>\n",
       "    </tr>\n",
       "    <tr>\n",
       "      <th>BsmtFullBath</th>\n",
       "      <td>1460.0</td>\n",
       "      <td>0.425342</td>\n",
       "      <td>0.518911</td>\n",
       "      <td>0.0</td>\n",
       "      <td>0.00</td>\n",
       "      <td>0.0</td>\n",
       "      <td>1.00</td>\n",
       "      <td>3.0</td>\n",
       "    </tr>\n",
       "    <tr>\n",
       "      <th>BsmtHalfBath</th>\n",
       "      <td>1460.0</td>\n",
       "      <td>0.057534</td>\n",
       "      <td>0.238753</td>\n",
       "      <td>0.0</td>\n",
       "      <td>0.00</td>\n",
       "      <td>0.0</td>\n",
       "      <td>0.00</td>\n",
       "      <td>2.0</td>\n",
       "    </tr>\n",
       "    <tr>\n",
       "      <th>FullBath</th>\n",
       "      <td>1460.0</td>\n",
       "      <td>1.565068</td>\n",
       "      <td>0.550916</td>\n",
       "      <td>0.0</td>\n",
       "      <td>1.00</td>\n",
       "      <td>2.0</td>\n",
       "      <td>2.00</td>\n",
       "      <td>3.0</td>\n",
       "    </tr>\n",
       "    <tr>\n",
       "      <th>HalfBath</th>\n",
       "      <td>1460.0</td>\n",
       "      <td>0.382877</td>\n",
       "      <td>0.502885</td>\n",
       "      <td>0.0</td>\n",
       "      <td>0.00</td>\n",
       "      <td>0.0</td>\n",
       "      <td>1.00</td>\n",
       "      <td>2.0</td>\n",
       "    </tr>\n",
       "    <tr>\n",
       "      <th>BedroomAbvGr</th>\n",
       "      <td>1460.0</td>\n",
       "      <td>2.866438</td>\n",
       "      <td>0.815778</td>\n",
       "      <td>0.0</td>\n",
       "      <td>2.00</td>\n",
       "      <td>3.0</td>\n",
       "      <td>3.00</td>\n",
       "      <td>8.0</td>\n",
       "    </tr>\n",
       "    <tr>\n",
       "      <th>KitchenAbvGr</th>\n",
       "      <td>1460.0</td>\n",
       "      <td>1.046575</td>\n",
       "      <td>0.220338</td>\n",
       "      <td>0.0</td>\n",
       "      <td>1.00</td>\n",
       "      <td>1.0</td>\n",
       "      <td>1.00</td>\n",
       "      <td>3.0</td>\n",
       "    </tr>\n",
       "    <tr>\n",
       "      <th>TotRmsAbvGrd</th>\n",
       "      <td>1460.0</td>\n",
       "      <td>6.517808</td>\n",
       "      <td>1.625393</td>\n",
       "      <td>2.0</td>\n",
       "      <td>5.00</td>\n",
       "      <td>6.0</td>\n",
       "      <td>7.00</td>\n",
       "      <td>14.0</td>\n",
       "    </tr>\n",
       "    <tr>\n",
       "      <th>Fireplaces</th>\n",
       "      <td>1460.0</td>\n",
       "      <td>0.613014</td>\n",
       "      <td>0.644666</td>\n",
       "      <td>0.0</td>\n",
       "      <td>0.00</td>\n",
       "      <td>1.0</td>\n",
       "      <td>1.00</td>\n",
       "      <td>3.0</td>\n",
       "    </tr>\n",
       "    <tr>\n",
       "      <th>GarageYrBlt</th>\n",
       "      <td>1379.0</td>\n",
       "      <td>1978.506164</td>\n",
       "      <td>24.689725</td>\n",
       "      <td>1900.0</td>\n",
       "      <td>NaN</td>\n",
       "      <td>NaN</td>\n",
       "      <td>NaN</td>\n",
       "      <td>2010.0</td>\n",
       "    </tr>\n",
       "    <tr>\n",
       "      <th>GarageCars</th>\n",
       "      <td>1460.0</td>\n",
       "      <td>1.767123</td>\n",
       "      <td>0.747315</td>\n",
       "      <td>0.0</td>\n",
       "      <td>1.00</td>\n",
       "      <td>2.0</td>\n",
       "      <td>2.00</td>\n",
       "      <td>4.0</td>\n",
       "    </tr>\n",
       "    <tr>\n",
       "      <th>GarageArea</th>\n",
       "      <td>1460.0</td>\n",
       "      <td>472.980137</td>\n",
       "      <td>213.804841</td>\n",
       "      <td>0.0</td>\n",
       "      <td>334.50</td>\n",
       "      <td>480.0</td>\n",
       "      <td>576.00</td>\n",
       "      <td>1418.0</td>\n",
       "    </tr>\n",
       "    <tr>\n",
       "      <th>WoodDeckSF</th>\n",
       "      <td>1460.0</td>\n",
       "      <td>94.244521</td>\n",
       "      <td>125.338794</td>\n",
       "      <td>0.0</td>\n",
       "      <td>0.00</td>\n",
       "      <td>0.0</td>\n",
       "      <td>168.00</td>\n",
       "      <td>857.0</td>\n",
       "    </tr>\n",
       "    <tr>\n",
       "      <th>OpenPorchSF</th>\n",
       "      <td>1460.0</td>\n",
       "      <td>46.660274</td>\n",
       "      <td>66.256028</td>\n",
       "      <td>0.0</td>\n",
       "      <td>0.00</td>\n",
       "      <td>25.0</td>\n",
       "      <td>68.00</td>\n",
       "      <td>547.0</td>\n",
       "    </tr>\n",
       "    <tr>\n",
       "      <th>EnclosedPorch</th>\n",
       "      <td>1460.0</td>\n",
       "      <td>21.954110</td>\n",
       "      <td>61.119149</td>\n",
       "      <td>0.0</td>\n",
       "      <td>0.00</td>\n",
       "      <td>0.0</td>\n",
       "      <td>0.00</td>\n",
       "      <td>552.0</td>\n",
       "    </tr>\n",
       "    <tr>\n",
       "      <th>3SsnPorch</th>\n",
       "      <td>1460.0</td>\n",
       "      <td>3.409589</td>\n",
       "      <td>29.317331</td>\n",
       "      <td>0.0</td>\n",
       "      <td>0.00</td>\n",
       "      <td>0.0</td>\n",
       "      <td>0.00</td>\n",
       "      <td>508.0</td>\n",
       "    </tr>\n",
       "    <tr>\n",
       "      <th>ScreenPorch</th>\n",
       "      <td>1460.0</td>\n",
       "      <td>15.060959</td>\n",
       "      <td>55.757415</td>\n",
       "      <td>0.0</td>\n",
       "      <td>0.00</td>\n",
       "      <td>0.0</td>\n",
       "      <td>0.00</td>\n",
       "      <td>480.0</td>\n",
       "    </tr>\n",
       "    <tr>\n",
       "      <th>PoolArea</th>\n",
       "      <td>1460.0</td>\n",
       "      <td>2.758904</td>\n",
       "      <td>40.177307</td>\n",
       "      <td>0.0</td>\n",
       "      <td>0.00</td>\n",
       "      <td>0.0</td>\n",
       "      <td>0.00</td>\n",
       "      <td>738.0</td>\n",
       "    </tr>\n",
       "    <tr>\n",
       "      <th>MiscVal</th>\n",
       "      <td>1460.0</td>\n",
       "      <td>43.489041</td>\n",
       "      <td>496.123024</td>\n",
       "      <td>0.0</td>\n",
       "      <td>0.00</td>\n",
       "      <td>0.0</td>\n",
       "      <td>0.00</td>\n",
       "      <td>15500.0</td>\n",
       "    </tr>\n",
       "    <tr>\n",
       "      <th>MoSold</th>\n",
       "      <td>1460.0</td>\n",
       "      <td>6.321918</td>\n",
       "      <td>2.703626</td>\n",
       "      <td>1.0</td>\n",
       "      <td>5.00</td>\n",
       "      <td>6.0</td>\n",
       "      <td>8.00</td>\n",
       "      <td>12.0</td>\n",
       "    </tr>\n",
       "    <tr>\n",
       "      <th>YrSold</th>\n",
       "      <td>1460.0</td>\n",
       "      <td>2007.815753</td>\n",
       "      <td>1.328095</td>\n",
       "      <td>2006.0</td>\n",
       "      <td>2007.00</td>\n",
       "      <td>2008.0</td>\n",
       "      <td>2009.00</td>\n",
       "      <td>2010.0</td>\n",
       "    </tr>\n",
       "    <tr>\n",
       "      <th>SalePrice</th>\n",
       "      <td>1460.0</td>\n",
       "      <td>180921.195890</td>\n",
       "      <td>79442.502883</td>\n",
       "      <td>34900.0</td>\n",
       "      <td>129975.00</td>\n",
       "      <td>163000.0</td>\n",
       "      <td>214000.00</td>\n",
       "      <td>755000.0</td>\n",
       "    </tr>\n",
       "  </tbody>\n",
       "</table>\n",
       "</div>"
      ],
      "text/plain": [
       "                count           mean           std      min        25%  \\\n",
       "Id             1460.0     730.500000    421.610009      1.0     365.75   \n",
       "MSSubClass     1460.0      56.897260     42.300571     20.0      20.00   \n",
       "LotFrontage    1201.0      70.049958     24.284752     21.0        NaN   \n",
       "LotArea        1460.0   10516.828082   9981.264932   1300.0    7553.50   \n",
       "OverallQual    1460.0       6.099315      1.382997      1.0       5.00   \n",
       "OverallCond    1460.0       5.575342      1.112799      1.0       5.00   \n",
       "YearBuilt      1460.0    1971.267808     30.202904   1872.0    1954.00   \n",
       "YearRemodAdd   1460.0    1984.865753     20.645407   1950.0    1967.00   \n",
       "MasVnrArea     1452.0     103.685262    181.066207      0.0        NaN   \n",
       "BsmtFinSF1     1460.0     443.639726    456.098091      0.0       0.00   \n",
       "BsmtFinSF2     1460.0      46.549315    161.319273      0.0       0.00   \n",
       "BsmtUnfSF      1460.0     567.240411    441.866955      0.0     223.00   \n",
       "TotalBsmtSF    1460.0    1057.429452    438.705324      0.0     795.75   \n",
       "1stFlrSF       1460.0    1162.626712    386.587738    334.0     882.00   \n",
       "2ndFlrSF       1460.0     346.992466    436.528436      0.0       0.00   \n",
       "LowQualFinSF   1460.0       5.844521     48.623081      0.0       0.00   \n",
       "GrLivArea      1460.0    1515.463699    525.480383    334.0    1129.50   \n",
       "BsmtFullBath   1460.0       0.425342      0.518911      0.0       0.00   \n",
       "BsmtHalfBath   1460.0       0.057534      0.238753      0.0       0.00   \n",
       "FullBath       1460.0       1.565068      0.550916      0.0       1.00   \n",
       "HalfBath       1460.0       0.382877      0.502885      0.0       0.00   \n",
       "BedroomAbvGr   1460.0       2.866438      0.815778      0.0       2.00   \n",
       "KitchenAbvGr   1460.0       1.046575      0.220338      0.0       1.00   \n",
       "TotRmsAbvGrd   1460.0       6.517808      1.625393      2.0       5.00   \n",
       "Fireplaces     1460.0       0.613014      0.644666      0.0       0.00   \n",
       "GarageYrBlt    1379.0    1978.506164     24.689725   1900.0        NaN   \n",
       "GarageCars     1460.0       1.767123      0.747315      0.0       1.00   \n",
       "GarageArea     1460.0     472.980137    213.804841      0.0     334.50   \n",
       "WoodDeckSF     1460.0      94.244521    125.338794      0.0       0.00   \n",
       "OpenPorchSF    1460.0      46.660274     66.256028      0.0       0.00   \n",
       "EnclosedPorch  1460.0      21.954110     61.119149      0.0       0.00   \n",
       "3SsnPorch      1460.0       3.409589     29.317331      0.0       0.00   \n",
       "ScreenPorch    1460.0      15.060959     55.757415      0.0       0.00   \n",
       "PoolArea       1460.0       2.758904     40.177307      0.0       0.00   \n",
       "MiscVal        1460.0      43.489041    496.123024      0.0       0.00   \n",
       "MoSold         1460.0       6.321918      2.703626      1.0       5.00   \n",
       "YrSold         1460.0    2007.815753      1.328095   2006.0    2007.00   \n",
       "SalePrice      1460.0  180921.195890  79442.502883  34900.0  129975.00   \n",
       "\n",
       "                    50%        75%       max  \n",
       "Id                730.5    1095.25    1460.0  \n",
       "MSSubClass         50.0      70.00     190.0  \n",
       "LotFrontage         NaN        NaN     313.0  \n",
       "LotArea          9478.5   11601.50  215245.0  \n",
       "OverallQual         6.0       7.00      10.0  \n",
       "OverallCond         5.0       6.00       9.0  \n",
       "YearBuilt        1973.0    2000.00    2010.0  \n",
       "YearRemodAdd     1994.0    2004.00    2010.0  \n",
       "MasVnrArea          NaN        NaN    1600.0  \n",
       "BsmtFinSF1        383.5     712.25    5644.0  \n",
       "BsmtFinSF2          0.0       0.00    1474.0  \n",
       "BsmtUnfSF         477.5     808.00    2336.0  \n",
       "TotalBsmtSF       991.5    1298.25    6110.0  \n",
       "1stFlrSF         1087.0    1391.25    4692.0  \n",
       "2ndFlrSF            0.0     728.00    2065.0  \n",
       "LowQualFinSF        0.0       0.00     572.0  \n",
       "GrLivArea        1464.0    1776.75    5642.0  \n",
       "BsmtFullBath        0.0       1.00       3.0  \n",
       "BsmtHalfBath        0.0       0.00       2.0  \n",
       "FullBath            2.0       2.00       3.0  \n",
       "HalfBath            0.0       1.00       2.0  \n",
       "BedroomAbvGr        3.0       3.00       8.0  \n",
       "KitchenAbvGr        1.0       1.00       3.0  \n",
       "TotRmsAbvGrd        6.0       7.00      14.0  \n",
       "Fireplaces          1.0       1.00       3.0  \n",
       "GarageYrBlt         NaN        NaN    2010.0  \n",
       "GarageCars          2.0       2.00       4.0  \n",
       "GarageArea        480.0     576.00    1418.0  \n",
       "WoodDeckSF          0.0     168.00     857.0  \n",
       "OpenPorchSF        25.0      68.00     547.0  \n",
       "EnclosedPorch       0.0       0.00     552.0  \n",
       "3SsnPorch           0.0       0.00     508.0  \n",
       "ScreenPorch         0.0       0.00     480.0  \n",
       "PoolArea            0.0       0.00     738.0  \n",
       "MiscVal             0.0       0.00   15500.0  \n",
       "MoSold              6.0       8.00      12.0  \n",
       "YrSold           2008.0    2009.00    2010.0  \n",
       "SalePrice      163000.0  214000.00  755000.0  "
      ]
     },
     "execution_count": 452,
     "metadata": {},
     "output_type": "execute_result"
    }
   ],
   "source": [
    "train.select_dtypes(exclude=['object']).describe().transpose()"
   ]
  },
  {
   "cell_type": "markdown",
   "metadata": {},
   "source": [
    "### objects"
   ]
  },
  {
   "cell_type": "code",
   "execution_count": 453,
   "metadata": {
    "collapsed": false
   },
   "outputs": [
    {
     "data": {
      "text/html": [
       "<div>\n",
       "<table border=\"1\" class=\"dataframe\">\n",
       "  <thead>\n",
       "    <tr style=\"text-align: right;\">\n",
       "      <th></th>\n",
       "      <th>count</th>\n",
       "      <th>unique</th>\n",
       "      <th>top</th>\n",
       "      <th>freq</th>\n",
       "    </tr>\n",
       "  </thead>\n",
       "  <tbody>\n",
       "    <tr>\n",
       "      <th>MSZoning</th>\n",
       "      <td>1460</td>\n",
       "      <td>5</td>\n",
       "      <td>RL</td>\n",
       "      <td>1151</td>\n",
       "    </tr>\n",
       "    <tr>\n",
       "      <th>Street</th>\n",
       "      <td>1460</td>\n",
       "      <td>2</td>\n",
       "      <td>Pave</td>\n",
       "      <td>1454</td>\n",
       "    </tr>\n",
       "    <tr>\n",
       "      <th>Alley</th>\n",
       "      <td>91</td>\n",
       "      <td>2</td>\n",
       "      <td>Grvl</td>\n",
       "      <td>50</td>\n",
       "    </tr>\n",
       "    <tr>\n",
       "      <th>LotShape</th>\n",
       "      <td>1460</td>\n",
       "      <td>4</td>\n",
       "      <td>Reg</td>\n",
       "      <td>925</td>\n",
       "    </tr>\n",
       "    <tr>\n",
       "      <th>LandContour</th>\n",
       "      <td>1460</td>\n",
       "      <td>4</td>\n",
       "      <td>Lvl</td>\n",
       "      <td>1311</td>\n",
       "    </tr>\n",
       "    <tr>\n",
       "      <th>Utilities</th>\n",
       "      <td>1460</td>\n",
       "      <td>2</td>\n",
       "      <td>AllPub</td>\n",
       "      <td>1459</td>\n",
       "    </tr>\n",
       "    <tr>\n",
       "      <th>LotConfig</th>\n",
       "      <td>1460</td>\n",
       "      <td>5</td>\n",
       "      <td>Inside</td>\n",
       "      <td>1052</td>\n",
       "    </tr>\n",
       "    <tr>\n",
       "      <th>LandSlope</th>\n",
       "      <td>1460</td>\n",
       "      <td>3</td>\n",
       "      <td>Gtl</td>\n",
       "      <td>1382</td>\n",
       "    </tr>\n",
       "    <tr>\n",
       "      <th>Neighborhood</th>\n",
       "      <td>1460</td>\n",
       "      <td>25</td>\n",
       "      <td>NAmes</td>\n",
       "      <td>225</td>\n",
       "    </tr>\n",
       "    <tr>\n",
       "      <th>Condition1</th>\n",
       "      <td>1460</td>\n",
       "      <td>9</td>\n",
       "      <td>Norm</td>\n",
       "      <td>1260</td>\n",
       "    </tr>\n",
       "    <tr>\n",
       "      <th>Condition2</th>\n",
       "      <td>1460</td>\n",
       "      <td>8</td>\n",
       "      <td>Norm</td>\n",
       "      <td>1445</td>\n",
       "    </tr>\n",
       "    <tr>\n",
       "      <th>BldgType</th>\n",
       "      <td>1460</td>\n",
       "      <td>5</td>\n",
       "      <td>1Fam</td>\n",
       "      <td>1220</td>\n",
       "    </tr>\n",
       "    <tr>\n",
       "      <th>HouseStyle</th>\n",
       "      <td>1460</td>\n",
       "      <td>8</td>\n",
       "      <td>1Story</td>\n",
       "      <td>726</td>\n",
       "    </tr>\n",
       "    <tr>\n",
       "      <th>RoofStyle</th>\n",
       "      <td>1460</td>\n",
       "      <td>6</td>\n",
       "      <td>Gable</td>\n",
       "      <td>1141</td>\n",
       "    </tr>\n",
       "    <tr>\n",
       "      <th>RoofMatl</th>\n",
       "      <td>1460</td>\n",
       "      <td>8</td>\n",
       "      <td>CompShg</td>\n",
       "      <td>1434</td>\n",
       "    </tr>\n",
       "    <tr>\n",
       "      <th>Exterior1st</th>\n",
       "      <td>1460</td>\n",
       "      <td>15</td>\n",
       "      <td>VinylSd</td>\n",
       "      <td>515</td>\n",
       "    </tr>\n",
       "    <tr>\n",
       "      <th>Exterior2nd</th>\n",
       "      <td>1460</td>\n",
       "      <td>16</td>\n",
       "      <td>VinylSd</td>\n",
       "      <td>504</td>\n",
       "    </tr>\n",
       "    <tr>\n",
       "      <th>MasVnrType</th>\n",
       "      <td>1452</td>\n",
       "      <td>4</td>\n",
       "      <td>None</td>\n",
       "      <td>864</td>\n",
       "    </tr>\n",
       "    <tr>\n",
       "      <th>ExterQual</th>\n",
       "      <td>1460</td>\n",
       "      <td>4</td>\n",
       "      <td>TA</td>\n",
       "      <td>906</td>\n",
       "    </tr>\n",
       "    <tr>\n",
       "      <th>ExterCond</th>\n",
       "      <td>1460</td>\n",
       "      <td>5</td>\n",
       "      <td>TA</td>\n",
       "      <td>1282</td>\n",
       "    </tr>\n",
       "    <tr>\n",
       "      <th>Foundation</th>\n",
       "      <td>1460</td>\n",
       "      <td>6</td>\n",
       "      <td>PConc</td>\n",
       "      <td>647</td>\n",
       "    </tr>\n",
       "    <tr>\n",
       "      <th>BsmtQual</th>\n",
       "      <td>1423</td>\n",
       "      <td>4</td>\n",
       "      <td>TA</td>\n",
       "      <td>649</td>\n",
       "    </tr>\n",
       "    <tr>\n",
       "      <th>BsmtCond</th>\n",
       "      <td>1423</td>\n",
       "      <td>4</td>\n",
       "      <td>TA</td>\n",
       "      <td>1311</td>\n",
       "    </tr>\n",
       "    <tr>\n",
       "      <th>BsmtExposure</th>\n",
       "      <td>1422</td>\n",
       "      <td>4</td>\n",
       "      <td>No</td>\n",
       "      <td>953</td>\n",
       "    </tr>\n",
       "    <tr>\n",
       "      <th>BsmtFinType1</th>\n",
       "      <td>1423</td>\n",
       "      <td>6</td>\n",
       "      <td>Unf</td>\n",
       "      <td>430</td>\n",
       "    </tr>\n",
       "    <tr>\n",
       "      <th>BsmtFinType2</th>\n",
       "      <td>1422</td>\n",
       "      <td>6</td>\n",
       "      <td>Unf</td>\n",
       "      <td>1256</td>\n",
       "    </tr>\n",
       "    <tr>\n",
       "      <th>Heating</th>\n",
       "      <td>1460</td>\n",
       "      <td>6</td>\n",
       "      <td>GasA</td>\n",
       "      <td>1428</td>\n",
       "    </tr>\n",
       "    <tr>\n",
       "      <th>HeatingQC</th>\n",
       "      <td>1460</td>\n",
       "      <td>5</td>\n",
       "      <td>Ex</td>\n",
       "      <td>741</td>\n",
       "    </tr>\n",
       "    <tr>\n",
       "      <th>CentralAir</th>\n",
       "      <td>1460</td>\n",
       "      <td>2</td>\n",
       "      <td>Y</td>\n",
       "      <td>1365</td>\n",
       "    </tr>\n",
       "    <tr>\n",
       "      <th>Electrical</th>\n",
       "      <td>1459</td>\n",
       "      <td>5</td>\n",
       "      <td>SBrkr</td>\n",
       "      <td>1334</td>\n",
       "    </tr>\n",
       "    <tr>\n",
       "      <th>KitchenQual</th>\n",
       "      <td>1460</td>\n",
       "      <td>4</td>\n",
       "      <td>TA</td>\n",
       "      <td>735</td>\n",
       "    </tr>\n",
       "    <tr>\n",
       "      <th>Functional</th>\n",
       "      <td>1460</td>\n",
       "      <td>7</td>\n",
       "      <td>Typ</td>\n",
       "      <td>1360</td>\n",
       "    </tr>\n",
       "    <tr>\n",
       "      <th>FireplaceQu</th>\n",
       "      <td>770</td>\n",
       "      <td>5</td>\n",
       "      <td>Gd</td>\n",
       "      <td>380</td>\n",
       "    </tr>\n",
       "    <tr>\n",
       "      <th>GarageType</th>\n",
       "      <td>1379</td>\n",
       "      <td>6</td>\n",
       "      <td>Attchd</td>\n",
       "      <td>870</td>\n",
       "    </tr>\n",
       "    <tr>\n",
       "      <th>GarageFinish</th>\n",
       "      <td>1379</td>\n",
       "      <td>3</td>\n",
       "      <td>Unf</td>\n",
       "      <td>605</td>\n",
       "    </tr>\n",
       "    <tr>\n",
       "      <th>GarageQual</th>\n",
       "      <td>1379</td>\n",
       "      <td>5</td>\n",
       "      <td>TA</td>\n",
       "      <td>1311</td>\n",
       "    </tr>\n",
       "    <tr>\n",
       "      <th>GarageCond</th>\n",
       "      <td>1379</td>\n",
       "      <td>5</td>\n",
       "      <td>TA</td>\n",
       "      <td>1326</td>\n",
       "    </tr>\n",
       "    <tr>\n",
       "      <th>PavedDrive</th>\n",
       "      <td>1460</td>\n",
       "      <td>3</td>\n",
       "      <td>Y</td>\n",
       "      <td>1340</td>\n",
       "    </tr>\n",
       "    <tr>\n",
       "      <th>PoolQC</th>\n",
       "      <td>7</td>\n",
       "      <td>3</td>\n",
       "      <td>Gd</td>\n",
       "      <td>3</td>\n",
       "    </tr>\n",
       "    <tr>\n",
       "      <th>Fence</th>\n",
       "      <td>281</td>\n",
       "      <td>4</td>\n",
       "      <td>MnPrv</td>\n",
       "      <td>157</td>\n",
       "    </tr>\n",
       "    <tr>\n",
       "      <th>MiscFeature</th>\n",
       "      <td>54</td>\n",
       "      <td>4</td>\n",
       "      <td>Shed</td>\n",
       "      <td>49</td>\n",
       "    </tr>\n",
       "    <tr>\n",
       "      <th>SaleType</th>\n",
       "      <td>1460</td>\n",
       "      <td>9</td>\n",
       "      <td>WD</td>\n",
       "      <td>1267</td>\n",
       "    </tr>\n",
       "    <tr>\n",
       "      <th>SaleCondition</th>\n",
       "      <td>1460</td>\n",
       "      <td>6</td>\n",
       "      <td>Normal</td>\n",
       "      <td>1198</td>\n",
       "    </tr>\n",
       "  </tbody>\n",
       "</table>\n",
       "</div>"
      ],
      "text/plain": [
       "              count unique      top  freq\n",
       "MSZoning       1460      5       RL  1151\n",
       "Street         1460      2     Pave  1454\n",
       "Alley            91      2     Grvl    50\n",
       "LotShape       1460      4      Reg   925\n",
       "LandContour    1460      4      Lvl  1311\n",
       "Utilities      1460      2   AllPub  1459\n",
       "LotConfig      1460      5   Inside  1052\n",
       "LandSlope      1460      3      Gtl  1382\n",
       "Neighborhood   1460     25    NAmes   225\n",
       "Condition1     1460      9     Norm  1260\n",
       "Condition2     1460      8     Norm  1445\n",
       "BldgType       1460      5     1Fam  1220\n",
       "HouseStyle     1460      8   1Story   726\n",
       "RoofStyle      1460      6    Gable  1141\n",
       "RoofMatl       1460      8  CompShg  1434\n",
       "Exterior1st    1460     15  VinylSd   515\n",
       "Exterior2nd    1460     16  VinylSd   504\n",
       "MasVnrType     1452      4     None   864\n",
       "ExterQual      1460      4       TA   906\n",
       "ExterCond      1460      5       TA  1282\n",
       "Foundation     1460      6    PConc   647\n",
       "BsmtQual       1423      4       TA   649\n",
       "BsmtCond       1423      4       TA  1311\n",
       "BsmtExposure   1422      4       No   953\n",
       "BsmtFinType1   1423      6      Unf   430\n",
       "BsmtFinType2   1422      6      Unf  1256\n",
       "Heating        1460      6     GasA  1428\n",
       "HeatingQC      1460      5       Ex   741\n",
       "CentralAir     1460      2        Y  1365\n",
       "Electrical     1459      5    SBrkr  1334\n",
       "KitchenQual    1460      4       TA   735\n",
       "Functional     1460      7      Typ  1360\n",
       "FireplaceQu     770      5       Gd   380\n",
       "GarageType     1379      6   Attchd   870\n",
       "GarageFinish   1379      3      Unf   605\n",
       "GarageQual     1379      5       TA  1311\n",
       "GarageCond     1379      5       TA  1326\n",
       "PavedDrive     1460      3        Y  1340\n",
       "PoolQC            7      3       Gd     3\n",
       "Fence           281      4    MnPrv   157\n",
       "MiscFeature      54      4     Shed    49\n",
       "SaleType       1460      9       WD  1267\n",
       "SaleCondition  1460      6   Normal  1198"
      ]
     },
     "execution_count": 453,
     "metadata": {},
     "output_type": "execute_result"
    }
   ],
   "source": [
    "train.select_dtypes(include=['object']).describe().transpose()"
   ]
  },
  {
   "cell_type": "markdown",
   "metadata": {},
   "source": [
    "## Percent Null"
   ]
  },
  {
   "cell_type": "code",
   "execution_count": 454,
   "metadata": {
    "collapsed": false
   },
   "outputs": [
    {
     "data": {
      "text/plain": [
       "PoolQC          0.995205\n",
       "MiscFeature     0.963014\n",
       "Alley           0.937671\n",
       "Fence           0.807534\n",
       "FireplaceQu     0.472603\n",
       "LotFrontage     0.177397\n",
       "GarageYrBlt     0.055479\n",
       "GarageCond      0.055479\n",
       "GarageType      0.055479\n",
       "GarageFinish    0.055479\n",
       "GarageQual      0.055479\n",
       "BsmtExposure    0.026027\n",
       "BsmtFinType2    0.026027\n",
       "BsmtFinType1    0.025342\n",
       "BsmtCond        0.025342\n",
       "BsmtQual        0.025342\n",
       "MasVnrType      0.005479\n",
       "MasVnrArea      0.005479\n",
       "Electrical      0.000685\n",
       "dtype: float64"
      ]
     },
     "execution_count": 454,
     "metadata": {},
     "output_type": "execute_result"
    }
   ],
   "source": [
    "nulls = train.isnull().sum().sort_values(ascending=False)\n",
    "nulls = nulls[nulls != 0].sort_values(ascending=False)\n",
    "nulls = nulls / len(train)\n",
    "nulls"
   ]
  },
  {
   "cell_type": "markdown",
   "metadata": {},
   "source": [
    "## Percent Zero"
   ]
  },
  {
   "cell_type": "code",
   "execution_count": 455,
   "metadata": {
    "collapsed": false
   },
   "outputs": [
    {
     "data": {
      "text/plain": [
       "PoolArea         0.995205\n",
       "3SsnPorch        0.983562\n",
       "LowQualFinSF     0.982192\n",
       "MiscVal          0.964384\n",
       "BsmtHalfBath     0.943836\n",
       "ScreenPorch      0.920548\n",
       "BsmtFinSF2       0.885616\n",
       "EnclosedPorch    0.857534\n",
       "HalfBath         0.625342\n",
       "MasVnrArea       0.589726\n",
       "BsmtFullBath     0.586301\n",
       "2ndFlrSF         0.567808\n",
       "WoodDeckSF       0.521233\n",
       "Fireplaces       0.472603\n",
       "OpenPorchSF      0.449315\n",
       "BsmtFinSF1       0.319863\n",
       "BsmtUnfSF        0.080822\n",
       "GarageCars       0.055479\n",
       "GarageArea       0.055479\n",
       "TotalBsmtSF      0.025342\n",
       "FullBath         0.006164\n",
       "BedroomAbvGr     0.004110\n",
       "KitchenAbvGr     0.000685\n",
       "dtype: float64"
      ]
     },
     "execution_count": 455,
     "metadata": {},
     "output_type": "execute_result"
    }
   ],
   "source": [
    "nonzeros = train.select_dtypes(exclude=['object']).astype(bool).sum()\n",
    "zeros = len(train) - nonzeros\n",
    "zeros = zeros[zeros != 0].sort_values(ascending=False)\n",
    "zeros = zeros / len(train)\n",
    "zeros"
   ]
  },
  {
   "cell_type": "markdown",
   "metadata": {},
   "source": [
    "## Correlation"
   ]
  },
  {
   "cell_type": "code",
   "execution_count": 456,
   "metadata": {
    "collapsed": false
   },
   "outputs": [
    {
     "name": "stdout",
     "output_type": "stream",
     "text": [
      "\n",
      "\n",
      "SEE CORRELATION FOLDER FOR OUTPUT\n",
      "\n",
      "\n"
     ]
    }
   ],
   "source": [
    "pearson = train[numeric].corr()\n",
    "spearman = train[numeric].corr(method='spearman')\n",
    "\n",
    "pearson.to_csv('correlation\\\\pearson.csv')\n",
    "spearman.to_csv('correlation\\\\spearman.csv')\n",
    "\n",
    "print '\\n\\nSEE CORRELATION FOLDER FOR OUTPUT\\n\\n'"
   ]
  },
  {
   "cell_type": "markdown",
   "metadata": {},
   "source": [
    "## Scatter Plots"
   ]
  },
  {
   "cell_type": "code",
   "execution_count": 457,
   "metadata": {
    "collapsed": true
   },
   "outputs": [],
   "source": [
    "def scatter_img(df, features):\n",
    "    combos = set()\n",
    "    x = 'SalePrice'\n",
    "    for y in features:\n",
    "        combo = [y,x]\n",
    "        combos.add(tuple(combo))\n",
    "    \n",
    "    for combo in combos:\n",
    "        plt.scatter(df[combo[0]], df[combo[1]])\n",
    "        plt.xlabel(combo[0])\n",
    "        plt.ylabel(combo[1])\n",
    "        plt.savefig('scatter plots\\\\' + combo[0] + ' - ' + combo[1] + '.png')\n",
    "        plt.close('all')\n",
    "    print '\\n\\nSEE SCATTER PLOTS FOLDER FOR OUTPUT\\n\\n'"
   ]
  },
  {
   "cell_type": "code",
   "execution_count": 458,
   "metadata": {
    "collapsed": false
   },
   "outputs": [
    {
     "name": "stdout",
     "output_type": "stream",
     "text": [
      "\n",
      "\n",
      "SEE SCATTER PLOTS FOLDER FOR OUTPUT\n",
      "\n",
      "\n"
     ]
    }
   ],
   "source": [
    "scatter_img(train, numeric)"
   ]
  },
  {
   "cell_type": "markdown",
   "metadata": {},
   "source": [
    "## Histograms"
   ]
  },
  {
   "cell_type": "code",
   "execution_count": 459,
   "metadata": {
    "collapsed": true
   },
   "outputs": [],
   "source": [
    "def hist_bins(df, series):\n",
    "    try:    \n",
    "        feature = series\n",
    "        series = df[series].dropna()\n",
    "        full_range = series.max() - series.min()\n",
    "        iqr = series.describe()[6] - series.describe()[4]\n",
    "        n = float(len(series))\n",
    "        bin_size = 2 * iqr * (n ** (-1.0/3.0)) # Freedman Diaconis Estimator\n",
    "        bins = int(full_range / bin_size) + 1\n",
    "    except:\n",
    "        bins = 5     \n",
    "    bins = 5 if bins < 5 else bins\n",
    "    return bins\n",
    "\n",
    "def hist_img(df, features):\n",
    "    for feature in features:\n",
    "            series = df[feature].dropna()\n",
    "            plt.hist(series, bins=hist_bins(df, feature))\n",
    "            plt.title(feature)\n",
    "            plt.savefig('histograms\\\\' + feature + '.png')\n",
    "            plt.close('all')\n",
    "    print '\\n\\nSEE HISTOGRAMS FOLDER FOR OUTPUT\\n\\n'"
   ]
  },
  {
   "cell_type": "code",
   "execution_count": 460,
   "metadata": {
    "collapsed": false
   },
   "outputs": [
    {
     "name": "stdout",
     "output_type": "stream",
     "text": [
      "\n",
      "\n",
      "SEE HISTOGRAMS FOLDER FOR OUTPUT\n",
      "\n",
      "\n"
     ]
    }
   ],
   "source": [
    "hist_img(train, numeric)"
   ]
  },
  {
   "cell_type": "markdown",
   "metadata": {},
   "source": [
    "## Skewness"
   ]
  },
  {
   "cell_type": "code",
   "execution_count": 461,
   "metadata": {
    "collapsed": false
   },
   "outputs": [
    {
     "data": {
      "text/plain": [
       "MiscVal          24.476794\n",
       "PoolArea         14.828374\n",
       "LotArea          12.207688\n",
       "3SsnPorch        10.304342\n",
       "LowQualFinSF      9.011341\n",
       "BsmtFinSF2        4.255261\n",
       "ScreenPorch       4.122214\n",
       "EnclosedPorch     3.089872\n",
       "MasVnrArea        2.669084\n",
       "OpenPorchSF       2.364342\n",
       "LotFrontage       2.163569\n",
       "SalePrice         1.882876\n",
       "BsmtFinSF1        1.685503\n",
       "WoodDeckSF        1.541376\n",
       "TotalBsmtSF       1.524255\n",
       "1stFlrSF          1.376757\n",
       "GrLivArea         1.366560\n",
       "BsmtUnfSF         0.920268\n",
       "2ndFlrSF          0.813030\n",
       "GarageArea        0.179981\n",
       "dtype: float64"
      ]
     },
     "execution_count": 461,
     "metadata": {},
     "output_type": "execute_result"
    }
   ],
   "source": [
    "train[continuous].skew().sort_values(ascending=False)"
   ]
  },
  {
   "cell_type": "markdown",
   "metadata": {},
   "source": [
    "## Bar Plots"
   ]
  },
  {
   "cell_type": "code",
   "execution_count": 462,
   "metadata": {
    "collapsed": true
   },
   "outputs": [],
   "source": [
    "def bar_img(df, features):\n",
    "    for feature in features:\n",
    "            series = df[feature]\n",
    "            series.value_counts().plot.bar()\n",
    "            plt.title(feature)\n",
    "            plt.savefig('bar plots\\\\' + feature + '.png')\n",
    "            plt.close('all')\n",
    "    print '\\n\\nSEE BAR PLOTS FOLDER FOR OUTPUT\\n\\n'"
   ]
  },
  {
   "cell_type": "code",
   "execution_count": 463,
   "metadata": {
    "collapsed": false
   },
   "outputs": [
    {
     "name": "stdout",
     "output_type": "stream",
     "text": [
      "\n",
      "\n",
      "SEE BAR PLOTS FOLDER FOR OUTPUT\n",
      "\n",
      "\n"
     ]
    }
   ],
   "source": [
    "bar_img(train, categorical)"
   ]
  },
  {
   "cell_type": "markdown",
   "metadata": {},
   "source": [
    "# FEATURE ENGINEERING"
   ]
  },
  {
   "cell_type": "markdown",
   "metadata": {},
   "source": [
    "## Make a copy of data"
   ]
  },
  {
   "cell_type": "code",
   "execution_count": 464,
   "metadata": {
    "collapsed": false
   },
   "outputs": [],
   "source": [
    "eng_train = train.copy()\n",
    "eng_test = test.copy()"
   ]
  },
  {
   "cell_type": "markdown",
   "metadata": {},
   "source": [
    "## Removing training records that have outliers"
   ]
  },
  {
   "cell_type": "code",
   "execution_count": 465,
   "metadata": {
    "collapsed": false
   },
   "outputs": [],
   "source": [
    "eng_train = eng_train.loc[train['BedroomAbvGr'] <= 6, :]\n",
    "eng_train = eng_train.loc[train['BsmtFinSF1'] <= 5000, :]\n",
    "eng_train = eng_train.loc[train['GrLivArea'] <= 4500, :]\n",
    "eng_train = eng_train.loc[train['LotArea'] <= 100000, :]"
   ]
  },
  {
   "cell_type": "markdown",
   "metadata": {},
   "source": [
    "## Hand selecting out-of-the-box features Realtors typically use for CMA (will create more below and add them in)"
   ]
  },
  {
   "cell_type": "code",
   "execution_count": 466,
   "metadata": {
    "collapsed": true
   },
   "outputs": [],
   "source": [
    "nominal = ['HouseStyle']\n",
    "\n",
    "ordinal = ['OverallQual','OverallCond']\n",
    "\n",
    "continuous = ['LotArea','BsmtUnfSF','GrLivArea']\n",
    "\n",
    "discrete = ['YearBuilt','YearRemodAdd','BedroomAbvGr','GarageCars']\n",
    "\n",
    "categorical = nominal + ordinal\n",
    "numeric = continuous + discrete"
   ]
  },
  {
   "cell_type": "markdown",
   "metadata": {},
   "source": [
    "## Replacing MoSold and YrSold with FHFA House Price Index"
   ]
  },
  {
   "cell_type": "markdown",
   "metadata": {},
   "source": [
    "#### Converting MoSold and YrSold to date string"
   ]
  },
  {
   "cell_type": "code",
   "execution_count": 467,
   "metadata": {
    "collapsed": false
   },
   "outputs": [],
   "source": [
    "eng_train['SaleMonth'] = eng_train.MoSold.apply(lambda x: str(x)) + '/1/' + eng_train.YrSold.apply(lambda x: str(x))\n",
    "eng_test['SaleMonth'] = eng_test.MoSold.apply(lambda x: str(x)) + '/1/' + eng_test.YrSold.apply(lambda x: str(x))"
   ]
  },
  {
   "cell_type": "markdown",
   "metadata": {},
   "source": [
    "#### Reading in House Price Index (HPI) data"
   ]
  },
  {
   "cell_type": "code",
   "execution_count": 468,
   "metadata": {
    "collapsed": false
   },
   "outputs": [
    {
     "data": {
      "text/html": [
       "<div>\n",
       "<table border=\"1\" class=\"dataframe\">\n",
       "  <thead>\n",
       "    <tr style=\"text-align: right;\">\n",
       "      <th></th>\n",
       "      <th>Month</th>\n",
       "      <th>East North Central\n",
       "(NSA)</th>\n",
       "      <th>East North Central\n",
       "(SA)</th>\n",
       "      <th>East South Central\n",
       "(NSA)</th>\n",
       "      <th>East South Central\n",
       "(SA)</th>\n",
       "      <th>Middle Atlantic\n",
       "(NSA)</th>\n",
       "      <th>Middle Atlantic\n",
       "(SA)</th>\n",
       "      <th>Mountain\n",
       "\n",
       "(NSA)</th>\n",
       "      <th>Mountain\n",
       "\n",
       "(SA)</th>\n",
       "      <th>New England\n",
       "\n",
       "(NSA)</th>\n",
       "      <th>...</th>\n",
       "      <th>Pacific\n",
       "\n",
       "(NSA)</th>\n",
       "      <th>Pacific\n",
       "\n",
       "(SA)</th>\n",
       "      <th>South Atlantic\n",
       "(NSA)</th>\n",
       "      <th>South Atlantic\n",
       "(SA)</th>\n",
       "      <th>West North Central\n",
       "(NSA)</th>\n",
       "      <th>West North Central\n",
       "(SA)</th>\n",
       "      <th>West South Central\n",
       "(NSA)</th>\n",
       "      <th>West South Central\n",
       "(SA)</th>\n",
       "      <th>USA\n",
       "\n",
       "(NSA)</th>\n",
       "      <th>USA\n",
       "\n",
       "(SA)</th>\n",
       "    </tr>\n",
       "  </thead>\n",
       "  <tbody>\n",
       "    <tr>\n",
       "      <th>1</th>\n",
       "      <td>1991-01-01</td>\n",
       "      <td>100.00</td>\n",
       "      <td>100.00</td>\n",
       "      <td>100.00</td>\n",
       "      <td>100.00</td>\n",
       "      <td>100.00</td>\n",
       "      <td>100.00</td>\n",
       "      <td>100.00</td>\n",
       "      <td>100.00</td>\n",
       "      <td>100.00</td>\n",
       "      <td>...</td>\n",
       "      <td>100.00</td>\n",
       "      <td>100.00</td>\n",
       "      <td>100.00</td>\n",
       "      <td>100.00</td>\n",
       "      <td>100.00</td>\n",
       "      <td>100.00</td>\n",
       "      <td>100.00</td>\n",
       "      <td>100.00</td>\n",
       "      <td>100.00</td>\n",
       "      <td>100.00</td>\n",
       "    </tr>\n",
       "    <tr>\n",
       "      <th>2</th>\n",
       "      <td>1991-02-01</td>\n",
       "      <td>101.04</td>\n",
       "      <td>101.12</td>\n",
       "      <td>100.93</td>\n",
       "      <td>100.65</td>\n",
       "      <td>100.08</td>\n",
       "      <td>100.21</td>\n",
       "      <td>98.51</td>\n",
       "      <td>98.70</td>\n",
       "      <td>102.07</td>\n",
       "      <td>...</td>\n",
       "      <td>100.25</td>\n",
       "      <td>100.55</td>\n",
       "      <td>100.49</td>\n",
       "      <td>100.43</td>\n",
       "      <td>100.69</td>\n",
       "      <td>100.78</td>\n",
       "      <td>100.02</td>\n",
       "      <td>99.81</td>\n",
       "      <td>100.47</td>\n",
       "      <td>100.52</td>\n",
       "    </tr>\n",
       "    <tr>\n",
       "      <th>3</th>\n",
       "      <td>1991-03-01</td>\n",
       "      <td>101.41</td>\n",
       "      <td>101.08</td>\n",
       "      <td>101.03</td>\n",
       "      <td>100.65</td>\n",
       "      <td>99.93</td>\n",
       "      <td>99.75</td>\n",
       "      <td>100.22</td>\n",
       "      <td>100.57</td>\n",
       "      <td>101.70</td>\n",
       "      <td>...</td>\n",
       "      <td>100.04</td>\n",
       "      <td>100.18</td>\n",
       "      <td>100.90</td>\n",
       "      <td>100.54</td>\n",
       "      <td>100.35</td>\n",
       "      <td>100.09</td>\n",
       "      <td>100.84</td>\n",
       "      <td>100.54</td>\n",
       "      <td>100.72</td>\n",
       "      <td>100.51</td>\n",
       "    </tr>\n",
       "    <tr>\n",
       "      <th>4</th>\n",
       "      <td>1991-04-01</td>\n",
       "      <td>101.80</td>\n",
       "      <td>101.12</td>\n",
       "      <td>101.02</td>\n",
       "      <td>100.76</td>\n",
       "      <td>99.37</td>\n",
       "      <td>99.06</td>\n",
       "      <td>100.50</td>\n",
       "      <td>100.40</td>\n",
       "      <td>101.09</td>\n",
       "      <td>...</td>\n",
       "      <td>100.20</td>\n",
       "      <td>100.06</td>\n",
       "      <td>100.93</td>\n",
       "      <td>100.49</td>\n",
       "      <td>100.95</td>\n",
       "      <td>100.47</td>\n",
       "      <td>100.51</td>\n",
       "      <td>100.14</td>\n",
       "      <td>100.74</td>\n",
       "      <td>100.37</td>\n",
       "    </tr>\n",
       "    <tr>\n",
       "      <th>5</th>\n",
       "      <td>1991-05-01</td>\n",
       "      <td>102.45</td>\n",
       "      <td>101.50</td>\n",
       "      <td>101.25</td>\n",
       "      <td>100.80</td>\n",
       "      <td>99.58</td>\n",
       "      <td>99.12</td>\n",
       "      <td>100.71</td>\n",
       "      <td>100.38</td>\n",
       "      <td>99.76</td>\n",
       "      <td>...</td>\n",
       "      <td>100.40</td>\n",
       "      <td>100.10</td>\n",
       "      <td>100.81</td>\n",
       "      <td>100.60</td>\n",
       "      <td>100.73</td>\n",
       "      <td>100.28</td>\n",
       "      <td>100.94</td>\n",
       "      <td>100.33</td>\n",
       "      <td>100.89</td>\n",
       "      <td>100.42</td>\n",
       "    </tr>\n",
       "  </tbody>\n",
       "</table>\n",
       "<p>5 rows × 21 columns</p>\n",
       "</div>"
      ],
      "text/plain": [
       "       Month  East North Central\\n(NSA)  East North Central\\n(SA)  \\\n",
       "1 1991-01-01                     100.00                    100.00   \n",
       "2 1991-02-01                     101.04                    101.12   \n",
       "3 1991-03-01                     101.41                    101.08   \n",
       "4 1991-04-01                     101.80                    101.12   \n",
       "5 1991-05-01                     102.45                    101.50   \n",
       "\n",
       "   East South Central\\n(NSA)  East South Central\\n(SA)  \\\n",
       "1                     100.00                    100.00   \n",
       "2                     100.93                    100.65   \n",
       "3                     101.03                    100.65   \n",
       "4                     101.02                    100.76   \n",
       "5                     101.25                    100.80   \n",
       "\n",
       "   Middle Atlantic\\n(NSA)  Middle Atlantic\\n(SA)  Mountain\\n\\n(NSA)  \\\n",
       "1                  100.00                 100.00             100.00   \n",
       "2                  100.08                 100.21              98.51   \n",
       "3                   99.93                  99.75             100.22   \n",
       "4                   99.37                  99.06             100.50   \n",
       "5                   99.58                  99.12             100.71   \n",
       "\n",
       "   Mountain\\n\\n(SA)  New England\\n\\n(NSA)     ...       Pacific\\n\\n(NSA)  \\\n",
       "1            100.00                100.00     ...                 100.00   \n",
       "2             98.70                102.07     ...                 100.25   \n",
       "3            100.57                101.70     ...                 100.04   \n",
       "4            100.40                101.09     ...                 100.20   \n",
       "5            100.38                 99.76     ...                 100.40   \n",
       "\n",
       "   Pacific\\n\\n(SA)  South Atlantic\\n(NSA)  South Atlantic\\n(SA)  \\\n",
       "1           100.00                 100.00                100.00   \n",
       "2           100.55                 100.49                100.43   \n",
       "3           100.18                 100.90                100.54   \n",
       "4           100.06                 100.93                100.49   \n",
       "5           100.10                 100.81                100.60   \n",
       "\n",
       "   West North Central\\n(NSA)  West North Central\\n(SA)  \\\n",
       "1                     100.00                    100.00   \n",
       "2                     100.69                    100.78   \n",
       "3                     100.35                    100.09   \n",
       "4                     100.95                    100.47   \n",
       "5                     100.73                    100.28   \n",
       "\n",
       "   West South Central\\n(NSA)  West South Central\\n(SA)  USA\\n\\n(NSA)  \\\n",
       "1                     100.00                    100.00        100.00   \n",
       "2                     100.02                     99.81        100.47   \n",
       "3                     100.84                    100.54        100.72   \n",
       "4                     100.51                    100.14        100.74   \n",
       "5                     100.94                    100.33        100.89   \n",
       "\n",
       "   USA\\n\\n(SA)  \n",
       "1       100.00  \n",
       "2       100.52  \n",
       "3       100.51  \n",
       "4       100.37  \n",
       "5       100.42  \n",
       "\n",
       "[5 rows x 21 columns]"
      ]
     },
     "execution_count": 468,
     "metadata": {},
     "output_type": "execute_result"
    }
   ],
   "source": [
    "#hpi = pd.read_excel('https://www.fhfa.gov/DataTools/Downloads/Documents/HPI/HPI_PO_monthly_hist.xls', header=0, skiprows=[0,1,2])\n",
    "hpi = pd.read_excel('HPI_PO_monthly_hist.xls', header=0, skiprows=[0,1,2])\n",
    "hpi = hpi.dropna()\n",
    "hpi.head()"
   ]
  },
  {
   "cell_type": "markdown",
   "metadata": {},
   "source": [
    "#### Converting HPI Month to date string"
   ]
  },
  {
   "cell_type": "code",
   "execution_count": 469,
   "metadata": {
    "collapsed": false
   },
   "outputs": [],
   "source": [
    "hpi['SaleMonth'] = hpi.Month.apply(lambda x: str(x.month)) + '/1/' + hpi.Month.apply(lambda x: str(x.year))"
   ]
  },
  {
   "cell_type": "markdown",
   "metadata": {},
   "source": [
    "#### Renaming target column (West North Central NSA) to simply HPI"
   ]
  },
  {
   "cell_type": "code",
   "execution_count": 470,
   "metadata": {
    "collapsed": true
   },
   "outputs": [],
   "source": [
    "hpi.rename(columns={'West North Central\\n(NSA)':'HPI'}, inplace=True)"
   ]
  },
  {
   "cell_type": "markdown",
   "metadata": {},
   "source": [
    "#### Keeping only the columns we need from HPI"
   ]
  },
  {
   "cell_type": "code",
   "execution_count": 471,
   "metadata": {
    "collapsed": false
   },
   "outputs": [],
   "source": [
    "hpi = hpi[['SaleMonth','HPI']]"
   ]
  },
  {
   "cell_type": "markdown",
   "metadata": {},
   "source": [
    "#### Joining sales data with HPI data on SaleMonth"
   ]
  },
  {
   "cell_type": "code",
   "execution_count": 472,
   "metadata": {
    "collapsed": true
   },
   "outputs": [],
   "source": [
    "eng_train = eng_train.merge(hpi, on='SaleMonth')\n",
    "eng_test = eng_test.merge(hpi, on='SaleMonth')"
   ]
  },
  {
   "cell_type": "markdown",
   "metadata": {},
   "source": [
    "#### Removing MoSold, YrSold, and SaleMonth"
   ]
  },
  {
   "cell_type": "code",
   "execution_count": 473,
   "metadata": {
    "collapsed": true
   },
   "outputs": [],
   "source": [
    "eng_train.drop(['MoSold','YrSold','SaleMonth'], axis=1, inplace=True)\n",
    "eng_test.drop(['MoSold','YrSold','SaleMonth'], axis=1, inplace=True)\n",
    "\n",
    "continuous.append('HPI')"
   ]
  },
  {
   "cell_type": "markdown",
   "metadata": {},
   "source": [
    "## Creating binary (one-hot) features from existing features"
   ]
  },
  {
   "cell_type": "markdown",
   "metadata": {},
   "source": [
    "#### Creating IrregularLot from LotShape where Reg = 0 else 1"
   ]
  },
  {
   "cell_type": "code",
   "execution_count": 474,
   "metadata": {
    "collapsed": true
   },
   "outputs": [],
   "source": [
    "eng_train['IrregularLot'] = 1.0\n",
    "eng_test['IrregularLot'] = 1.0\n",
    "eng_train.loc[eng_train.LotShape == 'Reg', 'IrregularLot'] = 0.0\n",
    "eng_test.loc[eng_test.LotShape == 'Reg', 'IrregularLot'] = 0.0\n",
    "\n",
    "binary = ['IrregularLot']"
   ]
  },
  {
   "cell_type": "markdown",
   "metadata": {},
   "source": [
    "#### Creating CornerLot from LotConfig where Corner = 1 else 0"
   ]
  },
  {
   "cell_type": "code",
   "execution_count": 475,
   "metadata": {
    "collapsed": false
   },
   "outputs": [],
   "source": [
    "eng_train['CornerLot'] = 0.0\n",
    "eng_test['CornerLot'] = 0.0\n",
    "eng_train.loc[eng_train.LotConfig == 'Corner', 'CornerLot'] = 1.0\n",
    "eng_test.loc[eng_test.LotConfig == 'Corner', 'CornerLot'] = 1.0\n",
    "\n",
    "binary.append('CornerLot')"
   ]
  },
  {
   "cell_type": "markdown",
   "metadata": {},
   "source": [
    "#### Creating CulDeSac from LotConfig where CulDeSac = 1 else 0"
   ]
  },
  {
   "cell_type": "code",
   "execution_count": 476,
   "metadata": {
    "collapsed": true
   },
   "outputs": [],
   "source": [
    "eng_train['CulDeSac'] = 0.0\n",
    "eng_test['CulDeSac'] = 0.0\n",
    "eng_train.loc[eng_train.LotConfig == 'CulDSac', 'CulDeSac'] = 1.0\n",
    "eng_test.loc[eng_test.LotConfig == 'CulDSac', 'CulDeSac'] = 1.0\n",
    "\n",
    "binary.append('CulDeSac')"
   ]
  },
  {
   "cell_type": "markdown",
   "metadata": {},
   "source": [
    "#### Creating BadLocation from Condition1 where Norm, PosN, or PosA = 0 else 1"
   ]
  },
  {
   "cell_type": "code",
   "execution_count": 477,
   "metadata": {
    "collapsed": false
   },
   "outputs": [],
   "source": [
    "eng_train['BadLocation'] = 1.0\n",
    "eng_test['BadLocation'] = 1.0\n",
    "eng_train.loc[(eng_train.Condition1 == 'Norm') | (eng_train.Condition1 == 'PosN') | (eng_train.Condition1 == 'PosA'),\n",
    "              'BadLocation'] = 0.0\n",
    "eng_test.loc[(eng_test.Condition1 == 'Norm') | (eng_test.Condition1 == 'PosN') | (eng_test.Condition1 == 'PosA'), \n",
    "             'BadLocation'] = 0.0\n",
    "\n",
    "binary.append('BadLocation')"
   ]
  },
  {
   "cell_type": "markdown",
   "metadata": {},
   "source": [
    "#### Creating NeedExterRepair from ExterCond where Fa or Po = 1 else 0"
   ]
  },
  {
   "cell_type": "code",
   "execution_count": 478,
   "metadata": {
    "collapsed": false
   },
   "outputs": [],
   "source": [
    "eng_train['NeedExterRepair'] = 0.0\n",
    "eng_test['NeedExterRepair'] = 0.0\n",
    "eng_train.loc[(eng_train.ExterCond == 'Fa') | (eng_train.ExterCond == 'Po'), 'NeedExterRepair'] = 1.0\n",
    "eng_test.loc[(eng_test.ExterCond == 'Fa') | (eng_test.ExterCond == 'Po'), 'NeedExterRepair'] = 1.0\n",
    "\n",
    "binary.append('NeedExterRepair')"
   ]
  },
  {
   "cell_type": "markdown",
   "metadata": {},
   "source": [
    "#### Creating NeedBsmtRepair from ExterCond where Fa or Po = 1 else 0"
   ]
  },
  {
   "cell_type": "code",
   "execution_count": 479,
   "metadata": {
    "collapsed": true
   },
   "outputs": [],
   "source": [
    "eng_train['NeedBsmtRepair'] = 0.0\n",
    "eng_test['NeedBsmtRepair'] = 0.0\n",
    "eng_train.loc[(eng_train.BsmtCond == 'Fa') | (eng_train.BsmtCond == 'Po'), 'NeedBsmtRepair'] = 1.0\n",
    "eng_test.loc[(eng_test.BsmtCond == 'Fa') | (eng_test.BsmtCond == 'Po'), 'NeedBsmtRepair'] = 1.0\n",
    "\n",
    "binary.append('NeedBsmtRepair')"
   ]
  },
  {
   "cell_type": "markdown",
   "metadata": {},
   "source": [
    "#### Creating HasWalkoutBsmt from BsmtExposure where Gd = 1 else 0"
   ]
  },
  {
   "cell_type": "code",
   "execution_count": 480,
   "metadata": {
    "collapsed": true
   },
   "outputs": [],
   "source": [
    "eng_train['HasWalkoutBsmt'] = 0.0\n",
    "eng_test['HasWalkoutBsmt'] = 0.0\n",
    "eng_train.loc[eng_train.BsmtExposure == 'Gd', 'HasWalkoutBsmt'] = 1.0\n",
    "eng_test.loc[eng_test.BsmtExposure == 'Gd', 'HasWalkoutBsmt'] = 1.0\n",
    "\n",
    "binary.append('HasWalkoutBsmt')"
   ]
  },
  {
   "cell_type": "markdown",
   "metadata": {},
   "source": [
    "#### Creating NeedHeatReplace from HeatingQC where Fa or Po = 1 else 0"
   ]
  },
  {
   "cell_type": "code",
   "execution_count": 481,
   "metadata": {
    "collapsed": true
   },
   "outputs": [],
   "source": [
    "eng_train['NeedHeatReplace'] = 0.0\n",
    "eng_test['NeedHeatReplace'] = 0.0\n",
    "eng_train.loc[(eng_train.HeatingQC == 'Fa') | (eng_train.HeatingQC == 'Po'), 'NeedHeatReplace'] = 1.0\n",
    "eng_test.loc[(eng_test.HeatingQC == 'Fa') | (eng_test.HeatingQC == 'Po'), 'NeedHeatReplace'] = 1.0\n",
    "\n",
    "binary.append('NeedHeatReplace')"
   ]
  },
  {
   "cell_type": "markdown",
   "metadata": {},
   "source": [
    "#### Creating NoAC from CentralAir where N = 1 else 0"
   ]
  },
  {
   "cell_type": "code",
   "execution_count": 482,
   "metadata": {
    "collapsed": true
   },
   "outputs": [],
   "source": [
    "eng_train['NoAC'] = 0.0\n",
    "eng_test['NoAC'] = 0.0\n",
    "eng_train.loc[eng_train.CentralAir == 'N', 'NoAC'] = 1.0\n",
    "eng_test.loc[eng_test.CentralAir == 'N', 'NoAC'] = 1.0\n",
    "\n",
    "binary.append('NoAC')"
   ]
  },
  {
   "cell_type": "markdown",
   "metadata": {},
   "source": [
    "#### Creating NeedElectricUpgrade from Electrical where SBrkr or FuseA = 0 else 1"
   ]
  },
  {
   "cell_type": "code",
   "execution_count": 483,
   "metadata": {
    "collapsed": true
   },
   "outputs": [],
   "source": [
    "eng_train['NeedElectricUpgrade'] = 1.0\n",
    "eng_test['NeedElectricUpgrade'] = 1.0\n",
    "eng_train.loc[(eng_train.Electrical == 'SBrkr') | (eng_train.Electrical == 'FuseA'), 'NeedElectricUpgrade'] = 0.0\n",
    "eng_test.loc[(eng_test.Electrical == 'SBrkr') | (eng_test.Electrical == 'FuseA'), 'NeedElectricUpgrade'] = 0.0\n",
    "\n",
    "binary.append('NeedElectricUpgrade')"
   ]
  },
  {
   "cell_type": "markdown",
   "metadata": {},
   "source": [
    "#### Creating HasMultiKitchens from KitchenAbvGr"
   ]
  },
  {
   "cell_type": "code",
   "execution_count": 484,
   "metadata": {
    "collapsed": true
   },
   "outputs": [],
   "source": [
    "eng_train['HasMultiKitchens'] = 0.0\n",
    "eng_test['HasMultiKitchens'] = 0.0\n",
    "eng_train.loc[eng_train.KitchenAbvGr > 1.0, 'HasMultiKitchens'] = 1.0\n",
    "eng_test.loc[eng_test.KitchenAbvGr > 1.0, 'HasMultiKitchens'] = 1.0\n",
    "\n",
    "binary.append('HasMultiKitchens')"
   ]
  },
  {
   "cell_type": "markdown",
   "metadata": {},
   "source": [
    "#### Creating HasHighEndKitchen from KitchenQual where Ex = 1 else 0"
   ]
  },
  {
   "cell_type": "code",
   "execution_count": 485,
   "metadata": {
    "collapsed": false
   },
   "outputs": [],
   "source": [
    "eng_train['HasHighEndKitchen'] = 0.0\n",
    "eng_test['HasHighEndKitchen'] = 0.0\n",
    "eng_train.loc[eng_train.KitchenQual == 'Ex', 'HasHighEndKitchen'] = 1.0\n",
    "eng_test.loc[eng_test.KitchenQual == 'Ex', 'HasHighEndKitchen'] = 1.0\n",
    "\n",
    "binary.append('HasHighEndKitchen')"
   ]
  },
  {
   "cell_type": "markdown",
   "metadata": {},
   "source": [
    "#### Creating NeedGeneralRepair from Functional where Typ = 0 else 1"
   ]
  },
  {
   "cell_type": "code",
   "execution_count": 486,
   "metadata": {
    "collapsed": true
   },
   "outputs": [],
   "source": [
    "eng_train['NeedGeneralRepair'] = 1.0\n",
    "eng_test['NeedGeneralRepair'] = 1.0\n",
    "eng_train.loc[eng_train.Functional == 'Typ', 'NeedGeneralRepair'] = 0.0\n",
    "eng_test.loc[eng_test.Functional == 'Typ', 'NeedGeneralRepair'] = 0.0\n",
    "\n",
    "binary.append('NeedGeneralRepair')"
   ]
  },
  {
   "cell_type": "markdown",
   "metadata": {},
   "source": [
    "#### Creating HasFireplace from Fireplaces"
   ]
  },
  {
   "cell_type": "code",
   "execution_count": 487,
   "metadata": {
    "collapsed": true
   },
   "outputs": [],
   "source": [
    "eng_train['HasFireplace'] = 0.0\n",
    "eng_test['HasFireplace'] = 0.0\n",
    "eng_train.loc[eng_train.Fireplaces > 0.0, 'HasFireplace'] = 1.0\n",
    "eng_test.loc[eng_test.Fireplaces > 0.0, 'HasFireplace'] = 1.0\n",
    "\n",
    "binary.append('HasFireplace')"
   ]
  },
  {
   "cell_type": "markdown",
   "metadata": {},
   "source": [
    "#### Creating NeedGarageRepair from GarageCond where Fa or Po = 1 else 0"
   ]
  },
  {
   "cell_type": "code",
   "execution_count": 488,
   "metadata": {
    "collapsed": true
   },
   "outputs": [],
   "source": [
    "eng_train['NeedGarageRepair'] = 0.0\n",
    "eng_test['NeedGarageRepair'] = 0.0\n",
    "eng_train.loc[(eng_train.GarageCond == 'Fa') | (eng_train.GarageCond == 'Po'), 'NeedGarageRepair'] = 1.0\n",
    "eng_test.loc[(eng_test.GarageCond == 'Fa') | (eng_test.GarageCond == 'Po'), 'NeedGarageRepair'] = 1.0\n",
    "\n",
    "binary.append('NeedGarageRepair')"
   ]
  },
  {
   "cell_type": "markdown",
   "metadata": {},
   "source": [
    "#### Creating HasDeck from WoodDeckSF"
   ]
  },
  {
   "cell_type": "code",
   "execution_count": 489,
   "metadata": {
    "collapsed": true
   },
   "outputs": [],
   "source": [
    "eng_train['HasDeck'] = 0.0\n",
    "eng_test['HasDeck'] = 0.0\n",
    "eng_train.loc[eng_train.WoodDeckSF > 0.0, 'HasDeck'] = 1.0\n",
    "eng_test.loc[eng_test.WoodDeckSF > 0.0, 'HasDeck'] = 1.0\n",
    "\n",
    "binary.append('HasDeck')"
   ]
  },
  {
   "cell_type": "markdown",
   "metadata": {},
   "source": [
    "#### Creating HasPorch from OpenPorchSF"
   ]
  },
  {
   "cell_type": "code",
   "execution_count": 490,
   "metadata": {
    "collapsed": true
   },
   "outputs": [],
   "source": [
    "eng_train['HasPorch'] = 0.0\n",
    "eng_test['HasPorch'] = 0.0\n",
    "eng_train.loc[eng_train.OpenPorchSF > 0.0, 'HasPorch'] = 1.0\n",
    "eng_test.loc[eng_test.OpenPorchSF > 0.0, 'HasPorch'] = 1.0\n",
    "\n",
    "binary.append('HasPorch')"
   ]
  },
  {
   "cell_type": "markdown",
   "metadata": {},
   "source": [
    "#### Creating HasEnclPorch from EnclosedPorch"
   ]
  },
  {
   "cell_type": "code",
   "execution_count": 491,
   "metadata": {
    "collapsed": true
   },
   "outputs": [],
   "source": [
    "eng_train['HasEnclPorch'] = 0.0\n",
    "eng_test['HasEnclPorch'] = 0.0\n",
    "eng_train.loc[eng_train.EnclosedPorch > 0.0, 'HasEnclPorch'] = 1.0\n",
    "eng_test.loc[eng_test.EnclosedPorch > 0.0, 'HasEnclPorch'] = 1.0\n",
    "\n",
    "binary.append('HasEnclPorch')"
   ]
  },
  {
   "cell_type": "markdown",
   "metadata": {},
   "source": [
    "#### Creating Has3SeasonRoom from 3SsnPorch"
   ]
  },
  {
   "cell_type": "code",
   "execution_count": 492,
   "metadata": {
    "collapsed": true
   },
   "outputs": [],
   "source": [
    "eng_train['Has3SeasonRoom'] = 0.0\n",
    "eng_test['Has3SeasonRoom'] = 0.0\n",
    "eng_train.loc[eng_train['3SsnPorch'] > 0.0, 'Has3SeasonRoom'] = 1.0\n",
    "eng_test.loc[eng_test['3SsnPorch'] > 0.0, 'Has3SeasonRoom'] = 1.0\n",
    "\n",
    "binary.append('Has3SeasonRoom')"
   ]
  },
  {
   "cell_type": "markdown",
   "metadata": {},
   "source": [
    "#### Creating HasScreenPorch from ScreenPorch"
   ]
  },
  {
   "cell_type": "code",
   "execution_count": 493,
   "metadata": {
    "collapsed": true
   },
   "outputs": [],
   "source": [
    "eng_train['HasScreenPorch'] = 0.0\n",
    "eng_test['HasScreenPorch'] = 0.0\n",
    "eng_train.loc[eng_train.ScreenPorch > 0.0, 'HasScreenPorch'] = 1.0\n",
    "eng_test.loc[eng_test.ScreenPorch > 0.0, 'HasScreenPorch'] = 1.0\n",
    "\n",
    "binary.append('HasScreenPorch')"
   ]
  },
  {
   "cell_type": "markdown",
   "metadata": {},
   "source": [
    "#### Creating HasPool from PoolArea"
   ]
  },
  {
   "cell_type": "code",
   "execution_count": 494,
   "metadata": {
    "collapsed": true
   },
   "outputs": [],
   "source": [
    "eng_train['HasPool'] = 0.0\n",
    "eng_test['HasPool'] = 0.0\n",
    "eng_train.loc[eng_train.PoolArea > 0.0, 'HasPool'] = 1.0\n",
    "eng_test.loc[eng_test.PoolArea > 0.0, 'HasPool'] = 1.0\n",
    "\n",
    "binary.append('HasPool')"
   ]
  },
  {
   "cell_type": "markdown",
   "metadata": {},
   "source": [
    "#### Creating HasShed from MiscFeature"
   ]
  },
  {
   "cell_type": "code",
   "execution_count": 495,
   "metadata": {
    "collapsed": true
   },
   "outputs": [],
   "source": [
    "eng_train['HasShed'] = 0.0\n",
    "eng_test['HasShed'] = 0.0\n",
    "eng_train.loc[eng_train.MiscFeature == 'Shed', 'HasShed'] = 1.0\n",
    "eng_test.loc[eng_test.MiscFeature == 'Shed', 'HasShed'] = 1.0\n",
    "\n",
    "binary.append('HasShed')"
   ]
  },
  {
   "cell_type": "markdown",
   "metadata": {},
   "source": [
    "## Creating new numeric features"
   ]
  },
  {
   "cell_type": "markdown",
   "metadata": {},
   "source": [
    "#### Creating feature to measure desirability of neighborhoods"
   ]
  },
  {
   "cell_type": "code",
   "execution_count": 496,
   "metadata": {
    "collapsed": true
   },
   "outputs": [],
   "source": [
    "# values obtained from the multiplier values on the City of Ames Residential Assessment Neighborhoods map\n",
    "# (http://www.cityofames.org/home/showdocument?id=1024)\n",
    "\n",
    "nbrhood_multiplier = {'Blmngtn': 105.,\n",
    "                      'Blueste':  99.,\n",
    "                      'BrDale':  102.,\n",
    "                      'BrkSide': 106.,\n",
    "                      'ClearCr': 103.,\n",
    "                      'CollgCr':  98.,\n",
    "                      'Crawfor': 106.,\n",
    "                      'Edwards':  98.,\n",
    "                      'Gilbert':  97.,\n",
    "                      'IDOTRR':  102.,\n",
    "                      'MeadowV':  90.,\n",
    "                      'Mitchel':  99.,\n",
    "                      'NAmes':   100.,\n",
    "                      'NPkVill': 109.,\n",
    "                      'NWAmes':   99.,\n",
    "                      'NoRidge': 101.,\n",
    "                      'NridgHt': 104.,\n",
    "                      'OldTown': 102.,\n",
    "                      'SWISU':    99.,\n",
    "                      'Sawyer':  101.,\n",
    "                      'SawyerW':  98.,\n",
    "                      'Somerst': 101.,\n",
    "                      'StoneBr': 104.,\n",
    "                      'Timber':  103.,\n",
    "                      'Veenker':  98.}"
   ]
  },
  {
   "cell_type": "code",
   "execution_count": 497,
   "metadata": {
    "collapsed": true
   },
   "outputs": [],
   "source": [
    "eng_train['NbrhoodMultiplier'] = eng_train.Neighborhood.map(nbrhood_multiplier)\n",
    "eng_test['NbrhoodMultiplier'] = eng_test.Neighborhood.map(nbrhood_multiplier)\n",
    "\n",
    "discrete.append('NbrhoodMultiplier')"
   ]
  },
  {
   "cell_type": "markdown",
   "metadata": {},
   "source": [
    "#### Creating BsmtFinSF from BsmtFinSF1 + BsmtFinSF2"
   ]
  },
  {
   "cell_type": "code",
   "execution_count": 498,
   "metadata": {
    "collapsed": true
   },
   "outputs": [],
   "source": [
    "eng_train['BsmtFinSF'] = eng_train.BsmtFinSF1 + eng_train.BsmtFinSF2\n",
    "eng_test['BsmtFinSF'] = eng_test.BsmtFinSF1 + eng_test.BsmtFinSF2\n",
    "\n",
    "continuous.append('BsmtFinSF')"
   ]
  },
  {
   "cell_type": "markdown",
   "metadata": {},
   "source": [
    "#### Combining all Bath features into one"
   ]
  },
  {
   "cell_type": "code",
   "execution_count": 499,
   "metadata": {
    "collapsed": true
   },
   "outputs": [],
   "source": [
    "eng_train['TotalBaths'] = eng_train.BsmtFullBath.fillna(0) + (eng_train.BsmtHalfBath.fillna(0) / 2) + eng_train.FullBath + \\\n",
    "                            (eng_train.HalfBath / 2)\n",
    "eng_test['TotalBaths'] = eng_test.BsmtFullBath.fillna(0) + (eng_test.BsmtHalfBath.fillna(0) / 2) + eng_test.FullBath + \\\n",
    "                            (eng_test.HalfBath / 2)\n",
    "\n",
    "discrete.append('TotalBaths')"
   ]
  },
  {
   "cell_type": "markdown",
   "metadata": {},
   "source": [
    "## Reducing levels in categorical features"
   ]
  },
  {
   "cell_type": "markdown",
   "metadata": {},
   "source": [
    "#### Reducing levels in BldgType"
   ]
  },
  {
   "cell_type": "code",
   "execution_count": 500,
   "metadata": {
    "collapsed": true
   },
   "outputs": [],
   "source": [
    "eng_train['BldgTypeSimple'] = 'multifam'\n",
    "eng_test['BldgTypeSimple'] = 'multifam'\n",
    "eng_train.loc[eng_train.BldgType == '1Fam', 'BldgTypeSimple'] = '1Fam'\n",
    "eng_test.loc[eng_test.BldgType == '1Fam', 'BldgTypeSimple'] = '1Fam'\n",
    "\n",
    "nominal.append('BldgTypeSimple')"
   ]
  },
  {
   "cell_type": "markdown",
   "metadata": {},
   "source": [
    "#### Reducing levels in SaleCondition"
   ]
  },
  {
   "cell_type": "code",
   "execution_count": 501,
   "metadata": {
    "collapsed": false
   },
   "outputs": [],
   "source": [
    "eng_train['SaleCondSimple'] = 'Partial'\n",
    "eng_test['SaleCondSimple'] = 'Partial'\n",
    "\n",
    "eng_train.loc[(eng_train.SaleCondition == 'Normal') | (eng_train.SaleCondition == 'Alloca'), 'SaleCondSimple'] = 'Normal'\n",
    "eng_test.loc[(eng_test.SaleCondition == 'Normal') | (eng_test.SaleCondition == 'Alloca'), 'SaleCondSimple'] = 'Normal'\n",
    "\n",
    "eng_train.loc[(eng_train.SaleCondition == 'Abnormal') | (eng_train.SaleCondition == 'Family') | \\\n",
    "              (eng_train.SaleCondition == 'AdjLand'), 'SaleCondSimple'] = 'Abnormal'\n",
    "eng_test.loc[(eng_test.SaleCondition == 'Abnormal') | (eng_test.SaleCondition == 'Family') | \\\n",
    "              (eng_test.SaleCondition == 'AdjLand'), 'SaleCondSimple'] = 'Abnormal'\n",
    "\n",
    "nominal.append('SaleCondSimple')"
   ]
  },
  {
   "cell_type": "markdown",
   "metadata": {},
   "source": [
    "## Impute Null Values"
   ]
  },
  {
   "cell_type": "markdown",
   "metadata": {},
   "source": [
    "#### Set Null GarageCars to 0 in test data"
   ]
  },
  {
   "cell_type": "code",
   "execution_count": 502,
   "metadata": {
    "collapsed": true
   },
   "outputs": [],
   "source": [
    "eng_test.loc[eng_test['GarageCars'].isnull(), 'GarageCars'] = 0.0"
   ]
  },
  {
   "cell_type": "markdown",
   "metadata": {},
   "source": [
    "#### Same thing for basement in test data"
   ]
  },
  {
   "cell_type": "code",
   "execution_count": 503,
   "metadata": {
    "collapsed": false
   },
   "outputs": [],
   "source": [
    "eng_test.loc[eng_test['BsmtFinSF'].isnull(), 'BsmtFinSF'] = 0.0\n",
    "eng_test.loc[eng_test['BsmtUnfSF'].isnull(), 'BsmtUnfSF'] = 0.0"
   ]
  },
  {
   "cell_type": "markdown",
   "metadata": {},
   "source": [
    "## Use log for skewed continuous variables and SalePrice"
   ]
  },
  {
   "cell_type": "code",
   "execution_count": 504,
   "metadata": {
    "collapsed": false
   },
   "outputs": [],
   "source": [
    "skew = pd.DataFrame({'skew': eng_train[continuous + ['SalePrice']].skew().values, \n",
    "                     'log_skew': eng_train[continuous + ['SalePrice']].apply(lambda x: np.log1p(x)).skew().values}, \n",
    "                      index=eng_train[continuous + ['SalePrice']].skew().index)"
   ]
  },
  {
   "cell_type": "code",
   "execution_count": 505,
   "metadata": {
    "collapsed": false
   },
   "outputs": [],
   "source": [
    "for col in skew.columns.values:\n",
    "    skew['abs_%s' % col] = skew[col].abs()"
   ]
  },
  {
   "cell_type": "code",
   "execution_count": 506,
   "metadata": {
    "collapsed": false
   },
   "outputs": [],
   "source": [
    "improved_skew = skew[skew.abs_log_skew < skew.abs_skew].index.tolist()"
   ]
  },
  {
   "cell_type": "code",
   "execution_count": 507,
   "metadata": {
    "collapsed": false
   },
   "outputs": [],
   "source": [
    "for feature in improved_skew:\n",
    "    eng_train[feature] = eng_train[feature].apply(lambda x: np.log1p(x))\n",
    "\n",
    "improved_skew.remove('SalePrice')\n",
    "for feature in improved_skew:\n",
    "    eng_test[feature] = eng_test[feature].apply(lambda x: np.log1p(x))"
   ]
  },
  {
   "cell_type": "markdown",
   "metadata": {},
   "source": [
    "## Keeping only the columns we want"
   ]
  },
  {
   "cell_type": "code",
   "execution_count": 509,
   "metadata": {
    "collapsed": false
   },
   "outputs": [],
   "source": [
    "features = nominal + ordinal + discrete + continuous + binary\n",
    "target = ['SalePrice']\n",
    "index = ['Id']\n",
    "\n",
    "eng_train = eng_train[features + target + index]\n",
    "eng_test = eng_test[features + index]"
   ]
  },
  {
   "cell_type": "markdown",
   "metadata": {},
   "source": [
    "## One hot encoding categorical features"
   ]
  },
  {
   "cell_type": "code",
   "execution_count": 510,
   "metadata": {
    "collapsed": false
   },
   "outputs": [],
   "source": [
    "one_hot_train = pd.get_dummies(eng_train, columns=nominal, dummy_na=False)\n",
    "one_hot_test  = pd.get_dummies(eng_test,  columns=nominal, dummy_na=False)"
   ]
  },
  {
   "cell_type": "code",
   "execution_count": 511,
   "metadata": {
    "collapsed": false
   },
   "outputs": [],
   "source": [
    "# remove columns from train that aren't also in test after encoding\n",
    "one_hot_train.drop(list(set(one_hot_train.columns) - set(one_hot_test.columns)), axis=1, inplace=True)"
   ]
  },
  {
   "cell_type": "code",
   "execution_count": 512,
   "metadata": {
    "collapsed": true
   },
   "outputs": [],
   "source": [
    "# remove columns from test that aren't also in train after encoding\n",
    "one_hot_test.drop(list(set(one_hot_test.columns) - set(one_hot_train.columns)), axis=1, inplace=True)"
   ]
  },
  {
   "cell_type": "code",
   "execution_count": 513,
   "metadata": {
    "collapsed": false
   },
   "outputs": [
    {
     "data": {
      "text/plain": [
       "True"
      ]
     },
     "execution_count": 513,
     "metadata": {},
     "output_type": "execute_result"
    }
   ],
   "source": [
    "len(one_hot_train.columns) == len(one_hot_test.columns)"
   ]
  },
  {
   "cell_type": "code",
   "execution_count": 514,
   "metadata": {
    "collapsed": true
   },
   "outputs": [],
   "source": [
    "# adding SalePrice back into train\n",
    "one_hot_train['SalePrice'] = eng_train.SalePrice"
   ]
  },
  {
   "cell_type": "code",
   "execution_count": 515,
   "metadata": {
    "collapsed": false
   },
   "outputs": [
    {
     "data": {
      "text/plain": [
       "(1453, 49)"
      ]
     },
     "execution_count": 515,
     "metadata": {},
     "output_type": "execute_result"
    }
   ],
   "source": [
    "one_hot_train.shape"
   ]
  },
  {
   "cell_type": "markdown",
   "metadata": {},
   "source": [
    "## Outputting for a quick check of the transformed data"
   ]
  },
  {
   "cell_type": "code",
   "execution_count": 516,
   "metadata": {
    "collapsed": true
   },
   "outputs": [],
   "source": [
    "one_hot_train.to_csv('one_hot_train.csv')"
   ]
  },
  {
   "cell_type": "markdown",
   "metadata": {},
   "source": [
    "# EXPLORING LINEAR MODELS"
   ]
  },
  {
   "cell_type": "markdown",
   "metadata": {},
   "source": [
    "## Random Selection Helper"
   ]
  },
  {
   "cell_type": "code",
   "execution_count": 517,
   "metadata": {
    "collapsed": true
   },
   "outputs": [],
   "source": [
    "class RandomSelectionHelper:\n",
    "    def __init__(self, models, params):\n",
    "        if not set(models.keys()).issubset(set(params.keys())):\n",
    "            missing_params = list(set(models.keys()) - set(params.keys()))\n",
    "            raise ValueError(\"Some estimators are missing parameters: %s\" % missing_params)\n",
    "        self.models = models\n",
    "        self.params = params\n",
    "        self.keys = models.keys()\n",
    "        self.random_searches = {}\n",
    "    \n",
    "    def fit(self, X, y, n_iter=60, cv=3, n_jobs=1, verbose=1, scoring=None, refit=True, random_state=None):\n",
    "        for key in self.keys:\n",
    "            print(\"Running RandomizedSearchCV for %s.\" % key)\n",
    "            model = self.models[key]\n",
    "            params = self.params[key]\n",
    "            rs = RandomizedSearchCV(model, params, n_iter=n_iter, cv=cv, n_jobs=n_jobs, \n",
    "                              verbose=verbose, scoring=scoring, refit=refit, random_state=random_state)\n",
    "            rs.fit(X,y)\n",
    "            self.random_searches[key] = rs\n",
    "    \n",
    "    def score_summary(self, sort_by='mean_score'):\n",
    "        def row(key, scores, params):\n",
    "            d = {\n",
    "                 'estimator': key,\n",
    "                 'min_score': np.min(scores),\n",
    "                 'max_score': np.max(scores),\n",
    "                 'mean_score': np.mean(scores),\n",
    "                 'std_score': np.std(scores),\n",
    "            }\n",
    "            return pd.Series(dict(params.items() + d.items()))\n",
    "                      \n",
    "        rows = [row(k, rsc.cv_validation_scores, rsc.parameters) \n",
    "                for k in self.keys\n",
    "                for rsc in self.random_searches[k].grid_scores_]\n",
    "        df = pd.concat(rows, axis=1).T.sort([sort_by], ascending=False)\n",
    "        \n",
    "        columns = ['estimator', 'min_score', 'mean_score', 'max_score', 'std_score']\n",
    "        columns = columns + [c for c in df.columns if c not in columns]\n",
    "        \n",
    "        return df[columns]"
   ]
  },
  {
   "cell_type": "markdown",
   "metadata": {},
   "source": [
    "## Features"
   ]
  },
  {
   "cell_type": "code",
   "execution_count": 557,
   "metadata": {
    "collapsed": false
   },
   "outputs": [],
   "source": [
    "features = one_hot_train.columns.tolist()\n",
    "features.remove('SalePrice')\n",
    "features.remove('Id')\n",
    "target = 'SalePrice'"
   ]
  },
  {
   "cell_type": "markdown",
   "metadata": {},
   "source": [
    "## Models to Search"
   ]
  },
  {
   "cell_type": "code",
   "execution_count": 520,
   "metadata": {
    "collapsed": false
   },
   "outputs": [],
   "source": [
    "models = { \n",
    "    'Ridge': linear_model.Ridge(),\n",
    "    'Lasso': linear_model.Lasso(),\n",
    "    'ElasticNet': linear_model.ElasticNet()\n",
    "}"
   ]
  },
  {
   "cell_type": "markdown",
   "metadata": {},
   "source": [
    "## Parameters to Search"
   ]
  },
  {
   "cell_type": "code",
   "execution_count": 554,
   "metadata": {
    "collapsed": false
   },
   "outputs": [],
   "source": [
    "params = { \n",
    "    'Ridge':      {'alpha': scipy.stats.expon(scale=3),\n",
    "                   'normalize': [True,False]},\n",
    "    'Lasso':      {'alpha': scipy.stats.expon(scale=3),\n",
    "                   'normalize': [True,False]},\n",
    "    'ElasticNet': {'alpha': scipy.stats.expon(scale=3),\n",
    "                   'l1_ratio': scipy.stats.uniform(0,1),\n",
    "                   'normalize': [True,False]}\n",
    "}"
   ]
  },
  {
   "cell_type": "markdown",
   "metadata": {},
   "source": [
    "## Fitting models for each of two BldgType classes"
   ]
  },
  {
   "cell_type": "markdown",
   "metadata": {},
   "source": [
    "### Features"
   ]
  },
  {
   "cell_type": "code",
   "execution_count": 559,
   "metadata": {
    "collapsed": false
   },
   "outputs": [],
   "source": [
    "bldgType_features = list(features)\n",
    "bldgType_features.remove('BldgTypeSimple_1Fam')\n",
    "bldgType_features.remove('BldgTypeSimple_multifam')"
   ]
  },
  {
   "cell_type": "markdown",
   "metadata": {},
   "source": [
    "### Single Family"
   ]
  },
  {
   "cell_type": "code",
   "execution_count": 560,
   "metadata": {
    "collapsed": true
   },
   "outputs": [],
   "source": [
    "single_family_X = one_hot_train.loc[one_hot_train.BldgTypeSimple_1Fam == 1, bldgType_features]\n",
    "single_family_y = one_hot_train.loc[one_hot_train.BldgTypeSimple_1Fam == 1, target]"
   ]
  },
  {
   "cell_type": "markdown",
   "metadata": {},
   "source": [
    "#### Fit Models"
   ]
  },
  {
   "cell_type": "code",
   "execution_count": 561,
   "metadata": {
    "collapsed": false
   },
   "outputs": [
    {
     "name": "stdout",
     "output_type": "stream",
     "text": [
      "Running RandomizedSearchCV for ElasticNet.\n",
      "Fitting 10 folds for each of 200 candidates, totalling 2000 fits\n"
     ]
    },
    {
     "name": "stderr",
     "output_type": "stream",
     "text": [
      "[Parallel(n_jobs=4)]: Done  46 tasks      | elapsed:   10.8s\n",
      "[Parallel(n_jobs=4)]: Done 624 tasks      | elapsed:   17.4s\n",
      "[Parallel(n_jobs=4)]: Done 1624 tasks      | elapsed:   28.5s\n",
      "[Parallel(n_jobs=4)]: Done 2000 out of 2000 | elapsed:   32.9s finished\n"
     ]
    },
    {
     "name": "stdout",
     "output_type": "stream",
     "text": [
      "Running RandomizedSearchCV for Ridge.\n",
      "Fitting 10 folds for each of 200 candidates, totalling 2000 fits\n"
     ]
    },
    {
     "name": "stderr",
     "output_type": "stream",
     "text": [
      "[Parallel(n_jobs=4)]: Done  46 tasks      | elapsed:    9.1s\n",
      "[Parallel(n_jobs=4)]: Done 2000 out of 2000 | elapsed:   29.7s finished\n"
     ]
    },
    {
     "name": "stdout",
     "output_type": "stream",
     "text": [
      "Running RandomizedSearchCV for Lasso.\n",
      "Fitting 10 folds for each of 200 candidates, totalling 2000 fits\n"
     ]
    },
    {
     "name": "stderr",
     "output_type": "stream",
     "text": [
      "[Parallel(n_jobs=4)]: Done  42 tasks      | elapsed:    9.1s\n",
      "[Parallel(n_jobs=4)]: Done 626 tasks      | elapsed:   17.1s\n",
      "[Parallel(n_jobs=4)]: Done 1626 tasks      | elapsed:   30.4s\n",
      "[Parallel(n_jobs=4)]: Done 2000 out of 2000 | elapsed:   35.3s finished\n"
     ]
    }
   ],
   "source": [
    "single_family = RandomSelectionHelper(models,params)\n",
    "single_family.fit(single_family_X, single_family_y, scoring='mean_squared_error', cv=10, n_iter=200, n_jobs=4)"
   ]
  },
  {
   "cell_type": "markdown",
   "metadata": {},
   "source": [
    "#### Compare Models"
   ]
  },
  {
   "cell_type": "code",
   "execution_count": 562,
   "metadata": {
    "collapsed": false
   },
   "outputs": [
    {
     "name": "stderr",
     "output_type": "stream",
     "text": [
      "C:\\Users\\jdoyle\\AppData\\Local\\Continuum\\Anaconda2\\lib\\site-packages\\ipykernel\\__main__.py:35: FutureWarning: sort(columns=....) is deprecated, use sort_values(by=.....)\n"
     ]
    },
    {
     "data": {
      "text/html": [
       "<div>\n",
       "<table border=\"1\" class=\"dataframe\">\n",
       "  <thead>\n",
       "    <tr style=\"text-align: right;\">\n",
       "      <th></th>\n",
       "      <th>estimator</th>\n",
       "      <th>min_score</th>\n",
       "      <th>mean_score</th>\n",
       "      <th>max_score</th>\n",
       "      <th>std_score</th>\n",
       "      <th>alpha</th>\n",
       "      <th>l1_ratio</th>\n",
       "      <th>normalize</th>\n",
       "    </tr>\n",
       "  </thead>\n",
       "  <tbody>\n",
       "    <tr>\n",
       "      <th>246</th>\n",
       "      <td>Ridge</td>\n",
       "      <td>-0.0210513</td>\n",
       "      <td>-0.0144752</td>\n",
       "      <td>-0.00853174</td>\n",
       "      <td>0.00370444</td>\n",
       "      <td>1.84502</td>\n",
       "      <td>NaN</td>\n",
       "      <td>False</td>\n",
       "    </tr>\n",
       "    <tr>\n",
       "      <th>373</th>\n",
       "      <td>Ridge</td>\n",
       "      <td>-0.0210505</td>\n",
       "      <td>-0.0144752</td>\n",
       "      <td>-0.00853202</td>\n",
       "      <td>0.00370424</td>\n",
       "      <td>1.8215</td>\n",
       "      <td>NaN</td>\n",
       "      <td>False</td>\n",
       "    </tr>\n",
       "    <tr>\n",
       "      <th>297</th>\n",
       "      <td>Ridge</td>\n",
       "      <td>-0.0210505</td>\n",
       "      <td>-0.0144752</td>\n",
       "      <td>-0.00853203</td>\n",
       "      <td>0.00370423</td>\n",
       "      <td>1.8209</td>\n",
       "      <td>NaN</td>\n",
       "      <td>False</td>\n",
       "    </tr>\n",
       "    <tr>\n",
       "      <th>331</th>\n",
       "      <td>Ridge</td>\n",
       "      <td>-0.0210474</td>\n",
       "      <td>-0.0144754</td>\n",
       "      <td>-0.00853331</td>\n",
       "      <td>0.00370337</td>\n",
       "      <td>1.7229</td>\n",
       "      <td>NaN</td>\n",
       "      <td>False</td>\n",
       "    </tr>\n",
       "    <tr>\n",
       "      <th>257</th>\n",
       "      <td>Ridge</td>\n",
       "      <td>-0.0210579</td>\n",
       "      <td>-0.0144756</td>\n",
       "      <td>-0.00852981</td>\n",
       "      <td>0.00370615</td>\n",
       "      <td>2.04503</td>\n",
       "      <td>NaN</td>\n",
       "      <td>False</td>\n",
       "    </tr>\n",
       "    <tr>\n",
       "      <th>222</th>\n",
       "      <td>Ridge</td>\n",
       "      <td>-0.0210424</td>\n",
       "      <td>-0.0144762</td>\n",
       "      <td>-0.00853594</td>\n",
       "      <td>0.00370187</td>\n",
       "      <td>1.55652</td>\n",
       "      <td>NaN</td>\n",
       "      <td>False</td>\n",
       "    </tr>\n",
       "    <tr>\n",
       "      <th>276</th>\n",
       "      <td>Ridge</td>\n",
       "      <td>-0.0210623</td>\n",
       "      <td>-0.0144763</td>\n",
       "      <td>-0.00852894</td>\n",
       "      <td>0.00370723</td>\n",
       "      <td>2.17557</td>\n",
       "      <td>NaN</td>\n",
       "      <td>False</td>\n",
       "    </tr>\n",
       "    <tr>\n",
       "      <th>348</th>\n",
       "      <td>Ridge</td>\n",
       "      <td>-0.0210413</td>\n",
       "      <td>-0.0144764</td>\n",
       "      <td>-0.00853661</td>\n",
       "      <td>0.00370152</td>\n",
       "      <td>1.51936</td>\n",
       "      <td>NaN</td>\n",
       "      <td>False</td>\n",
       "    </tr>\n",
       "    <tr>\n",
       "      <th>325</th>\n",
       "      <td>Ridge</td>\n",
       "      <td>-0.0210405</td>\n",
       "      <td>-0.0144767</td>\n",
       "      <td>-0.00853718</td>\n",
       "      <td>0.00370124</td>\n",
       "      <td>1.4889</td>\n",
       "      <td>NaN</td>\n",
       "      <td>False</td>\n",
       "    </tr>\n",
       "    <tr>\n",
       "      <th>253</th>\n",
       "      <td>Ridge</td>\n",
       "      <td>-0.0210397</td>\n",
       "      <td>-0.0144769</td>\n",
       "      <td>-0.00853769</td>\n",
       "      <td>0.00370099</td>\n",
       "      <td>1.46301</td>\n",
       "      <td>NaN</td>\n",
       "      <td>False</td>\n",
       "    </tr>\n",
       "    <tr>\n",
       "      <th>294</th>\n",
       "      <td>Ridge</td>\n",
       "      <td>-0.0210397</td>\n",
       "      <td>-0.0144769</td>\n",
       "      <td>-0.00853769</td>\n",
       "      <td>0.00370099</td>\n",
       "      <td>1.46295</td>\n",
       "      <td>NaN</td>\n",
       "      <td>False</td>\n",
       "    </tr>\n",
       "    <tr>\n",
       "      <th>364</th>\n",
       "      <td>Ridge</td>\n",
       "      <td>-0.0210657</td>\n",
       "      <td>-0.014477</td>\n",
       "      <td>-0.0085285</td>\n",
       "      <td>0.003708</td>\n",
       "      <td>2.27062</td>\n",
       "      <td>NaN</td>\n",
       "      <td>False</td>\n",
       "    </tr>\n",
       "    <tr>\n",
       "      <th>285</th>\n",
       "      <td>Ridge</td>\n",
       "      <td>-0.0210392</td>\n",
       "      <td>-0.0144771</td>\n",
       "      <td>-0.00853805</td>\n",
       "      <td>0.00370082</td>\n",
       "      <td>1.44477</td>\n",
       "      <td>NaN</td>\n",
       "      <td>False</td>\n",
       "    </tr>\n",
       "    <tr>\n",
       "      <th>332</th>\n",
       "      <td>Ridge</td>\n",
       "      <td>-0.0210667</td>\n",
       "      <td>-0.0144772</td>\n",
       "      <td>-0.0085284</td>\n",
       "      <td>0.00370823</td>\n",
       "      <td>2.29895</td>\n",
       "      <td>NaN</td>\n",
       "      <td>False</td>\n",
       "    </tr>\n",
       "    <tr>\n",
       "      <th>315</th>\n",
       "      <td>Ridge</td>\n",
       "      <td>-0.0210384</td>\n",
       "      <td>-0.0144774</td>\n",
       "      <td>-0.00853861</td>\n",
       "      <td>0.00370056</td>\n",
       "      <td>1.4173</td>\n",
       "      <td>NaN</td>\n",
       "      <td>False</td>\n",
       "    </tr>\n",
       "    <tr>\n",
       "      <th>203</th>\n",
       "      <td>Ridge</td>\n",
       "      <td>-0.021068</td>\n",
       "      <td>-0.0144776</td>\n",
       "      <td>-0.00852829</td>\n",
       "      <td>0.00370853</td>\n",
       "      <td>2.33636</td>\n",
       "      <td>NaN</td>\n",
       "      <td>False</td>\n",
       "    </tr>\n",
       "    <tr>\n",
       "      <th>311</th>\n",
       "      <td>Ridge</td>\n",
       "      <td>-0.0210373</td>\n",
       "      <td>-0.0144779</td>\n",
       "      <td>-0.00853949</td>\n",
       "      <td>0.00370017</td>\n",
       "      <td>1.37607</td>\n",
       "      <td>NaN</td>\n",
       "      <td>False</td>\n",
       "    </tr>\n",
       "    <tr>\n",
       "      <th>327</th>\n",
       "      <td>Ridge</td>\n",
       "      <td>-0.021036</td>\n",
       "      <td>-0.0144785</td>\n",
       "      <td>-0.0085406</td>\n",
       "      <td>0.00369969</td>\n",
       "      <td>1.32613</td>\n",
       "      <td>NaN</td>\n",
       "      <td>False</td>\n",
       "    </tr>\n",
       "    <tr>\n",
       "      <th>383</th>\n",
       "      <td>Ridge</td>\n",
       "      <td>-0.0210724</td>\n",
       "      <td>-0.0144788</td>\n",
       "      <td>-0.00852808</td>\n",
       "      <td>0.00370949</td>\n",
       "      <td>2.4578</td>\n",
       "      <td>NaN</td>\n",
       "      <td>False</td>\n",
       "    </tr>\n",
       "    <tr>\n",
       "      <th>243</th>\n",
       "      <td>Ridge</td>\n",
       "      <td>-0.0210352</td>\n",
       "      <td>-0.0144789</td>\n",
       "      <td>-0.00854125</td>\n",
       "      <td>0.00369941</td>\n",
       "      <td>1.29804</td>\n",
       "      <td>NaN</td>\n",
       "      <td>False</td>\n",
       "    </tr>\n",
       "  </tbody>\n",
       "</table>\n",
       "</div>"
      ],
      "text/plain": [
       "    estimator  min_score mean_score   max_score   std_score    alpha l1_ratio  \\\n",
       "246     Ridge -0.0210513 -0.0144752 -0.00853174  0.00370444  1.84502      NaN   \n",
       "373     Ridge -0.0210505 -0.0144752 -0.00853202  0.00370424   1.8215      NaN   \n",
       "297     Ridge -0.0210505 -0.0144752 -0.00853203  0.00370423   1.8209      NaN   \n",
       "331     Ridge -0.0210474 -0.0144754 -0.00853331  0.00370337   1.7229      NaN   \n",
       "257     Ridge -0.0210579 -0.0144756 -0.00852981  0.00370615  2.04503      NaN   \n",
       "222     Ridge -0.0210424 -0.0144762 -0.00853594  0.00370187  1.55652      NaN   \n",
       "276     Ridge -0.0210623 -0.0144763 -0.00852894  0.00370723  2.17557      NaN   \n",
       "348     Ridge -0.0210413 -0.0144764 -0.00853661  0.00370152  1.51936      NaN   \n",
       "325     Ridge -0.0210405 -0.0144767 -0.00853718  0.00370124   1.4889      NaN   \n",
       "253     Ridge -0.0210397 -0.0144769 -0.00853769  0.00370099  1.46301      NaN   \n",
       "294     Ridge -0.0210397 -0.0144769 -0.00853769  0.00370099  1.46295      NaN   \n",
       "364     Ridge -0.0210657  -0.014477  -0.0085285    0.003708  2.27062      NaN   \n",
       "285     Ridge -0.0210392 -0.0144771 -0.00853805  0.00370082  1.44477      NaN   \n",
       "332     Ridge -0.0210667 -0.0144772  -0.0085284  0.00370823  2.29895      NaN   \n",
       "315     Ridge -0.0210384 -0.0144774 -0.00853861  0.00370056   1.4173      NaN   \n",
       "203     Ridge  -0.021068 -0.0144776 -0.00852829  0.00370853  2.33636      NaN   \n",
       "311     Ridge -0.0210373 -0.0144779 -0.00853949  0.00370017  1.37607      NaN   \n",
       "327     Ridge  -0.021036 -0.0144785  -0.0085406  0.00369969  1.32613      NaN   \n",
       "383     Ridge -0.0210724 -0.0144788 -0.00852808  0.00370949   2.4578      NaN   \n",
       "243     Ridge -0.0210352 -0.0144789 -0.00854125  0.00369941  1.29804      NaN   \n",
       "\n",
       "    normalize  \n",
       "246     False  \n",
       "373     False  \n",
       "297     False  \n",
       "331     False  \n",
       "257     False  \n",
       "222     False  \n",
       "276     False  \n",
       "348     False  \n",
       "325     False  \n",
       "253     False  \n",
       "294     False  \n",
       "364     False  \n",
       "285     False  \n",
       "332     False  \n",
       "315     False  \n",
       "203     False  \n",
       "311     False  \n",
       "327     False  \n",
       "383     False  \n",
       "243     False  "
      ]
     },
     "execution_count": 562,
     "metadata": {},
     "output_type": "execute_result"
    }
   ],
   "source": [
    "single_family.score_summary(sort_by='mean_score').head(20)"
   ]
  },
  {
   "cell_type": "markdown",
   "metadata": {},
   "source": [
    "### Multi Family"
   ]
  },
  {
   "cell_type": "code",
   "execution_count": 565,
   "metadata": {
    "collapsed": true
   },
   "outputs": [],
   "source": [
    "multi_family_X = one_hot_train.loc[one_hot_train.BldgTypeSimple_multifam == 1, bldgType_features]\n",
    "multi_family_y = one_hot_train.loc[one_hot_train.BldgTypeSimple_multifam == 1, target]"
   ]
  },
  {
   "cell_type": "markdown",
   "metadata": {},
   "source": [
    "#### Fit Models"
   ]
  },
  {
   "cell_type": "code",
   "execution_count": 566,
   "metadata": {
    "collapsed": false
   },
   "outputs": [
    {
     "name": "stdout",
     "output_type": "stream",
     "text": [
      "Running RandomizedSearchCV for ElasticNet.\n",
      "Fitting 10 folds for each of 200 candidates, totalling 2000 fits\n"
     ]
    },
    {
     "name": "stderr",
     "output_type": "stream",
     "text": [
      "[Parallel(n_jobs=4)]: Done  49 tasks      | elapsed:    9.0s\n",
      "[Parallel(n_jobs=4)]: Done 1243 tasks      | elapsed:   13.9s\n",
      "[Parallel(n_jobs=4)]: Done 2000 out of 2000 | elapsed:   16.8s finished\n"
     ]
    },
    {
     "name": "stdout",
     "output_type": "stream",
     "text": [
      "Running RandomizedSearchCV for Ridge.\n",
      "Fitting 10 folds for each of 200 candidates, totalling 2000 fits\n"
     ]
    },
    {
     "name": "stderr",
     "output_type": "stream",
     "text": [
      "[Parallel(n_jobs=4)]: Done  49 tasks      | elapsed:    9.0s\n",
      "[Parallel(n_jobs=4)]: Done 2000 out of 2000 | elapsed:   23.2s finished\n"
     ]
    },
    {
     "name": "stdout",
     "output_type": "stream",
     "text": [
      "Running RandomizedSearchCV for Lasso.\n",
      "Fitting 10 folds for each of 200 candidates, totalling 2000 fits\n"
     ]
    },
    {
     "name": "stderr",
     "output_type": "stream",
     "text": [
      "[Parallel(n_jobs=4)]: Done  49 tasks      | elapsed:    8.9s\n",
      "[Parallel(n_jobs=4)]: Done 1541 tasks      | elapsed:   14.9s\n",
      "[Parallel(n_jobs=4)]: Done 2000 out of 2000 | elapsed:   16.6s finished\n"
     ]
    }
   ],
   "source": [
    "multi_family = RandomSelectionHelper(models,params)\n",
    "multi_family.fit(multi_family_X, multi_family_y, scoring='mean_squared_error', cv=10, n_iter=200, n_jobs=4)"
   ]
  },
  {
   "cell_type": "markdown",
   "metadata": {},
   "source": [
    "#### Compare Models"
   ]
  },
  {
   "cell_type": "code",
   "execution_count": 567,
   "metadata": {
    "collapsed": false
   },
   "outputs": [
    {
     "name": "stderr",
     "output_type": "stream",
     "text": [
      "C:\\Users\\jdoyle\\AppData\\Local\\Continuum\\Anaconda2\\lib\\site-packages\\ipykernel\\__main__.py:35: FutureWarning: sort(columns=....) is deprecated, use sort_values(by=.....)\n"
     ]
    },
    {
     "data": {
      "text/html": [
       "<div>\n",
       "<table border=\"1\" class=\"dataframe\">\n",
       "  <thead>\n",
       "    <tr style=\"text-align: right;\">\n",
       "      <th></th>\n",
       "      <th>estimator</th>\n",
       "      <th>min_score</th>\n",
       "      <th>mean_score</th>\n",
       "      <th>max_score</th>\n",
       "      <th>std_score</th>\n",
       "      <th>alpha</th>\n",
       "      <th>l1_ratio</th>\n",
       "      <th>normalize</th>\n",
       "    </tr>\n",
       "  </thead>\n",
       "  <tbody>\n",
       "    <tr>\n",
       "      <th>289</th>\n",
       "      <td>Ridge</td>\n",
       "      <td>-0.0197547</td>\n",
       "      <td>-0.0128436</td>\n",
       "      <td>-0.00433572</td>\n",
       "      <td>0.00394008</td>\n",
       "      <td>2.98715</td>\n",
       "      <td>NaN</td>\n",
       "      <td>False</td>\n",
       "    </tr>\n",
       "    <tr>\n",
       "      <th>231</th>\n",
       "      <td>Ridge</td>\n",
       "      <td>-0.0197443</td>\n",
       "      <td>-0.0128437</td>\n",
       "      <td>-0.0043382</td>\n",
       "      <td>0.00393912</td>\n",
       "      <td>2.93074</td>\n",
       "      <td>NaN</td>\n",
       "      <td>False</td>\n",
       "    </tr>\n",
       "    <tr>\n",
       "      <th>318</th>\n",
       "      <td>Ridge</td>\n",
       "      <td>-0.0197878</td>\n",
       "      <td>-0.0128452</td>\n",
       "      <td>-0.00433009</td>\n",
       "      <td>0.00394374</td>\n",
       "      <td>3.15471</td>\n",
       "      <td>NaN</td>\n",
       "      <td>False</td>\n",
       "    </tr>\n",
       "    <tr>\n",
       "      <th>274</th>\n",
       "      <td>Ridge</td>\n",
       "      <td>-0.0197878</td>\n",
       "      <td>-0.0128452</td>\n",
       "      <td>-0.00433009</td>\n",
       "      <td>0.00394374</td>\n",
       "      <td>3.15491</td>\n",
       "      <td>NaN</td>\n",
       "      <td>False</td>\n",
       "    </tr>\n",
       "    <tr>\n",
       "      <th>280</th>\n",
       "      <td>Ridge</td>\n",
       "      <td>-0.0197193</td>\n",
       "      <td>-0.0128455</td>\n",
       "      <td>-0.00434637</td>\n",
       "      <td>0.00393734</td>\n",
       "      <td>2.78131</td>\n",
       "      <td>NaN</td>\n",
       "      <td>False</td>\n",
       "    </tr>\n",
       "    <tr>\n",
       "      <th>393</th>\n",
       "      <td>Ridge</td>\n",
       "      <td>-0.0197111</td>\n",
       "      <td>-0.0128468</td>\n",
       "      <td>-0.00434991</td>\n",
       "      <td>0.00393701</td>\n",
       "      <td>2.72736</td>\n",
       "      <td>NaN</td>\n",
       "      <td>False</td>\n",
       "    </tr>\n",
       "    <tr>\n",
       "      <th>260</th>\n",
       "      <td>Ridge</td>\n",
       "      <td>-0.0197105</td>\n",
       "      <td>-0.0128469</td>\n",
       "      <td>-0.0043502</td>\n",
       "      <td>0.003937</td>\n",
       "      <td>2.72308</td>\n",
       "      <td>NaN</td>\n",
       "      <td>False</td>\n",
       "    </tr>\n",
       "    <tr>\n",
       "      <th>262</th>\n",
       "      <td>Ridge</td>\n",
       "      <td>-0.0198163</td>\n",
       "      <td>-0.012848</td>\n",
       "      <td>-0.00432737</td>\n",
       "      <td>0.00394734</td>\n",
       "      <td>3.28763</td>\n",
       "      <td>NaN</td>\n",
       "      <td>False</td>\n",
       "    </tr>\n",
       "    <tr>\n",
       "      <th>324</th>\n",
       "      <td>Ridge</td>\n",
       "      <td>-0.0198178</td>\n",
       "      <td>-0.0128482</td>\n",
       "      <td>-0.00432727</td>\n",
       "      <td>0.00394754</td>\n",
       "      <td>3.29441</td>\n",
       "      <td>NaN</td>\n",
       "      <td>False</td>\n",
       "    </tr>\n",
       "    <tr>\n",
       "      <th>359</th>\n",
       "      <td>Ridge</td>\n",
       "      <td>-0.0196925</td>\n",
       "      <td>-0.0128519</td>\n",
       "      <td>-0.00436082</td>\n",
       "      <td>0.00393708</td>\n",
       "      <td>2.5857</td>\n",
       "      <td>NaN</td>\n",
       "      <td>False</td>\n",
       "    </tr>\n",
       "    <tr>\n",
       "      <th>299</th>\n",
       "      <td>Ridge</td>\n",
       "      <td>-0.0198473</td>\n",
       "      <td>-0.0128523</td>\n",
       "      <td>-0.00432603</td>\n",
       "      <td>0.00395158</td>\n",
       "      <td>3.42408</td>\n",
       "      <td>NaN</td>\n",
       "      <td>False</td>\n",
       "    </tr>\n",
       "    <tr>\n",
       "      <th>338</th>\n",
       "      <td>Ridge</td>\n",
       "      <td>-0.0198492</td>\n",
       "      <td>-0.0128526</td>\n",
       "      <td>-0.004326</td>\n",
       "      <td>0.00395185</td>\n",
       "      <td>3.43231</td>\n",
       "      <td>NaN</td>\n",
       "      <td>False</td>\n",
       "    </tr>\n",
       "    <tr>\n",
       "      <th>252</th>\n",
       "      <td>Ridge</td>\n",
       "      <td>-0.0198534</td>\n",
       "      <td>-0.0128532</td>\n",
       "      <td>-0.00432594</td>\n",
       "      <td>0.00395244</td>\n",
       "      <td>3.45007</td>\n",
       "      <td>NaN</td>\n",
       "      <td>False</td>\n",
       "    </tr>\n",
       "    <tr>\n",
       "      <th>350</th>\n",
       "      <td>Ridge</td>\n",
       "      <td>-0.0198566</td>\n",
       "      <td>-0.0128537</td>\n",
       "      <td>-0.0043259</td>\n",
       "      <td>0.0039529</td>\n",
       "      <td>3.4639</td>\n",
       "      <td>NaN</td>\n",
       "      <td>False</td>\n",
       "    </tr>\n",
       "    <tr>\n",
       "      <th>320</th>\n",
       "      <td>Ridge</td>\n",
       "      <td>-0.0196862</td>\n",
       "      <td>-0.0128548</td>\n",
       "      <td>-0.00436585</td>\n",
       "      <td>0.00393754</td>\n",
       "      <td>2.52936</td>\n",
       "      <td>NaN</td>\n",
       "      <td>False</td>\n",
       "    </tr>\n",
       "    <tr>\n",
       "      <th>259</th>\n",
       "      <td>Ridge</td>\n",
       "      <td>-0.0198721</td>\n",
       "      <td>-0.0128563</td>\n",
       "      <td>-0.00432593</td>\n",
       "      <td>0.00395513</td>\n",
       "      <td>3.52856</td>\n",
       "      <td>NaN</td>\n",
       "      <td>False</td>\n",
       "    </tr>\n",
       "    <tr>\n",
       "      <th>321</th>\n",
       "      <td>Ridge</td>\n",
       "      <td>-0.0196822</td>\n",
       "      <td>-0.0128571</td>\n",
       "      <td>-0.00436969</td>\n",
       "      <td>0.00393803</td>\n",
       "      <td>2.4892</td>\n",
       "      <td>NaN</td>\n",
       "      <td>False</td>\n",
       "    </tr>\n",
       "    <tr>\n",
       "      <th>361</th>\n",
       "      <td>Ridge</td>\n",
       "      <td>-0.0198873</td>\n",
       "      <td>-0.012859</td>\n",
       "      <td>-0.00432623</td>\n",
       "      <td>0.00395736</td>\n",
       "      <td>3.59121</td>\n",
       "      <td>NaN</td>\n",
       "      <td>False</td>\n",
       "    </tr>\n",
       "    <tr>\n",
       "      <th>385</th>\n",
       "      <td>Ridge</td>\n",
       "      <td>-0.0196778</td>\n",
       "      <td>-0.0128604</td>\n",
       "      <td>-0.00437478</td>\n",
       "      <td>0.00393885</td>\n",
       "      <td>2.43904</td>\n",
       "      <td>NaN</td>\n",
       "      <td>False</td>\n",
       "    </tr>\n",
       "    <tr>\n",
       "      <th>249</th>\n",
       "      <td>Ridge</td>\n",
       "      <td>-0.0198953</td>\n",
       "      <td>-0.0128605</td>\n",
       "      <td>-0.00432649</td>\n",
       "      <td>0.00395855</td>\n",
       "      <td>3.6237</td>\n",
       "      <td>NaN</td>\n",
       "      <td>False</td>\n",
       "    </tr>\n",
       "  </tbody>\n",
       "</table>\n",
       "</div>"
      ],
      "text/plain": [
       "    estimator  min_score mean_score   max_score   std_score    alpha l1_ratio  \\\n",
       "289     Ridge -0.0197547 -0.0128436 -0.00433572  0.00394008  2.98715      NaN   \n",
       "231     Ridge -0.0197443 -0.0128437  -0.0043382  0.00393912  2.93074      NaN   \n",
       "318     Ridge -0.0197878 -0.0128452 -0.00433009  0.00394374  3.15471      NaN   \n",
       "274     Ridge -0.0197878 -0.0128452 -0.00433009  0.00394374  3.15491      NaN   \n",
       "280     Ridge -0.0197193 -0.0128455 -0.00434637  0.00393734  2.78131      NaN   \n",
       "393     Ridge -0.0197111 -0.0128468 -0.00434991  0.00393701  2.72736      NaN   \n",
       "260     Ridge -0.0197105 -0.0128469  -0.0043502    0.003937  2.72308      NaN   \n",
       "262     Ridge -0.0198163  -0.012848 -0.00432737  0.00394734  3.28763      NaN   \n",
       "324     Ridge -0.0198178 -0.0128482 -0.00432727  0.00394754  3.29441      NaN   \n",
       "359     Ridge -0.0196925 -0.0128519 -0.00436082  0.00393708   2.5857      NaN   \n",
       "299     Ridge -0.0198473 -0.0128523 -0.00432603  0.00395158  3.42408      NaN   \n",
       "338     Ridge -0.0198492 -0.0128526   -0.004326  0.00395185  3.43231      NaN   \n",
       "252     Ridge -0.0198534 -0.0128532 -0.00432594  0.00395244  3.45007      NaN   \n",
       "350     Ridge -0.0198566 -0.0128537  -0.0043259   0.0039529   3.4639      NaN   \n",
       "320     Ridge -0.0196862 -0.0128548 -0.00436585  0.00393754  2.52936      NaN   \n",
       "259     Ridge -0.0198721 -0.0128563 -0.00432593  0.00395513  3.52856      NaN   \n",
       "321     Ridge -0.0196822 -0.0128571 -0.00436969  0.00393803   2.4892      NaN   \n",
       "361     Ridge -0.0198873  -0.012859 -0.00432623  0.00395736  3.59121      NaN   \n",
       "385     Ridge -0.0196778 -0.0128604 -0.00437478  0.00393885  2.43904      NaN   \n",
       "249     Ridge -0.0198953 -0.0128605 -0.00432649  0.00395855   3.6237      NaN   \n",
       "\n",
       "    normalize  \n",
       "289     False  \n",
       "231     False  \n",
       "318     False  \n",
       "274     False  \n",
       "280     False  \n",
       "393     False  \n",
       "260     False  \n",
       "262     False  \n",
       "324     False  \n",
       "359     False  \n",
       "299     False  \n",
       "338     False  \n",
       "252     False  \n",
       "350     False  \n",
       "320     False  \n",
       "259     False  \n",
       "321     False  \n",
       "361     False  \n",
       "385     False  \n",
       "249     False  "
      ]
     },
     "execution_count": 567,
     "metadata": {},
     "output_type": "execute_result"
    }
   ],
   "source": [
    "multi_family.score_summary(sort_by='mean_score').head(20)"
   ]
  },
  {
   "cell_type": "markdown",
   "metadata": {},
   "source": [
    "## Fitting models for each of three SaleCondition classes"
   ]
  },
  {
   "cell_type": "markdown",
   "metadata": {},
   "source": [
    "### Features"
   ]
  },
  {
   "cell_type": "code",
   "execution_count": 568,
   "metadata": {
    "collapsed": true
   },
   "outputs": [],
   "source": [
    "saleCond_features = list(features)\n",
    "saleCond_features.remove('SaleCondSimple_Normal')\n",
    "saleCond_features.remove('SaleCondSimple_Abnormal')\n",
    "saleCond_features.remove('SaleCondSimple_Partial')"
   ]
  },
  {
   "cell_type": "markdown",
   "metadata": {},
   "source": [
    "### Normal Sale"
   ]
  },
  {
   "cell_type": "code",
   "execution_count": 569,
   "metadata": {
    "collapsed": true
   },
   "outputs": [],
   "source": [
    "normal_X = one_hot_train.loc[one_hot_train.SaleCondSimple_Normal == 1, saleCond_features]\n",
    "normal_y = one_hot_train.loc[one_hot_train.SaleCondSimple_Normal == 1, target]"
   ]
  },
  {
   "cell_type": "markdown",
   "metadata": {},
   "source": [
    "#### Fit Models"
   ]
  },
  {
   "cell_type": "code",
   "execution_count": 570,
   "metadata": {
    "collapsed": false
   },
   "outputs": [
    {
     "name": "stdout",
     "output_type": "stream",
     "text": [
      "Running RandomizedSearchCV for ElasticNet.\n",
      "Fitting 10 folds for each of 200 candidates, totalling 2000 fits\n"
     ]
    },
    {
     "name": "stderr",
     "output_type": "stream",
     "text": [
      "[Parallel(n_jobs=4)]: Done  42 tasks      | elapsed:   10.1s\n",
      "[Parallel(n_jobs=4)]: Done 592 tasks      | elapsed:   17.6s\n",
      "[Parallel(n_jobs=4)]: Done 1592 tasks      | elapsed:   31.5s\n",
      "[Parallel(n_jobs=4)]: Done 2000 out of 2000 | elapsed:   37.0s finished\n"
     ]
    },
    {
     "name": "stdout",
     "output_type": "stream",
     "text": [
      "Running RandomizedSearchCV for Ridge.\n",
      "Fitting 10 folds for each of 200 candidates, totalling 2000 fits\n"
     ]
    },
    {
     "name": "stderr",
     "output_type": "stream",
     "text": [
      "[Parallel(n_jobs=4)]: Done  43 tasks      | elapsed:    9.3s\n",
      "[Parallel(n_jobs=4)]: Done 1502 tasks      | elapsed:   27.5s\n",
      "[Parallel(n_jobs=4)]: Done 2000 out of 2000 | elapsed:   33.0s finished\n"
     ]
    },
    {
     "name": "stdout",
     "output_type": "stream",
     "text": [
      "Running RandomizedSearchCV for Lasso.\n",
      "Fitting 10 folds for each of 200 candidates, totalling 2000 fits\n"
     ]
    },
    {
     "name": "stderr",
     "output_type": "stream",
     "text": [
      "[Parallel(n_jobs=4)]: Done  42 tasks      | elapsed:    9.1s\n",
      "[Parallel(n_jobs=4)]: Done 1099 tasks      | elapsed:   20.5s\n",
      "[Parallel(n_jobs=4)]: Done 2000 out of 2000 | elapsed:   30.7s finished\n"
     ]
    }
   ],
   "source": [
    "normal = RandomSelectionHelper(models,params)\n",
    "normal.fit(normal_X, normal_y, scoring='mean_squared_error', cv=10, n_iter=200, n_jobs=4)"
   ]
  },
  {
   "cell_type": "markdown",
   "metadata": {},
   "source": [
    "#### Compare Models"
   ]
  },
  {
   "cell_type": "code",
   "execution_count": 571,
   "metadata": {
    "collapsed": false
   },
   "outputs": [
    {
     "name": "stderr",
     "output_type": "stream",
     "text": [
      "C:\\Users\\jdoyle\\AppData\\Local\\Continuum\\Anaconda2\\lib\\site-packages\\ipykernel\\__main__.py:35: FutureWarning: sort(columns=....) is deprecated, use sort_values(by=.....)\n"
     ]
    },
    {
     "data": {
      "text/html": [
       "<div>\n",
       "<table border=\"1\" class=\"dataframe\">\n",
       "  <thead>\n",
       "    <tr style=\"text-align: right;\">\n",
       "      <th></th>\n",
       "      <th>estimator</th>\n",
       "      <th>min_score</th>\n",
       "      <th>mean_score</th>\n",
       "      <th>max_score</th>\n",
       "      <th>std_score</th>\n",
       "      <th>alpha</th>\n",
       "      <th>l1_ratio</th>\n",
       "      <th>normalize</th>\n",
       "    </tr>\n",
       "  </thead>\n",
       "  <tbody>\n",
       "    <tr>\n",
       "      <th>278</th>\n",
       "      <td>Ridge</td>\n",
       "      <td>-0.0193578</td>\n",
       "      <td>-0.0101168</td>\n",
       "      <td>-0.00580209</td>\n",
       "      <td>0.0039237</td>\n",
       "      <td>1.57394</td>\n",
       "      <td>NaN</td>\n",
       "      <td>False</td>\n",
       "    </tr>\n",
       "    <tr>\n",
       "      <th>285</th>\n",
       "      <td>Ridge</td>\n",
       "      <td>-0.0193635</td>\n",
       "      <td>-0.0101169</td>\n",
       "      <td>-0.00580745</td>\n",
       "      <td>0.00392615</td>\n",
       "      <td>1.43769</td>\n",
       "      <td>NaN</td>\n",
       "      <td>False</td>\n",
       "    </tr>\n",
       "    <tr>\n",
       "      <th>289</th>\n",
       "      <td>Ridge</td>\n",
       "      <td>-0.0193652</td>\n",
       "      <td>-0.010117</td>\n",
       "      <td>-0.00580901</td>\n",
       "      <td>0.00392686</td>\n",
       "      <td>1.39979</td>\n",
       "      <td>NaN</td>\n",
       "      <td>False</td>\n",
       "    </tr>\n",
       "    <tr>\n",
       "      <th>350</th>\n",
       "      <td>Ridge</td>\n",
       "      <td>-0.0193539</td>\n",
       "      <td>-0.010117</td>\n",
       "      <td>-0.00579824</td>\n",
       "      <td>0.00392193</td>\n",
       "      <td>1.67837</td>\n",
       "      <td>NaN</td>\n",
       "      <td>False</td>\n",
       "    </tr>\n",
       "    <tr>\n",
       "      <th>209</th>\n",
       "      <td>Ridge</td>\n",
       "      <td>-0.0193534</td>\n",
       "      <td>-0.0101171</td>\n",
       "      <td>-0.00579772</td>\n",
       "      <td>0.00392169</td>\n",
       "      <td>1.69303</td>\n",
       "      <td>NaN</td>\n",
       "      <td>False</td>\n",
       "    </tr>\n",
       "    <tr>\n",
       "      <th>356</th>\n",
       "      <td>Ridge</td>\n",
       "      <td>-0.0193669</td>\n",
       "      <td>-0.0101171</td>\n",
       "      <td>-0.00581057</td>\n",
       "      <td>0.00392757</td>\n",
       "      <td>1.36278</td>\n",
       "      <td>NaN</td>\n",
       "      <td>False</td>\n",
       "    </tr>\n",
       "    <tr>\n",
       "      <th>388</th>\n",
       "      <td>Ridge</td>\n",
       "      <td>-0.0193669</td>\n",
       "      <td>-0.0101171</td>\n",
       "      <td>-0.00581058</td>\n",
       "      <td>0.00392757</td>\n",
       "      <td>1.36239</td>\n",
       "      <td>NaN</td>\n",
       "      <td>False</td>\n",
       "    </tr>\n",
       "    <tr>\n",
       "      <th>257</th>\n",
       "      <td>Ridge</td>\n",
       "      <td>-0.019353</td>\n",
       "      <td>-0.0101171</td>\n",
       "      <td>-0.00579736</td>\n",
       "      <td>0.00392152</td>\n",
       "      <td>1.70322</td>\n",
       "      <td>NaN</td>\n",
       "      <td>False</td>\n",
       "    </tr>\n",
       "    <tr>\n",
       "      <th>376</th>\n",
       "      <td>Ridge</td>\n",
       "      <td>-0.0193682</td>\n",
       "      <td>-0.0101172</td>\n",
       "      <td>-0.00581176</td>\n",
       "      <td>0.00392811</td>\n",
       "      <td>1.33492</td>\n",
       "      <td>NaN</td>\n",
       "      <td>False</td>\n",
       "    </tr>\n",
       "    <tr>\n",
       "      <th>304</th>\n",
       "      <td>Ridge</td>\n",
       "      <td>-0.0193683</td>\n",
       "      <td>-0.0101172</td>\n",
       "      <td>-0.00581187</td>\n",
       "      <td>0.00392816</td>\n",
       "      <td>1.33233</td>\n",
       "      <td>NaN</td>\n",
       "      <td>False</td>\n",
       "    </tr>\n",
       "    <tr>\n",
       "      <th>318</th>\n",
       "      <td>Ridge</td>\n",
       "      <td>-0.0193518</td>\n",
       "      <td>-0.0101173</td>\n",
       "      <td>-0.00579618</td>\n",
       "      <td>0.00392098</td>\n",
       "      <td>1.73696</td>\n",
       "      <td>NaN</td>\n",
       "      <td>False</td>\n",
       "    </tr>\n",
       "    <tr>\n",
       "      <th>367</th>\n",
       "      <td>Ridge</td>\n",
       "      <td>-0.0193695</td>\n",
       "      <td>-0.0101173</td>\n",
       "      <td>-0.00581289</td>\n",
       "      <td>0.00392862</td>\n",
       "      <td>1.3089</td>\n",
       "      <td>NaN</td>\n",
       "      <td>False</td>\n",
       "    </tr>\n",
       "    <tr>\n",
       "      <th>383</th>\n",
       "      <td>Ridge</td>\n",
       "      <td>-0.0193705</td>\n",
       "      <td>-0.0101175</td>\n",
       "      <td>-0.0058138</td>\n",
       "      <td>0.00392903</td>\n",
       "      <td>1.28822</td>\n",
       "      <td>NaN</td>\n",
       "      <td>False</td>\n",
       "    </tr>\n",
       "    <tr>\n",
       "      <th>392</th>\n",
       "      <td>Ridge</td>\n",
       "      <td>-0.0193503</td>\n",
       "      <td>-0.0101175</td>\n",
       "      <td>-0.00579468</td>\n",
       "      <td>0.00392028</td>\n",
       "      <td>1.78101</td>\n",
       "      <td>NaN</td>\n",
       "      <td>False</td>\n",
       "    </tr>\n",
       "    <tr>\n",
       "      <th>294</th>\n",
       "      <td>Ridge</td>\n",
       "      <td>-0.0193499</td>\n",
       "      <td>-0.0101176</td>\n",
       "      <td>-0.0057942</td>\n",
       "      <td>0.00392006</td>\n",
       "      <td>1.7952</td>\n",
       "      <td>NaN</td>\n",
       "      <td>False</td>\n",
       "    </tr>\n",
       "    <tr>\n",
       "      <th>255</th>\n",
       "      <td>Ridge</td>\n",
       "      <td>-0.0193487</td>\n",
       "      <td>-0.0101178</td>\n",
       "      <td>-0.00579298</td>\n",
       "      <td>0.0039195</td>\n",
       "      <td>1.832</td>\n",
       "      <td>NaN</td>\n",
       "      <td>False</td>\n",
       "    </tr>\n",
       "    <tr>\n",
       "      <th>250</th>\n",
       "      <td>Ridge</td>\n",
       "      <td>-0.0193734</td>\n",
       "      <td>-0.0101179</td>\n",
       "      <td>-0.00581642</td>\n",
       "      <td>0.00393022</td>\n",
       "      <td>1.22977</td>\n",
       "      <td>NaN</td>\n",
       "      <td>False</td>\n",
       "    </tr>\n",
       "    <tr>\n",
       "      <th>357</th>\n",
       "      <td>Ridge</td>\n",
       "      <td>-0.0193464</td>\n",
       "      <td>-0.0101184</td>\n",
       "      <td>-0.00579054</td>\n",
       "      <td>0.00391836</td>\n",
       "      <td>1.90834</td>\n",
       "      <td>NaN</td>\n",
       "      <td>False</td>\n",
       "    </tr>\n",
       "    <tr>\n",
       "      <th>344</th>\n",
       "      <td>Ridge</td>\n",
       "      <td>-0.0193775</td>\n",
       "      <td>-0.0101185</td>\n",
       "      <td>-0.00582003</td>\n",
       "      <td>0.00393186</td>\n",
       "      <td>1.15187</td>\n",
       "      <td>NaN</td>\n",
       "      <td>False</td>\n",
       "    </tr>\n",
       "    <tr>\n",
       "      <th>228</th>\n",
       "      <td>Ridge</td>\n",
       "      <td>-0.0193449</td>\n",
       "      <td>-0.0101188</td>\n",
       "      <td>-0.00578895</td>\n",
       "      <td>0.00391761</td>\n",
       "      <td>1.95998</td>\n",
       "      <td>NaN</td>\n",
       "      <td>False</td>\n",
       "    </tr>\n",
       "  </tbody>\n",
       "</table>\n",
       "</div>"
      ],
      "text/plain": [
       "    estimator  min_score mean_score   max_score   std_score    alpha l1_ratio  \\\n",
       "278     Ridge -0.0193578 -0.0101168 -0.00580209   0.0039237  1.57394      NaN   \n",
       "285     Ridge -0.0193635 -0.0101169 -0.00580745  0.00392615  1.43769      NaN   \n",
       "289     Ridge -0.0193652  -0.010117 -0.00580901  0.00392686  1.39979      NaN   \n",
       "350     Ridge -0.0193539  -0.010117 -0.00579824  0.00392193  1.67837      NaN   \n",
       "209     Ridge -0.0193534 -0.0101171 -0.00579772  0.00392169  1.69303      NaN   \n",
       "356     Ridge -0.0193669 -0.0101171 -0.00581057  0.00392757  1.36278      NaN   \n",
       "388     Ridge -0.0193669 -0.0101171 -0.00581058  0.00392757  1.36239      NaN   \n",
       "257     Ridge  -0.019353 -0.0101171 -0.00579736  0.00392152  1.70322      NaN   \n",
       "376     Ridge -0.0193682 -0.0101172 -0.00581176  0.00392811  1.33492      NaN   \n",
       "304     Ridge -0.0193683 -0.0101172 -0.00581187  0.00392816  1.33233      NaN   \n",
       "318     Ridge -0.0193518 -0.0101173 -0.00579618  0.00392098  1.73696      NaN   \n",
       "367     Ridge -0.0193695 -0.0101173 -0.00581289  0.00392862   1.3089      NaN   \n",
       "383     Ridge -0.0193705 -0.0101175  -0.0058138  0.00392903  1.28822      NaN   \n",
       "392     Ridge -0.0193503 -0.0101175 -0.00579468  0.00392028  1.78101      NaN   \n",
       "294     Ridge -0.0193499 -0.0101176  -0.0057942  0.00392006   1.7952      NaN   \n",
       "255     Ridge -0.0193487 -0.0101178 -0.00579298   0.0039195    1.832      NaN   \n",
       "250     Ridge -0.0193734 -0.0101179 -0.00581642  0.00393022  1.22977      NaN   \n",
       "357     Ridge -0.0193464 -0.0101184 -0.00579054  0.00391836  1.90834      NaN   \n",
       "344     Ridge -0.0193775 -0.0101185 -0.00582003  0.00393186  1.15187      NaN   \n",
       "228     Ridge -0.0193449 -0.0101188 -0.00578895  0.00391761  1.95998      NaN   \n",
       "\n",
       "    normalize  \n",
       "278     False  \n",
       "285     False  \n",
       "289     False  \n",
       "350     False  \n",
       "209     False  \n",
       "356     False  \n",
       "388     False  \n",
       "257     False  \n",
       "376     False  \n",
       "304     False  \n",
       "318     False  \n",
       "367     False  \n",
       "383     False  \n",
       "392     False  \n",
       "294     False  \n",
       "255     False  \n",
       "250     False  \n",
       "357     False  \n",
       "344     False  \n",
       "228     False  "
      ]
     },
     "execution_count": 571,
     "metadata": {},
     "output_type": "execute_result"
    }
   ],
   "source": [
    "normal.score_summary(sort_by='mean_score').head(20)"
   ]
  },
  {
   "cell_type": "markdown",
   "metadata": {},
   "source": [
    "### Abnormal Sales"
   ]
  },
  {
   "cell_type": "code",
   "execution_count": 572,
   "metadata": {
    "collapsed": true
   },
   "outputs": [],
   "source": [
    "abnormal_X = one_hot_train.loc[one_hot_train.SaleCondSimple_Abnormal == 1, saleCond_features]\n",
    "abnormal_y = one_hot_train.loc[one_hot_train.SaleCondSimple_Abnormal == 1, target]"
   ]
  },
  {
   "cell_type": "markdown",
   "metadata": {},
   "source": [
    "#### Fit Models"
   ]
  },
  {
   "cell_type": "code",
   "execution_count": 573,
   "metadata": {
    "collapsed": false
   },
   "outputs": [
    {
     "name": "stdout",
     "output_type": "stream",
     "text": [
      "Running RandomizedSearchCV for ElasticNet.\n",
      "Fitting 3 folds for each of 200 candidates, totalling 600 fits\n"
     ]
    },
    {
     "name": "stderr",
     "output_type": "stream",
     "text": [
      "[Parallel(n_jobs=4)]: Done  49 tasks      | elapsed:    9.6s\n",
      "[Parallel(n_jobs=4)]: Done 600 out of 600 | elapsed:   11.8s finished\n"
     ]
    },
    {
     "name": "stdout",
     "output_type": "stream",
     "text": [
      "Running RandomizedSearchCV for Ridge.\n",
      "Fitting 3 folds for each of 200 candidates, totalling 600 fits\n"
     ]
    },
    {
     "name": "stderr",
     "output_type": "stream",
     "text": [
      "[Parallel(n_jobs=4)]: Done  43 tasks      | elapsed:    9.1s\n",
      "[Parallel(n_jobs=4)]: Done 600 out of 600 | elapsed:   13.6s finished\n"
     ]
    },
    {
     "name": "stdout",
     "output_type": "stream",
     "text": [
      "Running RandomizedSearchCV for Lasso.\n",
      "Fitting 3 folds for each of 200 candidates, totalling 600 fits\n"
     ]
    },
    {
     "name": "stderr",
     "output_type": "stream",
     "text": [
      "[Parallel(n_jobs=4)]: Done  49 tasks      | elapsed:    9.0s\n",
      "[Parallel(n_jobs=4)]: Done 600 out of 600 | elapsed:   11.2s finished\n"
     ]
    }
   ],
   "source": [
    "abnormal = RandomSelectionHelper(models,params)\n",
    "abnormal.fit(abnormal_X, abnormal_y, scoring='mean_squared_error', cv=3, n_iter=200, n_jobs=4)"
   ]
  },
  {
   "cell_type": "markdown",
   "metadata": {},
   "source": [
    "#### Compare Models"
   ]
  },
  {
   "cell_type": "code",
   "execution_count": 574,
   "metadata": {
    "collapsed": false
   },
   "outputs": [
    {
     "name": "stderr",
     "output_type": "stream",
     "text": [
      "C:\\Users\\jdoyle\\AppData\\Local\\Continuum\\Anaconda2\\lib\\site-packages\\ipykernel\\__main__.py:35: FutureWarning: sort(columns=....) is deprecated, use sort_values(by=.....)\n"
     ]
    },
    {
     "data": {
      "text/html": [
       "<div>\n",
       "<table border=\"1\" class=\"dataframe\">\n",
       "  <thead>\n",
       "    <tr style=\"text-align: right;\">\n",
       "      <th></th>\n",
       "      <th>estimator</th>\n",
       "      <th>min_score</th>\n",
       "      <th>mean_score</th>\n",
       "      <th>max_score</th>\n",
       "      <th>std_score</th>\n",
       "      <th>alpha</th>\n",
       "      <th>l1_ratio</th>\n",
       "      <th>normalize</th>\n",
       "    </tr>\n",
       "  </thead>\n",
       "  <tbody>\n",
       "    <tr>\n",
       "      <th>67</th>\n",
       "      <td>ElasticNet</td>\n",
       "      <td>-0.117396</td>\n",
       "      <td>-0.0775064</td>\n",
       "      <td>-0.027452</td>\n",
       "      <td>0.0374163</td>\n",
       "      <td>6.08893</td>\n",
       "      <td>0.698398</td>\n",
       "      <td>False</td>\n",
       "    </tr>\n",
       "    <tr>\n",
       "      <th>567</th>\n",
       "      <td>Lasso</td>\n",
       "      <td>-0.117386</td>\n",
       "      <td>-0.077514</td>\n",
       "      <td>-0.0274696</td>\n",
       "      <td>0.0374062</td>\n",
       "      <td>4.22345</td>\n",
       "      <td>NaN</td>\n",
       "      <td>False</td>\n",
       "    </tr>\n",
       "    <tr>\n",
       "      <th>575</th>\n",
       "      <td>Lasso</td>\n",
       "      <td>-0.117432</td>\n",
       "      <td>-0.0776425</td>\n",
       "      <td>-0.0278779</td>\n",
       "      <td>0.0372344</td>\n",
       "      <td>4.3568</td>\n",
       "      <td>NaN</td>\n",
       "      <td>False</td>\n",
       "    </tr>\n",
       "    <tr>\n",
       "      <th>505</th>\n",
       "      <td>Lasso</td>\n",
       "      <td>-0.117366</td>\n",
       "      <td>-0.0776494</td>\n",
       "      <td>-0.0278662</td>\n",
       "      <td>0.0372252</td>\n",
       "      <td>4.16792</td>\n",
       "      <td>NaN</td>\n",
       "      <td>False</td>\n",
       "    </tr>\n",
       "    <tr>\n",
       "      <th>443</th>\n",
       "      <td>Lasso</td>\n",
       "      <td>-0.117456</td>\n",
       "      <td>-0.0777353</td>\n",
       "      <td>-0.0281678</td>\n",
       "      <td>0.0371107</td>\n",
       "      <td>4.4261</td>\n",
       "      <td>NaN</td>\n",
       "      <td>False</td>\n",
       "    </tr>\n",
       "    <tr>\n",
       "      <th>431</th>\n",
       "      <td>Lasso</td>\n",
       "      <td>-0.117474</td>\n",
       "      <td>-0.0778048</td>\n",
       "      <td>-0.0283849</td>\n",
       "      <td>0.0370181</td>\n",
       "      <td>4.47806</td>\n",
       "      <td>NaN</td>\n",
       "      <td>False</td>\n",
       "    </tr>\n",
       "    <tr>\n",
       "      <th>426</th>\n",
       "      <td>Lasso</td>\n",
       "      <td>-0.117495</td>\n",
       "      <td>-0.0778881</td>\n",
       "      <td>-0.028645</td>\n",
       "      <td>0.0369073</td>\n",
       "      <td>4.53977</td>\n",
       "      <td>NaN</td>\n",
       "      <td>False</td>\n",
       "    </tr>\n",
       "    <tr>\n",
       "      <th>412</th>\n",
       "      <td>Lasso</td>\n",
       "      <td>-0.117513</td>\n",
       "      <td>-0.0779587</td>\n",
       "      <td>-0.0288654</td>\n",
       "      <td>0.0368135</td>\n",
       "      <td>4.59159</td>\n",
       "      <td>NaN</td>\n",
       "      <td>False</td>\n",
       "    </tr>\n",
       "    <tr>\n",
       "      <th>531</th>\n",
       "      <td>Lasso</td>\n",
       "      <td>-0.117313</td>\n",
       "      <td>-0.0780658</td>\n",
       "      <td>-0.0290878</td>\n",
       "      <td>0.0366691</td>\n",
       "      <td>4.012</td>\n",
       "      <td>NaN</td>\n",
       "      <td>False</td>\n",
       "    </tr>\n",
       "    <tr>\n",
       "      <th>554</th>\n",
       "      <td>Lasso</td>\n",
       "      <td>-0.11754</td>\n",
       "      <td>-0.0780664</td>\n",
       "      <td>-0.029201</td>\n",
       "      <td>0.0366707</td>\n",
       "      <td>4.66976</td>\n",
       "      <td>NaN</td>\n",
       "      <td>False</td>\n",
       "    </tr>\n",
       "    <tr>\n",
       "      <th>521</th>\n",
       "      <td>Lasso</td>\n",
       "      <td>-0.117543</td>\n",
       "      <td>-0.0780788</td>\n",
       "      <td>-0.0292396</td>\n",
       "      <td>0.0366543</td>\n",
       "      <td>4.6787</td>\n",
       "      <td>NaN</td>\n",
       "      <td>False</td>\n",
       "    </tr>\n",
       "    <tr>\n",
       "      <th>481</th>\n",
       "      <td>Lasso</td>\n",
       "      <td>-0.117274</td>\n",
       "      <td>-0.0784069</td>\n",
       "      <td>-0.030089</td>\n",
       "      <td>0.0362149</td>\n",
       "      <td>3.89717</td>\n",
       "      <td>NaN</td>\n",
       "      <td>False</td>\n",
       "    </tr>\n",
       "    <tr>\n",
       "      <th>57</th>\n",
       "      <td>ElasticNet</td>\n",
       "      <td>-0.117639</td>\n",
       "      <td>-0.078465</td>\n",
       "      <td>-0.0304402</td>\n",
       "      <td>0.0361446</td>\n",
       "      <td>5.79152</td>\n",
       "      <td>0.854765</td>\n",
       "      <td>False</td>\n",
       "    </tr>\n",
       "    <tr>\n",
       "      <th>504</th>\n",
       "      <td>Lasso</td>\n",
       "      <td>-0.117242</td>\n",
       "      <td>-0.0787024</td>\n",
       "      <td>-0.0309584</td>\n",
       "      <td>0.0358214</td>\n",
       "      <td>3.8047</td>\n",
       "      <td>NaN</td>\n",
       "      <td>False</td>\n",
       "    </tr>\n",
       "    <tr>\n",
       "      <th>597</th>\n",
       "      <td>Lasso</td>\n",
       "      <td>-0.117239</td>\n",
       "      <td>-0.0787285</td>\n",
       "      <td>-0.0310351</td>\n",
       "      <td>0.0357867</td>\n",
       "      <td>3.79679</td>\n",
       "      <td>NaN</td>\n",
       "      <td>False</td>\n",
       "    </tr>\n",
       "    <tr>\n",
       "      <th>532</th>\n",
       "      <td>Lasso</td>\n",
       "      <td>-0.117725</td>\n",
       "      <td>-0.0788276</td>\n",
       "      <td>-0.0315641</td>\n",
       "      <td>0.0356691</td>\n",
       "      <td>5.19711</td>\n",
       "      <td>NaN</td>\n",
       "      <td>False</td>\n",
       "    </tr>\n",
       "    <tr>\n",
       "      <th>599</th>\n",
       "      <td>Lasso</td>\n",
       "      <td>-0.117219</td>\n",
       "      <td>-0.0789318</td>\n",
       "      <td>-0.031634</td>\n",
       "      <td>0.0355161</td>\n",
       "      <td>3.7367</td>\n",
       "      <td>NaN</td>\n",
       "      <td>False</td>\n",
       "    </tr>\n",
       "    <tr>\n",
       "      <th>19</th>\n",
       "      <td>ElasticNet</td>\n",
       "      <td>-0.117217</td>\n",
       "      <td>-0.0789431</td>\n",
       "      <td>-0.0316671</td>\n",
       "      <td>0.035501</td>\n",
       "      <td>4.7894</td>\n",
       "      <td>0.779214</td>\n",
       "      <td>False</td>\n",
       "    </tr>\n",
       "    <tr>\n",
       "      <th>549</th>\n",
       "      <td>Lasso</td>\n",
       "      <td>-0.117777</td>\n",
       "      <td>-0.0790474</td>\n",
       "      <td>-0.0322439</td>\n",
       "      <td>0.0353823</td>\n",
       "      <td>5.34248</td>\n",
       "      <td>NaN</td>\n",
       "      <td>False</td>\n",
       "    </tr>\n",
       "    <tr>\n",
       "      <th>424</th>\n",
       "      <td>Lasso</td>\n",
       "      <td>-0.117788</td>\n",
       "      <td>-0.0790953</td>\n",
       "      <td>-0.0323919</td>\n",
       "      <td>0.0353199</td>\n",
       "      <td>5.37375</td>\n",
       "      <td>NaN</td>\n",
       "      <td>False</td>\n",
       "    </tr>\n",
       "  </tbody>\n",
       "</table>\n",
       "</div>"
      ],
      "text/plain": [
       "      estimator min_score mean_score  max_score  std_score    alpha  l1_ratio  \\\n",
       "67   ElasticNet -0.117396 -0.0775064  -0.027452  0.0374163  6.08893  0.698398   \n",
       "567       Lasso -0.117386  -0.077514 -0.0274696  0.0374062  4.22345       NaN   \n",
       "575       Lasso -0.117432 -0.0776425 -0.0278779  0.0372344   4.3568       NaN   \n",
       "505       Lasso -0.117366 -0.0776494 -0.0278662  0.0372252  4.16792       NaN   \n",
       "443       Lasso -0.117456 -0.0777353 -0.0281678  0.0371107   4.4261       NaN   \n",
       "431       Lasso -0.117474 -0.0778048 -0.0283849  0.0370181  4.47806       NaN   \n",
       "426       Lasso -0.117495 -0.0778881  -0.028645  0.0369073  4.53977       NaN   \n",
       "412       Lasso -0.117513 -0.0779587 -0.0288654  0.0368135  4.59159       NaN   \n",
       "531       Lasso -0.117313 -0.0780658 -0.0290878  0.0366691    4.012       NaN   \n",
       "554       Lasso  -0.11754 -0.0780664  -0.029201  0.0366707  4.66976       NaN   \n",
       "521       Lasso -0.117543 -0.0780788 -0.0292396  0.0366543   4.6787       NaN   \n",
       "481       Lasso -0.117274 -0.0784069  -0.030089  0.0362149  3.89717       NaN   \n",
       "57   ElasticNet -0.117639  -0.078465 -0.0304402  0.0361446  5.79152  0.854765   \n",
       "504       Lasso -0.117242 -0.0787024 -0.0309584  0.0358214   3.8047       NaN   \n",
       "597       Lasso -0.117239 -0.0787285 -0.0310351  0.0357867  3.79679       NaN   \n",
       "532       Lasso -0.117725 -0.0788276 -0.0315641  0.0356691  5.19711       NaN   \n",
       "599       Lasso -0.117219 -0.0789318  -0.031634  0.0355161   3.7367       NaN   \n",
       "19   ElasticNet -0.117217 -0.0789431 -0.0316671   0.035501   4.7894  0.779214   \n",
       "549       Lasso -0.117777 -0.0790474 -0.0322439  0.0353823  5.34248       NaN   \n",
       "424       Lasso -0.117788 -0.0790953 -0.0323919  0.0353199  5.37375       NaN   \n",
       "\n",
       "    normalize  \n",
       "67      False  \n",
       "567     False  \n",
       "575     False  \n",
       "505     False  \n",
       "443     False  \n",
       "431     False  \n",
       "426     False  \n",
       "412     False  \n",
       "531     False  \n",
       "554     False  \n",
       "521     False  \n",
       "481     False  \n",
       "57      False  \n",
       "504     False  \n",
       "597     False  \n",
       "532     False  \n",
       "599     False  \n",
       "19      False  \n",
       "549     False  \n",
       "424     False  "
      ]
     },
     "execution_count": 574,
     "metadata": {},
     "output_type": "execute_result"
    }
   ],
   "source": [
    "abnormal.score_summary(sort_by='mean_score').head(20)"
   ]
  },
  {
   "cell_type": "markdown",
   "metadata": {},
   "source": [
    "### Partial Sales"
   ]
  },
  {
   "cell_type": "code",
   "execution_count": 575,
   "metadata": {
    "collapsed": true
   },
   "outputs": [],
   "source": [
    "partial_X = one_hot_train.loc[one_hot_train.SaleCondSimple_Partial == 1, saleCond_features]\n",
    "partial_y = one_hot_train.loc[one_hot_train.SaleCondSimple_Partial == 1, target]"
   ]
  },
  {
   "cell_type": "markdown",
   "metadata": {},
   "source": [
    "#### Fit Models"
   ]
  },
  {
   "cell_type": "code",
   "execution_count": 576,
   "metadata": {
    "collapsed": false
   },
   "outputs": [
    {
     "name": "stdout",
     "output_type": "stream",
     "text": [
      "Running RandomizedSearchCV for ElasticNet.\n",
      "Fitting 10 folds for each of 200 candidates, totalling 2000 fits\n"
     ]
    },
    {
     "name": "stderr",
     "output_type": "stream",
     "text": [
      "[Parallel(n_jobs=4)]: Done  49 tasks      | elapsed:    9.1s\n",
      "[Parallel(n_jobs=4)]: Done 1243 tasks      | elapsed:   14.4s\n",
      "[Parallel(n_jobs=4)]: Done 2000 out of 2000 | elapsed:   18.1s finished\n"
     ]
    },
    {
     "name": "stdout",
     "output_type": "stream",
     "text": [
      "Running RandomizedSearchCV for Ridge.\n",
      "Fitting 10 folds for each of 200 candidates, totalling 2000 fits\n"
     ]
    },
    {
     "name": "stderr",
     "output_type": "stream",
     "text": [
      "[Parallel(n_jobs=4)]: Done  45 tasks      | elapsed:    9.6s\n",
      "[Parallel(n_jobs=4)]: Done 1747 tasks      | elapsed:   22.2s\n",
      "[Parallel(n_jobs=4)]: Done 2000 out of 2000 | elapsed:   24.0s finished\n"
     ]
    },
    {
     "name": "stdout",
     "output_type": "stream",
     "text": [
      "Running RandomizedSearchCV for Lasso.\n",
      "Fitting 10 folds for each of 200 candidates, totalling 2000 fits\n"
     ]
    },
    {
     "name": "stderr",
     "output_type": "stream",
     "text": [
      "[Parallel(n_jobs=4)]: Done  49 tasks      | elapsed:    8.8s\n",
      "[Parallel(n_jobs=4)]: Done 1243 tasks      | elapsed:   13.8s\n",
      "[Parallel(n_jobs=4)]: Done 2000 out of 2000 | elapsed:   16.8s finished\n"
     ]
    }
   ],
   "source": [
    "partial = RandomSelectionHelper(models,params)\n",
    "partial.fit(partial_X, partial_y, scoring='mean_squared_error', cv=10, n_iter=200, n_jobs=4)"
   ]
  },
  {
   "cell_type": "markdown",
   "metadata": {},
   "source": [
    "#### Compare Models"
   ]
  },
  {
   "cell_type": "code",
   "execution_count": 577,
   "metadata": {
    "collapsed": false
   },
   "outputs": [
    {
     "name": "stderr",
     "output_type": "stream",
     "text": [
      "C:\\Users\\jdoyle\\AppData\\Local\\Continuum\\Anaconda2\\lib\\site-packages\\ipykernel\\__main__.py:35: FutureWarning: sort(columns=....) is deprecated, use sort_values(by=.....)\n"
     ]
    },
    {
     "data": {
      "text/html": [
       "<div>\n",
       "<table border=\"1\" class=\"dataframe\">\n",
       "  <thead>\n",
       "    <tr style=\"text-align: right;\">\n",
       "      <th></th>\n",
       "      <th>estimator</th>\n",
       "      <th>min_score</th>\n",
       "      <th>mean_score</th>\n",
       "      <th>max_score</th>\n",
       "      <th>std_score</th>\n",
       "      <th>alpha</th>\n",
       "      <th>l1_ratio</th>\n",
       "      <th>normalize</th>\n",
       "    </tr>\n",
       "  </thead>\n",
       "  <tbody>\n",
       "    <tr>\n",
       "      <th>248</th>\n",
       "      <td>Ridge</td>\n",
       "      <td>-0.0591961</td>\n",
       "      <td>-0.0340964</td>\n",
       "      <td>-0.0171533</td>\n",
       "      <td>0.0127358</td>\n",
       "      <td>15.6344</td>\n",
       "      <td>NaN</td>\n",
       "      <td>False</td>\n",
       "    </tr>\n",
       "    <tr>\n",
       "      <th>363</th>\n",
       "      <td>Ridge</td>\n",
       "      <td>-0.0591555</td>\n",
       "      <td>-0.0341193</td>\n",
       "      <td>-0.0170618</td>\n",
       "      <td>0.0127303</td>\n",
       "      <td>14.694</td>\n",
       "      <td>NaN</td>\n",
       "      <td>False</td>\n",
       "    </tr>\n",
       "    <tr>\n",
       "      <th>255</th>\n",
       "      <td>Ridge</td>\n",
       "      <td>-0.0589539</td>\n",
       "      <td>-0.0342324</td>\n",
       "      <td>-0.0167562</td>\n",
       "      <td>0.0127084</td>\n",
       "      <td>11.625</td>\n",
       "      <td>NaN</td>\n",
       "      <td>False</td>\n",
       "    </tr>\n",
       "    <tr>\n",
       "      <th>210</th>\n",
       "      <td>Ridge</td>\n",
       "      <td>-0.0588594</td>\n",
       "      <td>-0.034284</td>\n",
       "      <td>-0.0166572</td>\n",
       "      <td>0.0126997</td>\n",
       "      <td>10.6475</td>\n",
       "      <td>NaN</td>\n",
       "      <td>False</td>\n",
       "    </tr>\n",
       "    <tr>\n",
       "      <th>269</th>\n",
       "      <td>Ridge</td>\n",
       "      <td>-0.0587513</td>\n",
       "      <td>-0.034342</td>\n",
       "      <td>-0.0165631</td>\n",
       "      <td>0.0126904</td>\n",
       "      <td>9.72049</td>\n",
       "      <td>NaN</td>\n",
       "      <td>False</td>\n",
       "    </tr>\n",
       "    <tr>\n",
       "      <th>288</th>\n",
       "      <td>Ridge</td>\n",
       "      <td>-0.0587039</td>\n",
       "      <td>-0.034367</td>\n",
       "      <td>-0.0165269</td>\n",
       "      <td>0.0126866</td>\n",
       "      <td>9.36325</td>\n",
       "      <td>NaN</td>\n",
       "      <td>False</td>\n",
       "    </tr>\n",
       "    <tr>\n",
       "      <th>201</th>\n",
       "      <td>Ridge</td>\n",
       "      <td>-0.0586961</td>\n",
       "      <td>-0.0343712</td>\n",
       "      <td>-0.0165211</td>\n",
       "      <td>0.012686</td>\n",
       "      <td>9.30652</td>\n",
       "      <td>NaN</td>\n",
       "      <td>False</td>\n",
       "    </tr>\n",
       "    <tr>\n",
       "      <th>258</th>\n",
       "      <td>Ridge</td>\n",
       "      <td>-0.0584559</td>\n",
       "      <td>-0.0344946</td>\n",
       "      <td>-0.0163731</td>\n",
       "      <td>0.0126678</td>\n",
       "      <td>7.82739</td>\n",
       "      <td>NaN</td>\n",
       "      <td>False</td>\n",
       "    </tr>\n",
       "    <tr>\n",
       "      <th>108</th>\n",
       "      <td>ElasticNet</td>\n",
       "      <td>-0.0602537</td>\n",
       "      <td>-0.0345156</td>\n",
       "      <td>-0.0175329</td>\n",
       "      <td>0.0128969</td>\n",
       "      <td>0.0371294</td>\n",
       "      <td>0.100112</td>\n",
       "      <td>False</td>\n",
       "    </tr>\n",
       "    <tr>\n",
       "      <th>236</th>\n",
       "      <td>Ridge</td>\n",
       "      <td>-0.0583977</td>\n",
       "      <td>-0.0345238</td>\n",
       "      <td>-0.0163438</td>\n",
       "      <td>0.0126637</td>\n",
       "      <td>7.52843</td>\n",
       "      <td>NaN</td>\n",
       "      <td>False</td>\n",
       "    </tr>\n",
       "    <tr>\n",
       "      <th>252</th>\n",
       "      <td>Ridge</td>\n",
       "      <td>-0.0583361</td>\n",
       "      <td>-0.0345545</td>\n",
       "      <td>-0.0163151</td>\n",
       "      <td>0.0126594</td>\n",
       "      <td>7.23162</td>\n",
       "      <td>NaN</td>\n",
       "      <td>False</td>\n",
       "    </tr>\n",
       "    <tr>\n",
       "      <th>300</th>\n",
       "      <td>Ridge</td>\n",
       "      <td>-0.0583069</td>\n",
       "      <td>-0.0345689</td>\n",
       "      <td>-0.0163023</td>\n",
       "      <td>0.0126575</td>\n",
       "      <td>7.09746</td>\n",
       "      <td>NaN</td>\n",
       "      <td>False</td>\n",
       "    </tr>\n",
       "    <tr>\n",
       "      <th>396</th>\n",
       "      <td>Ridge</td>\n",
       "      <td>-0.0582502</td>\n",
       "      <td>-0.0345968</td>\n",
       "      <td>-0.0162786</td>\n",
       "      <td>0.0126537</td>\n",
       "      <td>6.8474</td>\n",
       "      <td>NaN</td>\n",
       "      <td>False</td>\n",
       "    </tr>\n",
       "    <tr>\n",
       "      <th>303</th>\n",
       "      <td>Ridge</td>\n",
       "      <td>-0.0582339</td>\n",
       "      <td>-0.0346047</td>\n",
       "      <td>-0.0162721</td>\n",
       "      <td>0.0126526</td>\n",
       "      <td>6.77801</td>\n",
       "      <td>NaN</td>\n",
       "      <td>False</td>\n",
       "    </tr>\n",
       "    <tr>\n",
       "      <th>360</th>\n",
       "      <td>Ridge</td>\n",
       "      <td>-0.0581196</td>\n",
       "      <td>-0.0346602</td>\n",
       "      <td>-0.01623</td>\n",
       "      <td>0.0126452</td>\n",
       "      <td>6.31914</td>\n",
       "      <td>NaN</td>\n",
       "      <td>False</td>\n",
       "    </tr>\n",
       "    <tr>\n",
       "      <th>246</th>\n",
       "      <td>Ridge</td>\n",
       "      <td>-0.0580246</td>\n",
       "      <td>-0.0347058</td>\n",
       "      <td>-0.0161993</td>\n",
       "      <td>0.0126393</td>\n",
       "      <td>5.97107</td>\n",
       "      <td>NaN</td>\n",
       "      <td>False</td>\n",
       "    </tr>\n",
       "    <tr>\n",
       "      <th>387</th>\n",
       "      <td>Ridge</td>\n",
       "      <td>-0.0579957</td>\n",
       "      <td>-0.0347196</td>\n",
       "      <td>-0.0161907</td>\n",
       "      <td>0.0126375</td>\n",
       "      <td>5.87058</td>\n",
       "      <td>NaN</td>\n",
       "      <td>False</td>\n",
       "    </tr>\n",
       "    <tr>\n",
       "      <th>229</th>\n",
       "      <td>Ridge</td>\n",
       "      <td>-0.0578921</td>\n",
       "      <td>-0.0347687</td>\n",
       "      <td>-0.0161623</td>\n",
       "      <td>0.0126313</td>\n",
       "      <td>5.52801</td>\n",
       "      <td>NaN</td>\n",
       "      <td>False</td>\n",
       "    </tr>\n",
       "    <tr>\n",
       "      <th>260</th>\n",
       "      <td>Ridge</td>\n",
       "      <td>-0.0578541</td>\n",
       "      <td>-0.0347866</td>\n",
       "      <td>-0.0161529</td>\n",
       "      <td>0.012629</td>\n",
       "      <td>5.409</td>\n",
       "      <td>NaN</td>\n",
       "      <td>False</td>\n",
       "    </tr>\n",
       "    <tr>\n",
       "      <th>239</th>\n",
       "      <td>Ridge</td>\n",
       "      <td>-0.0578287</td>\n",
       "      <td>-0.0347985</td>\n",
       "      <td>-0.0161468</td>\n",
       "      <td>0.0126276</td>\n",
       "      <td>5.33131</td>\n",
       "      <td>NaN</td>\n",
       "      <td>False</td>\n",
       "    </tr>\n",
       "  </tbody>\n",
       "</table>\n",
       "</div>"
      ],
      "text/plain": [
       "      estimator  min_score mean_score  max_score  std_score      alpha  \\\n",
       "248       Ridge -0.0591961 -0.0340964 -0.0171533  0.0127358    15.6344   \n",
       "363       Ridge -0.0591555 -0.0341193 -0.0170618  0.0127303     14.694   \n",
       "255       Ridge -0.0589539 -0.0342324 -0.0167562  0.0127084     11.625   \n",
       "210       Ridge -0.0588594  -0.034284 -0.0166572  0.0126997    10.6475   \n",
       "269       Ridge -0.0587513  -0.034342 -0.0165631  0.0126904    9.72049   \n",
       "288       Ridge -0.0587039  -0.034367 -0.0165269  0.0126866    9.36325   \n",
       "201       Ridge -0.0586961 -0.0343712 -0.0165211   0.012686    9.30652   \n",
       "258       Ridge -0.0584559 -0.0344946 -0.0163731  0.0126678    7.82739   \n",
       "108  ElasticNet -0.0602537 -0.0345156 -0.0175329  0.0128969  0.0371294   \n",
       "236       Ridge -0.0583977 -0.0345238 -0.0163438  0.0126637    7.52843   \n",
       "252       Ridge -0.0583361 -0.0345545 -0.0163151  0.0126594    7.23162   \n",
       "300       Ridge -0.0583069 -0.0345689 -0.0163023  0.0126575    7.09746   \n",
       "396       Ridge -0.0582502 -0.0345968 -0.0162786  0.0126537     6.8474   \n",
       "303       Ridge -0.0582339 -0.0346047 -0.0162721  0.0126526    6.77801   \n",
       "360       Ridge -0.0581196 -0.0346602   -0.01623  0.0126452    6.31914   \n",
       "246       Ridge -0.0580246 -0.0347058 -0.0161993  0.0126393    5.97107   \n",
       "387       Ridge -0.0579957 -0.0347196 -0.0161907  0.0126375    5.87058   \n",
       "229       Ridge -0.0578921 -0.0347687 -0.0161623  0.0126313    5.52801   \n",
       "260       Ridge -0.0578541 -0.0347866 -0.0161529   0.012629      5.409   \n",
       "239       Ridge -0.0578287 -0.0347985 -0.0161468  0.0126276    5.33131   \n",
       "\n",
       "     l1_ratio normalize  \n",
       "248       NaN     False  \n",
       "363       NaN     False  \n",
       "255       NaN     False  \n",
       "210       NaN     False  \n",
       "269       NaN     False  \n",
       "288       NaN     False  \n",
       "201       NaN     False  \n",
       "258       NaN     False  \n",
       "108  0.100112     False  \n",
       "236       NaN     False  \n",
       "252       NaN     False  \n",
       "300       NaN     False  \n",
       "396       NaN     False  \n",
       "303       NaN     False  \n",
       "360       NaN     False  \n",
       "246       NaN     False  \n",
       "387       NaN     False  \n",
       "229       NaN     False  \n",
       "260       NaN     False  \n",
       "239       NaN     False  "
      ]
     },
     "execution_count": 577,
     "metadata": {},
     "output_type": "execute_result"
    }
   ],
   "source": [
    "partial.score_summary(sort_by='mean_score').head(20)"
   ]
  },
  {
   "cell_type": "markdown",
   "metadata": {},
   "source": [
    "# FIT BLENDED MODELS TO TEST DATA"
   ]
  },
  {
   "cell_type": "markdown",
   "metadata": {},
   "source": [
    "## Using Normal Sales fit for normal sales and Single/Multi Family fits for other sales"
   ]
  },
  {
   "cell_type": "code",
   "execution_count": 579,
   "metadata": {
    "collapsed": false
   },
   "outputs": [],
   "source": [
    "best_normal = normal.random_searches['Ridge'].best_estimator_\n",
    "best_single = single_family.random_searches['Ridge'].best_estimator_\n",
    "best_multi  = multi_family.random_searches['Ridge'].best_estimator_\n",
    "\n",
    "predict_normal = best_normal.predict(one_hot_test[saleCond_features])\n",
    "predict_single = best_single.predict(one_hot_test[bldgType_features])\n",
    "predict_multi  = best_multi.predict(one_hot_test[bldgType_features])"
   ]
  },
  {
   "cell_type": "code",
   "execution_count": 581,
   "metadata": {
    "collapsed": false
   },
   "outputs": [],
   "source": [
    "submission = one_hot_test.loc[:,['Id','SaleCondSimple_Normal','BldgTypeSimple_1Fam']]\n",
    "submission['predict_normal'] = predict_normal\n",
    "submission['predict_single'] = predict_single\n",
    "submission['predict_multi'] = predict_multi"
   ]
  },
  {
   "cell_type": "code",
   "execution_count": 582,
   "metadata": {
    "collapsed": true
   },
   "outputs": [],
   "source": [
    "submission['SalePrice'] = 0.0\n",
    "submission.loc[submission.SaleCondSimple_Normal == 1, 'SalePrice'] = submission.predict_normal\n",
    "submission.loc[(submission.SaleCondSimple_Normal == 0) & (submission.BldgTypeSimple_1Fam == 1), 'SalePrice'] = submission.predict_single\n",
    "submission.loc[(submission.SaleCondSimple_Normal == 0) & (submission.BldgTypeSimple_1Fam == 0), 'SalePrice'] = submission.predict_multi"
   ]
  },
  {
   "cell_type": "code",
   "execution_count": 584,
   "metadata": {
    "collapsed": true
   },
   "outputs": [],
   "source": [
    "submission['SalePrice'] = submission.SalePrice.apply(lambda x: np.exp(x))"
   ]
  },
  {
   "cell_type": "code",
   "execution_count": 585,
   "metadata": {
    "collapsed": true
   },
   "outputs": [],
   "source": [
    "submission = submission.loc[:,['Id','SalePrice']]\n",
    "submission.to_csv('Ridge_Blend_JD_2016_12_27.csv', index=False)"
   ]
  },
  {
   "cell_type": "code",
   "execution_count": null,
   "metadata": {
    "collapsed": true
   },
   "outputs": [],
   "source": []
  }
 ],
 "metadata": {
  "anaconda-cloud": {},
  "kernelspec": {
   "display_name": "Python [conda root]",
   "language": "python",
   "name": "conda-root-py"
  },
  "language_info": {
   "codemirror_mode": {
    "name": "ipython",
    "version": 2
   },
   "file_extension": ".py",
   "mimetype": "text/x-python",
   "name": "python",
   "nbconvert_exporter": "python",
   "pygments_lexer": "ipython2",
   "version": "2.7.12"
  }
 },
 "nbformat": 4,
 "nbformat_minor": 1
}
